{
  "nbformat": 4,
  "nbformat_minor": 0,
  "metadata": {
    "colab": {
      "provenance": []
    },
    "kernelspec": {
      "name": "python3",
      "display_name": "Python 3"
    },
    "language_info": {
      "name": "python"
    }
  },
  "cells": [
    {
      "cell_type": "markdown",
      "source": [
        "##Eigenvalues and Eigenvectors\n",
        "\n",
        "Eigenvectors are unit vectors with length or magnitude equal to 1. Eigenvalues are coefficients applied to eigenvectors that give the vectors their length or magnitude.\n",
        "\n",
        "PCA uses eigendecomposition. A matrix is decomposed into:\n",
        "\n",
        "* A diagonal matrix formed from eigenvalues of the matrix\n",
        "\n",
        "* A matrix formed by the eigenvectors of the matrix\n",
        "\n",
        "Additionally, PCA is a method that: \n",
        "* Measures how each variable is associated with one another using a covariance matrix\n",
        "* Understands the directions of the spread of our data using eigenvectors\n",
        "* Brings out the relative importance of these directions using eigenvalues\n",
        "\n",
        "\n",
        "From CSE 801 Lecture 4 Slides: \n",
        "\n",
        "By finding the eigenvalues and eigenvectors of the covariance\n",
        "matrix of data, we find that the eigenvectors with the largest\n",
        "eigenvalues correspond to the dimensions that have the strongest\n",
        "correlation in the dataset.\n",
        "\n",
        "\n",
        "---"
      ],
      "metadata": {
        "id": "t_erxIf42K1T"
      }
    },
    {
      "cell_type": "markdown",
      "source": [
        "*Note: for the coding problems, you can use a preexisting function in either numpy or the numpy.linalg library to answer most/all of the parts.*\n",
        "\n",
        "*For reference:* https://numpy.org/doc/stable/reference/routines.linalg.html"
      ],
      "metadata": {
        "id": "JDKsKcyckDzw"
      }
    },
    {
      "cell_type": "markdown",
      "source": [
        "###Problem 1\n",
        "Given matrix A, and **using np and the np.linalg library**:\n",
        "\\begin{equation*}\n",
        "A = \n",
        "\\begin{bmatrix}\n",
        "1 & 3 \\\\\n",
        "6 & 2 \\\\\n",
        "\\end{bmatrix}\n",
        "\\end{equation*}\n",
        "a) Calculate the eigenvalues and eigenvectors for matrix A. Make sure you indicate which are the eigenvalues and which are the eigenvectors through a comment or print statement. \n",
        "\n",
        "b) Calculate the product of the eigenvalues of A which you found in part a. \n",
        "\n",
        "c) Geometrically, the determinant is seen as the volume scaling factor of the linear transformation defined by the matrix. They can be considered as functions of stretching out and the shrinking in of the matrices. Determinants take a square matrix as the input and return a single number as output.  Calculate the determinant of A, and write a few words comparing your answer to your answer in part b. \n",
        "\n",
        "d) Given any n × n real or complex matrix A, there is\n",
        "\n",
        "![image.png](data:image/png;base64,iVBORw0KGgoAAAANSUhEUgAAAHUAAAA3CAYAAAAylAXbAAAFF0lEQVR4nO2c25naRhSAf8V+N6SBoDSwSwWGrUC4AC+kAjYNeKkguw3ErAuI2QZsXIHZCowrAL/ljTwcTWYkS2gkjZCw5/8+fVx0G+bMnNscAR6Px+PxnCUj4Dp+fwm8AQbtNQd+afPmPwA9RKgzYI0I8wl432ajPPUYIYLcAJHx3aa1Fnmc0AcOxuf7ePOcMRNE9Sq2wBiYttMcb1Nd8JKkUH8Ddoi99ZwpEUkBRsC8pbZ4PJ6zIWi7AWdAgHi3Zl+lP+d9l8eh+BBPU6zj7eB48yFPizyiBfEZiUmD1EbGd0F87AgJeRZIQkJdaxfv97RAH4k7Xc2wED3zZzWvdVJcJrNbTYzHDEmqzomDa95wRqnEJXaZlEvsgvMV0qltsyCpOkMH13xEMk9FtOrM3mKnnkKkc9ZFB6LVXxfsj+kwfXRwvR7HB0cvvueOGtphhsygKoTAHrvOv0d3js2In+GmE+vSR36javviRPfdAl+qnrzATh1kscRulgYkO8bmHNWZLlReXSYk7WvV/iqDmgSVzNAT1Rqplp5sbjojKdQddjbjARk4XcDUNF9o3jQoc1Xq9/cQe3hAvLIxWkADJNZ6iajmkO8T2Gr02rBGBGTGfzau/Z+IGupKBsyMOVcnup/tBADgDt3IDfAJrRanxr5HZLSkdfwCO6dHjbghSTVmc+4V9jY4KxGQt1VlSFLj3NS4lg03VAinxhy3EQe0I3RLUhWskIFQxD06NgtIBvVFwvq9oH2KedyW9LbO2eoskamOVmakydCrkgq2EWrejFpTLFTlIJmq1oz9ihwmlVQ/hWNShhXJNGJTLNGaIcuG7xEzCejKBxub+JTzfYCM1GNMgRfABTLTb5EKAcVri/t3kSnwNX4f0kwGbIn0sVLxUcYxI4xJ9zx+DVKvY8Rubo0T9zk3tYlPr5HZ/M24x1dkoFwgjteE/NJK29KQSXw9Wz5RLwbeIwP0LdJn2+OHl2aJdlb7wN/IBHhrHHNJKuX4nCQXwAfE292nGpk3mzfx8XmE8f4rvu/ADfBP/P6afKEqe5U3sBRbZODYUjmojwmBv4A/cK9+HxB5KLW6A94hQg2Rts8RoQ/ImME9RGh38efVkX1pJmSr3xAZvct4/5ikegrjBu/Qdiki226+otwi9CnoI4JswvN9QAZwWp2rqOEGkcsdYgJyw6opMtI/ox0aVXlubmkvTyUf0h5s1rmzgv3K6UoL7x670OeUqJjbNSNEoHkp2w1JDbPCYhGlymxIC8w1m4avX5YH2h1kSkYDZAD0aMBJG9Pcj7zCvQNShwXi4HVh5WiOmLcRRkjjkkfcLCCbBMhgyXLj20Dlrl0IdIz4CnUYIEJtrM64j9hDl5XpC7qTyB8jAnWROeohdrELK0+F9HA7q7pS6T5Ee/B1CRFntGuO309FH5lVdR21IRKCqBCuMcevS3FfF+kjCRO1SpXVX3lJGbUi9YJsJ+ZXitOrngYwE/Yutybi2//xM/U4pg1NP3ZRh3Re3ePx/HQ8a7sBZ0YE/EvxalEWylmqcq6nQdTf6pRhhK7taiSV52mPNScSqv8jDztUGW1XctBHSVc+eLKZIzPtFolde+gYNs0TUn3xkZZSgV6oxagHlSJ0bJmo3iuBzwt0jC3JaoSyheJrTlTi6meqHRG6EC9CBFRUm9Sa+vXqwI4pUhH5DbGrZWJN9SzSFBHyloYfg/RCtWeECKRszlaVcIJ+0sCvpXo8Hs+Px39ElXoDbJ2VCQAAAABJRU5ErkJggg==)\n",
        "\n",
        "where λ1, ..., λn are the eigenvalues of A counted with multiplicity. This equation shows that the trace of a matrix is the sum of its eigenvalues. This holds true even if A is a real matrix and some (or all) of the eigenvalues are complex numbers. Calculate the trace of A. \n",
        "\n",
        "e) If possible, compute A*A using matrix multiplication (hint: dot product). If not, explain why it is not possible. "
      ],
      "metadata": {
        "id": "2_aeeG4CO7W0"
      }
    },
    {
      "cell_type": "code",
      "execution_count": null,
      "metadata": {
        "id": "YYZrBzXaOxvr",
        "colab": {
          "base_uri": "https://localhost:8080/"
        },
        "outputId": "e1dbb8b1-38af-44f0-bc3d-16b02a09e2ce"
      },
      "outputs": [
        {
          "output_type": "stream",
          "name": "stdout",
          "text": [
            "The eigenvalues of matrix A is [-2.77200187  5.77200187].\n",
            "\n",
            "The eigenvector of matrix A is [[-0.62246561 -0.53222953]\n",
            " [ 0.78264715 -0.8466001 ]].\n"
          ]
        }
      ],
      "source": [
        "import numpy as np \n",
        "from numpy.linalg import eig\n",
        "\n",
        "# Note: create matrix A using np.array\n",
        "A = np.array([[1,3],[6,2]])\n",
        "#  a) Calculate the eigenvalues and eigenvectors\n",
        "A_val, A_vec = np.linalg.eig(A)\n",
        "print(f\"The eigenvalues of matrix A is {A_val}.\\n\")\n",
        "print(f\"The eigenvector of matrix A is {A_vec}.\")"
      ]
    },
    {
      "cell_type": "code",
      "source": [
        "# b) Calculate the product of the eigenvalues of A which you found in part a\n",
        "product = A_val[0] * A_val[1]\n",
        "print(f\"The product of the eigenvalues of A {product}.\")"
      ],
      "metadata": {
        "colab": {
          "base_uri": "https://localhost:8080/"
        },
        "id": "fO1VK-i0r2RG",
        "outputId": "66359c44-b9e4-4ab6-f534-207fc0ed9c8d"
      },
      "execution_count": null,
      "outputs": [
        {
          "output_type": "stream",
          "name": "stdout",
          "text": [
            "The product of the eigenvalues of A -15.999999999999998.\n"
          ]
        }
      ]
    },
    {
      "cell_type": "code",
      "source": [
        "from numpy.linalg import det\n",
        "# c) determinant \n",
        "det_A = np.linalg.det(A)\n",
        "print(f\"The determinant of A is {det_A}.\")\n",
        "# write a few words comparing your answer to your answer in part b. \n",
        "print('The determinant of A is equal to The product of the eigenvalues of A.')\n"
      ],
      "metadata": {
        "colab": {
          "base_uri": "https://localhost:8080/"
        },
        "id": "NPZHE30Kta0k",
        "outputId": "68f5cb50-d1ea-4979-e39a-db73c318b2b7"
      },
      "execution_count": null,
      "outputs": [
        {
          "output_type": "stream",
          "name": "stdout",
          "text": [
            "The determinant of A is -15.999999999999998.\n",
            "The determinant of A is equal to The product of the eigenvalues of A.\n"
          ]
        }
      ]
    },
    {
      "cell_type": "code",
      "source": [
        "# d) Given any n × n real or complex matrix A\n",
        "cp_matrix_A = np.array([[1, 2, 3, 4], [2, 3, 4, 5],[3, 4, 5 ,6],[4, 5, 6, 7]])\n",
        "cp_matrix_A_val, cp_matrix_A_vec = np.linalg.eig(cp_matrix_A)\n",
        "def tr_cp_A(n):\n",
        "  tr_ap_A = 0\n",
        "  for i in n:\n",
        "    tr_ap_A =+ i\n",
        "  print(f'the trace of A is {tr_ap_A}')\n",
        "\n",
        "tr_cp_A(cp_matrix_A_val)"
      ],
      "metadata": {
        "id": "7LSaQ6k3vZpM",
        "colab": {
          "base_uri": "https://localhost:8080/"
        },
        "outputId": "d2dcc467-08d1-4a0d-8081-607165e87b06"
      },
      "execution_count": null,
      "outputs": [
        {
          "output_type": "stream",
          "name": "stdout",
          "text": [
            "the trace of A is 1.1028911954290379e-16\n"
          ]
        }
      ]
    },
    {
      "cell_type": "code",
      "source": [
        "# e) compute A*A using matrix multiplication (hint: dot product).\n",
        "A @ A"
      ],
      "metadata": {
        "colab": {
          "base_uri": "https://localhost:8080/"
        },
        "id": "polhNrHw07RS",
        "outputId": "c7cf9c97-993c-4732-80cd-fe540d5d2bff"
      },
      "execution_count": null,
      "outputs": [
        {
          "output_type": "execute_result",
          "data": {
            "text/plain": [
              "array([[19,  9],\n",
              "       [18, 22]])"
            ]
          },
          "metadata": {},
          "execution_count": 13
        }
      ]
    },
    {
      "cell_type": "markdown",
      "source": [
        "###Problem 2\n",
        "Given matrix B: \\begin{equation*}\n",
        "B = \n",
        "\\begin{bmatrix}\n",
        "4 & 2 & 1 \\\\\n",
        "6 & 0 & 7 \\\\\n",
        "3 & 1 & 3\n",
        "\\end{bmatrix}\n",
        "\\end{equation*}\n",
        "\n",
        "a) Calculate the eigenvalues and eigenvectors for matrix B. Make sure you indicate which are the eigenvalues and which are the eigenvectors through a comment or print statement. \n",
        "\n",
        "b) Calculate the determinant of B. \n",
        "\n",
        "c) If possible, perform matrix multiplication on A and B. If not, explain why it is not possible. \n"
      ],
      "metadata": {
        "id": "ICkl4xTVQJzO"
      }
    },
    {
      "cell_type": "markdown",
      "source": [
        "My answer: **No, if two matrices must be multiplied, the first matrix's column number must equal the row number of the second matrix.\n",
        "Matrix A is a 2x2 matrix, and Matrix B is a 3x3 matrix.\n",
        "As a result, they are unable to perform matrix multiplication.**"
      ],
      "metadata": {
        "id": "pPoEotkODRx-"
      }
    },
    {
      "cell_type": "code",
      "source": [
        "import numpy as np \n",
        "from numpy.linalg import eig\n",
        "\n",
        "\n",
        "# Note: create matrix A using np.array\n",
        "B = np.array([[4,2,1],[6,0,7],[3,1,3]])\n",
        "#  a) Calculate the eigenvalues and eigenvectors\n",
        "B_val, B_vec = np.linalg.eig(B)\n",
        "print(f\"The eigenvalues of matrix A is {B_val}.\\n\")\n",
        "print(f\"The eigenvector of matrix A is {B_vec}.\\n\")\n",
        "\n",
        "# b) Calculate the determinant of B.\n",
        "det_B = np.linalg.det(B)\n",
        "print(f\"The determinant of B is {det_B}.\")"
      ],
      "metadata": {
        "id": "cRZHvhuHQTuN",
        "colab": {
          "base_uri": "https://localhost:8080/"
        },
        "outputId": "a6ed0c81-9b15-4c30-bf89-62ecc39c4561"
      },
      "execution_count": null,
      "outputs": [
        {
          "output_type": "stream",
          "name": "stdout",
          "text": [
            "The eigenvalues of matrix A is [ 8.  1. -2.].\n",
            "\n",
            "The eigenvector of matrix A is [[-4.87088187e-01 -5.77350269e-01  3.16227766e-01]\n",
            " [-7.52772653e-01  5.77350269e-01 -9.48683298e-01]\n",
            " [-4.42807443e-01  5.77350269e-01 -4.82250065e-17]].\n",
            "\n",
            "The determinant of B is -15.999999999999998.\n"
          ]
        }
      ]
    },
    {
      "cell_type": "markdown",
      "source": [
        "###Problem 3 \n",
        "a) Explain what a diagonal matrix, identity matrix, and square matrix is. \n",
        "\n",
        "**My answer:** \n",
        "\n",
        "*A diagonal matrix is a matrix that only contains numbers on its diagonal.*\n",
        "\n",
        "*An identity matrix is a matrix with a diagonal number of one*\n",
        "\n",
        "*A square matrix is one that has the same row and column lengths* \n",
        "\n",
        "\n",
        "\n",
        "b) True or false: Non-square matrices can have eigenvalues and eigenvectors. Explain your answer.\n",
        "\n",
        "**My answer:** \n",
        "\n",
        "*False, Non-square matrices can not have eigenvalues(𝜆) and eigenvectors(𝒗). eigenvalues and eigenvectors must satisfy 𝑨𝒗 = 𝜆𝒗. The matrix A must be square in order to have the same dimension as v after multiplying by v.* \n",
        "\n",
        "\n",
        "\n",
        "c) True or false: If A is a square matrix and a non-zero vector v is an eigenvector of A, if there is a scalar (eigenvalue) λ such that Av = λv, A multiplying with the eigenvector changes its direction. Explain your answer.\n",
        "\n",
        "**My answer:** \n",
        "\n",
        "*False, If you multiply a matrix by an eigenvector, the only thing that changes is the size, not the direction.*\n"
      ],
      "metadata": {
        "id": "2bxBUmtn7G_X"
      }
    },
    {
      "cell_type": "markdown",
      "source": [
        "###Problem 4\n",
        "\n",
        "Explain how eigenvalues and eigenvectors relate to covariance in a few sentences (in your own words). \n"
      ],
      "metadata": {
        "id": "tBuvrDZQ8M4W"
      }
    },
    {
      "cell_type": "markdown",
      "source": [
        "\n",
        "**My answer:** \n",
        "\n",
        "*Covariance can show us the relationship of high dimensionals data and form a square matrix. Then we can use eigenvalues and eigenvectors to reduce the dimensionals of data*"
      ],
      "metadata": {
        "id": "8GSMDSrUJQ9V"
      }
    }
  ]
}