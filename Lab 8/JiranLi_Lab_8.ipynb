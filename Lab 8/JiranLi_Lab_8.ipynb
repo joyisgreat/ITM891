{
  "nbformat": 4,
  "nbformat_minor": 0,
  "metadata": {
    "colab": {
      "provenance": []
    },
    "kernelspec": {
      "name": "python3",
      "display_name": "Python 3"
    },
    "language_info": {
      "name": "python"
    }
  },
  "cells": [
    {
      "cell_type": "markdown",
      "source": [
        "# Loading Data\n",
        "\n",
        "1. Load mnist_test.csv from https://www.kaggle.com/datasets/oddrationale/mnist-in-csv?select=mnist_test.csv as data.\n",
        "\n",
        "2. Split data into X and y. X should have the shape as (10000,784) and y should have the shape as (10000,1).\n",
        "\n",
        "3. Split X and y into the train set (80%) and the test set (20%). The train set is for fitting your model while the test set is for evaluating your model. As a result, you will have X_train.shape as (8000,784), y_train.shape as (8000,1), X_test.shape as (2000,784),and y_test.shape as (2000,1). (Hint: use sklearn.model_selection.train_test_split.) "
      ],
      "metadata": {
        "id": "qtt-crrf_Kth"
      }
    },
    {
      "cell_type": "code",
      "source": [
        "import pandas as pd\n",
        "import numpy as np\n",
        "from sklearn.model_selection import train_test_split\n",
        "\n",
        "# Add your code to this \n",
        "\n",
        "data_pd = pd.read_csv(\"mnist_test.csv\")\n",
        "data_pd\n",
        "data = np.array(data_pd)\n",
        "\n",
        "X = data[:,1:]\n",
        "y = data[:,0]\n",
        "print(X.shape, y.shape)\n",
        "\n",
        "X_train, X_test, y_train, y_test = train_test_split(X, y, test_size=0.2)\n",
        "y_train = y_train.reshape(-1,1)\n",
        "y_test = y_test.reshape(-1,1)\n",
        "\n",
        "print(X_train.shape)\n",
        "print(X_test.shape)\n",
        "print(y_train.shape)\n",
        "print(y_test.shape)"
      ],
      "metadata": {
        "id": "OS8Q_A0PB10T",
        "colab": {
          "base_uri": "https://localhost:8080/"
        },
        "outputId": "8791d4db-9461-4b6f-ce80-47baaaadf858"
      },
      "execution_count": 2,
      "outputs": [
        {
          "output_type": "stream",
          "name": "stdout",
          "text": [
            "(10000, 784) (10000,)\n",
            "(8000, 784)\n",
            "(2000, 784)\n",
            "(8000, 1)\n",
            "(2000, 1)\n"
          ]
        }
      ]
    },
    {
      "cell_type": "markdown",
      "source": [
        "## Fitting and Evaluating Your Model\n",
        "1. Use sklearn.linear_model.RidgeClassifier to fit X_train and y_train to get a multi-class classification model. \n",
        "2. Test your model on (X_test, y_test) and get testing accuracy by using clf.score(X_test, y_test) assuming your model is named as \"clf\"."
      ],
      "metadata": {
        "id": "ZfyYzOYAB5gf"
      }
    },
    {
      "cell_type": "code",
      "source": [
        "from sklearn.linear_model import RidgeClassifier\n",
        "\n",
        "# Add your code here\n",
        "clf = RidgeClassifier()\n",
        "clf.fit(X_train, y_train)\n",
        "acc = clf.score(X_test, y_test)\n",
        "acc"
      ],
      "metadata": {
        "id": "vG6jxQQYefDR",
        "colab": {
          "base_uri": "https://localhost:8080/"
        },
        "outputId": "1033d322-d622-4d97-9d95-6699d0307b63"
      },
      "execution_count": 14,
      "outputs": [
        {
          "output_type": "stream",
          "name": "stderr",
          "text": [
            "/usr/local/lib/python3.8/dist-packages/sklearn/linear_model/_ridge.py:1059: DataConversionWarning: A column-vector y was passed when a 1d array was expected. Please change the shape of y to (n_samples, ), for example using ravel().\n",
            "  y = column_or_1d(y, warn=True)\n"
          ]
        },
        {
          "output_type": "execute_result",
          "data": {
            "text/plain": [
              "0.8445"
            ]
          },
          "metadata": {},
          "execution_count": 14
        }
      ]
    },
    {
      "cell_type": "markdown",
      "source": [
        "## Optimizing the RidgeClassifier\n",
        "1. In sklearn.linear_model.RidgeClassifier, there is one argument called \"alpha\" corresponding to the coefficient for the regularization. By default, alpha is equal to 1. There are benefits and drawbacks to having a large alpha. The larger is the alpha, the more likely you are going to have underfitting problems with your graph. Higher alpha does not necessarily mean better results. On the other hand, a low alpha may lead to overfitting problems and a more complicated model. \n",
        "\n",
        "  More information: https://towardsdatascience.com/preventing-overfitting-with-lasso-ridge-and-elastic-net-regularization-in-machine-learning-d1799b05d382\n",
        "\n",
        "  Please try different alpha to train your model and evaluate your model's test accuracy. Note: you cannot try number ranges such as (1-10) or (1-50), these numbers are too similar. (Hint: you'll want try alphas that are different powers of 10.) Out of what you chose, what is the best choice for alpha in MNIST classification?\n",
        "\n",
        "  **my answer: 10000000**\n",
        "\n"
      ],
      "metadata": {
        "id": "1W1rxcCZegU5"
      }
    },
    {
      "cell_type": "code",
      "source": [
        "# 1 \n",
        "# Add your code to this \n",
        "acc_best = 0\n",
        "for p in range(10): \n",
        "  clf = RidgeClassifier(alpha = 10**p)\n",
        "  clf.fit(X_train, y_train)\n",
        "  acc = clf.score(X_test, y_test)\n",
        "\n",
        "  if acc > acc_best:\n",
        "    acc_best = acc\n",
        "    clf_best = clf\n",
        "\n",
        "print(f\"\\nbest clf is {clf_best} with acc: {acc_best}\")"
      ],
      "metadata": {
        "id": "2OK0bA4IrY47",
        "colab": {
          "base_uri": "https://localhost:8080/"
        },
        "outputId": "971686f1-5ee1-4feb-b192-27cde4044502"
      },
      "execution_count": 21,
      "outputs": [
        {
          "output_type": "stream",
          "name": "stderr",
          "text": [
            "/usr/local/lib/python3.8/dist-packages/sklearn/linear_model/_ridge.py:1059: DataConversionWarning: A column-vector y was passed when a 1d array was expected. Please change the shape of y to (n_samples, ), for example using ravel().\n",
            "  y = column_or_1d(y, warn=True)\n",
            "/usr/local/lib/python3.8/dist-packages/sklearn/linear_model/_ridge.py:1059: DataConversionWarning: A column-vector y was passed when a 1d array was expected. Please change the shape of y to (n_samples, ), for example using ravel().\n",
            "  y = column_or_1d(y, warn=True)\n",
            "/usr/local/lib/python3.8/dist-packages/sklearn/linear_model/_ridge.py:1059: DataConversionWarning: A column-vector y was passed when a 1d array was expected. Please change the shape of y to (n_samples, ), for example using ravel().\n",
            "  y = column_or_1d(y, warn=True)\n",
            "/usr/local/lib/python3.8/dist-packages/sklearn/linear_model/_ridge.py:1059: DataConversionWarning: A column-vector y was passed when a 1d array was expected. Please change the shape of y to (n_samples, ), for example using ravel().\n",
            "  y = column_or_1d(y, warn=True)\n",
            "/usr/local/lib/python3.8/dist-packages/sklearn/linear_model/_ridge.py:1059: DataConversionWarning: A column-vector y was passed when a 1d array was expected. Please change the shape of y to (n_samples, ), for example using ravel().\n",
            "  y = column_or_1d(y, warn=True)\n",
            "/usr/local/lib/python3.8/dist-packages/sklearn/linear_model/_ridge.py:1059: DataConversionWarning: A column-vector y was passed when a 1d array was expected. Please change the shape of y to (n_samples, ), for example using ravel().\n",
            "  y = column_or_1d(y, warn=True)\n",
            "/usr/local/lib/python3.8/dist-packages/sklearn/linear_model/_ridge.py:1059: DataConversionWarning: A column-vector y was passed when a 1d array was expected. Please change the shape of y to (n_samples, ), for example using ravel().\n",
            "  y = column_or_1d(y, warn=True)\n",
            "/usr/local/lib/python3.8/dist-packages/sklearn/linear_model/_ridge.py:1059: DataConversionWarning: A column-vector y was passed when a 1d array was expected. Please change the shape of y to (n_samples, ), for example using ravel().\n",
            "  y = column_or_1d(y, warn=True)\n",
            "/usr/local/lib/python3.8/dist-packages/sklearn/linear_model/_ridge.py:1059: DataConversionWarning: A column-vector y was passed when a 1d array was expected. Please change the shape of y to (n_samples, ), for example using ravel().\n",
            "  y = column_or_1d(y, warn=True)\n"
          ]
        },
        {
          "output_type": "stream",
          "name": "stdout",
          "text": [
            "\n",
            "best clf is RidgeClassifier(alpha=10000000) with acc: 0.851\n"
          ]
        },
        {
          "output_type": "stream",
          "name": "stderr",
          "text": [
            "/usr/local/lib/python3.8/dist-packages/sklearn/linear_model/_ridge.py:1059: DataConversionWarning: A column-vector y was passed when a 1d array was expected. Please change the shape of y to (n_samples, ), for example using ravel().\n",
            "  y = column_or_1d(y, warn=True)\n"
          ]
        }
      ]
    },
    {
      "cell_type": "markdown",
      "source": [
        "2. Instead of fitting the full dimension (784) of data to the RidgeClassifier, you can apply PCA to the data (PCA over X with the shape 10000*784) to reduce the dimension from 784 to 100 (for example) and train another RidgeClassifier with 100-dimension features. \n",
        "\n",
        "  Typically, we want the explained variance to be between 95–99% (which is what we would set n_components to). With alpha=1, iterate through the array 0.95-0.99 ([0.95, 0.96, ...., 0.99]) and set n_components to the value you're currently on in the array. Each time, print the shape of X_reduced to get the number of components that are left from the second value in the tuple. For example, (10000, 168) has 168 components left. For further explanation, see the scikit learn PCA function documentation: \n",
        "  > if 0 < n_components < 1 and svd_solver == ‘full’, select the number of components such that the amount of variance that needs to be explained is greater than the percentage specified by n_components\n",
        " \n",
        "  Then, set n_components to 784 and run again. I should see the results from 0.95-0.99 variance as well as the result of running n_components = 784 in your answer. Then answer this question: what is the best reduced dimension number of components to get the highest test accuracy? (Hint: after applying PCA to 10000 samples, remember to split train and test.)\n",
        "  \n",
        "  More information on variance and PCA:  https://stackoverflow.com/questions/32857029/python-scikit-learn-pca-explained-variance-ratio-cutoff\n"
      ],
      "metadata": {
        "id": "bvvTUe9oL39c"
      }
    },
    {
      "cell_type": "code",
      "source": [
        "# 2 \n",
        "# Add your code to this \n",
        "from sklearn.decomposition import PCA\n",
        "\n",
        "acc_best = 0\n",
        "for i in [0.95,0.96,0.97,0.98,0.99]:\n",
        "  pca = PCA(n_components = i, svd_solver= 'full')\n",
        "  data_reduced = pca.fit_transform(X)\n",
        "  print(f\"when n_components is {i}, the shape of X_reduced is {data_reduced.shape}\")\n",
        "  y = y\n",
        "\n",
        "  Xr_train, Xr_test, yr_train, yr_test = train_test_split(data_reduced, y, test_size=0.2)\n",
        "  yr_train = yr_train.reshape(-1,1)\n",
        "  yr_test = yr_test.reshape(-1,1)\n",
        "\n",
        "\n",
        "  clf = RidgeClassifier(alpha = 1)\n",
        "  clf.fit(Xr_train, yr_train)\n",
        "  acc = clf.score(Xr_test, yr_test)\n",
        "  print(f\"the accuarcy is {acc}\")\n",
        "\n",
        "  if acc > acc_best:\n",
        "    acc_best = acc\n",
        "    best_shape = data_reduced.shape\n",
        "    best_components = i\n",
        "\n",
        "print(f\"\\n When alpha = 1, best n_components is {best_components} with acc: {acc_best}, and the best shape of is {best_shape} \")\n",
        "\n",
        "\n",
        "\n",
        "pca = PCA(n_components =784)\n",
        "data_reduced = pca.fit_transform(X)\n",
        "print(f\"\\nwhen n_components is {784}, the shape of X_reduced is {data_reduced.shape}\")\n",
        "y = y\n",
        "\n",
        "Xr_train, Xr_test, yr_train, yr_test = train_test_split(data_reduced, y, test_size=0.2)\n",
        "yr_train = yr_train.reshape(-1,1)\n",
        "yr_test = yr_test.reshape(-1,1)\n",
        "\n",
        "\n",
        "clf = RidgeClassifier(alpha = 1)\n",
        "clf.fit(Xr_train, yr_train)\n",
        "acc = clf.score(Xr_test, yr_test)\n",
        "print(f\"the accuarcy is {acc}\")\n"
      ],
      "metadata": {
        "colab": {
          "base_uri": "https://localhost:8080/"
        },
        "id": "HcO8k4dxPPLJ",
        "outputId": "f2023fef-1508-464c-bc77-20db5877e46d"
      },
      "execution_count": 22,
      "outputs": [
        {
          "output_type": "stream",
          "name": "stdout",
          "text": [
            "when n_components is 0.95, the shape of X_reduced is (10000, 149)\n",
            "the accuarcy is 0.868\n"
          ]
        },
        {
          "output_type": "stream",
          "name": "stderr",
          "text": [
            "/usr/local/lib/python3.8/dist-packages/sklearn/linear_model/_ridge.py:1059: DataConversionWarning: A column-vector y was passed when a 1d array was expected. Please change the shape of y to (n_samples, ), for example using ravel().\n",
            "  y = column_or_1d(y, warn=True)\n"
          ]
        },
        {
          "output_type": "stream",
          "name": "stdout",
          "text": [
            "when n_components is 0.96, the shape of X_reduced is (10000, 174)\n",
            "the accuarcy is 0.8685\n"
          ]
        },
        {
          "output_type": "stream",
          "name": "stderr",
          "text": [
            "/usr/local/lib/python3.8/dist-packages/sklearn/linear_model/_ridge.py:1059: DataConversionWarning: A column-vector y was passed when a 1d array was expected. Please change the shape of y to (n_samples, ), for example using ravel().\n",
            "  y = column_or_1d(y, warn=True)\n"
          ]
        },
        {
          "output_type": "stream",
          "name": "stdout",
          "text": [
            "when n_components is 0.97, the shape of X_reduced is (10000, 207)\n",
            "the accuarcy is 0.864\n"
          ]
        },
        {
          "output_type": "stream",
          "name": "stderr",
          "text": [
            "/usr/local/lib/python3.8/dist-packages/sklearn/linear_model/_ridge.py:1059: DataConversionWarning: A column-vector y was passed when a 1d array was expected. Please change the shape of y to (n_samples, ), for example using ravel().\n",
            "  y = column_or_1d(y, warn=True)\n"
          ]
        },
        {
          "output_type": "stream",
          "name": "stdout",
          "text": [
            "when n_components is 0.98, the shape of X_reduced is (10000, 253)\n",
            "the accuarcy is 0.869\n"
          ]
        },
        {
          "output_type": "stream",
          "name": "stderr",
          "text": [
            "/usr/local/lib/python3.8/dist-packages/sklearn/linear_model/_ridge.py:1059: DataConversionWarning: A column-vector y was passed when a 1d array was expected. Please change the shape of y to (n_samples, ), for example using ravel().\n",
            "  y = column_or_1d(y, warn=True)\n"
          ]
        },
        {
          "output_type": "stream",
          "name": "stdout",
          "text": [
            "when n_components is 0.99, the shape of X_reduced is (10000, 323)\n",
            "the accuarcy is 0.8485\n",
            "\n",
            " When alpha = 1, best n_components is 0.98 with acc: 0.869, and the best shape of is (10000, 253) \n"
          ]
        },
        {
          "output_type": "stream",
          "name": "stderr",
          "text": [
            "/usr/local/lib/python3.8/dist-packages/sklearn/linear_model/_ridge.py:1059: DataConversionWarning: A column-vector y was passed when a 1d array was expected. Please change the shape of y to (n_samples, ), for example using ravel().\n",
            "  y = column_or_1d(y, warn=True)\n"
          ]
        },
        {
          "output_type": "stream",
          "name": "stdout",
          "text": [
            "\n",
            "when n_components is 784, the shape of X_reduced is (10000, 784)\n"
          ]
        },
        {
          "output_type": "stream",
          "name": "stderr",
          "text": [
            "/usr/local/lib/python3.8/dist-packages/sklearn/linear_model/_ridge.py:1059: DataConversionWarning: A column-vector y was passed when a 1d array was expected. Please change the shape of y to (n_samples, ), for example using ravel().\n",
            "  y = column_or_1d(y, warn=True)\n"
          ]
        },
        {
          "output_type": "stream",
          "name": "stdout",
          "text": [
            "the accuarcy is 0.841\n"
          ]
        }
      ]
    },
    {
      "cell_type": "markdown",
      "source": [
        "## Confusion Matrix and Classification Report\n",
        "1. Read https://scikit-learn.org/stable/modules/generated/sklearn.metrics.confusion_matrix.html to understand how to use a confusion matrix. Based on the information you learned from #1, can you plot the confusion matrix accordingly? (Hint: use clf.predict(X_test) to get the prediction labels over X_test.)\n",
        "\n"
      ],
      "metadata": {
        "id": "mitvXX17remR"
      }
    },
    {
      "cell_type": "code",
      "source": [
        "from sklearn.metrics import confusion_matrix, classification_report\n",
        "\n",
        "# Add your code here\n",
        "pca = PCA(n_components = 0.98,  svd_solver= 'full')\n",
        "data_reduced = pca.fit_transform(X)\n",
        "print(f\"when n_components is {0.95}, the shape of X_reduced is {data_reduced.shape}\")\n",
        "X_reduced = data_reduced[:,1:]\n",
        "y = y\n",
        "\n",
        "X_train, X_test, y_train, y_test = train_test_split(X_reduced, y, test_size=0.2)\n",
        "y_train = y_train.reshape(-1,1)\n",
        "y_test = y_test.reshape(-1,1)\n",
        "\n",
        "clf = RidgeClassifier(alpha = 10000000)\n",
        "clf.fit(X_train, y_train)\n",
        "\n",
        "y_pred = clf.predict(X_test)\n",
        "\n",
        "print(y_test.shape, y_pred.shape)\n",
        "cm = confusion_matrix(y_test, y_pred)\n",
        "\n",
        "from sklearn.metrics import ConfusionMatrixDisplay\n",
        "cm_display = ConfusionMatrixDisplay(cm).plot()"
      ],
      "metadata": {
        "id": "FxhAoKrTrgLq",
        "colab": {
          "base_uri": "https://localhost:8080/",
          "height": 374
        },
        "outputId": "b079415e-e926-416a-9900-3b71b070e15b"
      },
      "execution_count": 23,
      "outputs": [
        {
          "output_type": "stream",
          "name": "stdout",
          "text": [
            "when n_components is 0.95, the shape of X_reduced is (10000, 253)\n",
            "(2000, 1) (2000,)\n"
          ]
        },
        {
          "output_type": "stream",
          "name": "stderr",
          "text": [
            "/usr/local/lib/python3.8/dist-packages/sklearn/linear_model/_ridge.py:1059: DataConversionWarning: A column-vector y was passed when a 1d array was expected. Please change the shape of y to (n_samples, ), for example using ravel().\n",
            "  y = column_or_1d(y, warn=True)\n"
          ]
        },
        {
          "output_type": "display_data",
          "data": {
            "text/plain": [
              "<Figure size 432x288 with 2 Axes>"
            ],
            "image/png": "[encoded data removed]"
          },
          "metadata": {
            "needs_background": "light"
          }
        }
      ]
    },
    {
      "cell_type": "markdown",
      "source": [
        "2. Read https://scikit-learn.org/stable/modules/generated/sklearn.metrics.classification_report.html#sklearn.metrics.classification_report to understand how to use a classification report. Based on the information you learned in #3, can you output the classification report accordingly? What is the label with the lowest precision?\n",
        "\n",
        "**my answer: 3**"
      ],
      "metadata": {
        "id": "6fiQtr56Ybb7"
      }
    },
    {
      "cell_type": "code",
      "source": [
        "print(classification_report(y_test, y_pred))"
      ],
      "metadata": {
        "colab": {
          "base_uri": "https://localhost:8080/"
        },
        "id": "3hC7X41Sb34U",
        "outputId": "8e6f189d-17bd-4fb1-c171-59dd0e9efbbd"
      },
      "execution_count": 24,
      "outputs": [
        {
          "output_type": "stream",
          "name": "stdout",
          "text": [
            "              precision    recall  f1-score   support\n",
            "\n",
            "           0       0.89      0.81      0.85       202\n",
            "           1       0.82      0.93      0.87       214\n",
            "           2       0.86      0.82      0.84       219\n",
            "           3       0.75      0.88      0.81       170\n",
            "           4       0.87      0.89      0.88       205\n",
            "           5       0.86      0.68      0.76       202\n",
            "           6       0.87      0.93      0.90       187\n",
            "           7       0.86      0.90      0.88       221\n",
            "           8       0.83      0.76      0.79       205\n",
            "           9       0.83      0.82      0.82       175\n",
            "\n",
            "    accuracy                           0.84      2000\n",
            "   macro avg       0.84      0.84      0.84      2000\n",
            "weighted avg       0.84      0.84      0.84      2000\n",
            "\n"
          ]
        }
      ]
    }
  ]
}