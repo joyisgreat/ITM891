{
  "cells": [
    {
      "cell_type": "code",
      "execution_count": 1,
      "metadata": {
        "collapsed": true,
        "id": "At8P37OYVcxl"
      },
      "outputs": [],
      "source": [
        "%matplotlib inline\n",
        "import numpy as np\n",
        "import matplotlib.pyplot as plt\n",
        "%load_ext autoreload\n",
        "%autoreload 2"
      ]
    },
    {
      "cell_type": "markdown",
      "metadata": {
        "id": "lO38UjP1Vcxo"
      },
      "source": [
        "Data Generation\n",
        "==="
      ]
    },
    {
      "cell_type": "code",
      "execution_count": 2,
      "metadata": {
        "collapsed": true,
        "id": "YJTDalYRVcxq"
      },
      "outputs": [],
      "source": [
        "num_samples, num_features = 10, 5"
      ]
    },
    {
      "cell_type": "code",
      "execution_count": 3,
      "metadata": {
        "collapsed": true,
        "id": "tbBE6syXVcxq"
      },
      "outputs": [],
      "source": [
        "np.random.seed(10)\n",
        "data = np.random.rand(num_samples, num_features)"
      ]
    },
    {
      "cell_type": "markdown",
      "metadata": {
        "id": "7BkYxPf_Vcxr"
      },
      "source": [
        "Solution\n",
        "==="
      ]
    },
    {
      "cell_type": "code",
      "execution_count": 4,
      "metadata": {
        "scrolled": false,
        "colab": {
          "base_uri": "https://localhost:8080/"
        },
        "id": "4wsjNFMKVcxr",
        "outputId": "95c4591b-8a1c-43d3-dd8f-709b17316062"
      },
      "outputs": [
        {
          "output_type": "stream",
          "name": "stdout",
          "text": [
            "[[0.77132064 0.02075195 0.63364823 0.74880388 0.49850701]\n",
            " [0.22479665 0.19806286 0.76053071 0.16911084 0.08833981]\n",
            " [0.68535982 0.95339335 0.00394827 0.51219226 0.81262096]\n",
            " [0.61252607 0.72175532 0.29187607 0.91777412 0.71457578]\n",
            " [0.54254437 0.14217005 0.37334076 0.67413362 0.44183317]\n",
            " [0.43401399 0.61776698 0.51313824 0.65039718 0.60103895]\n",
            " [0.8052232  0.52164715 0.90864888 0.31923609 0.09045935]\n",
            " [0.30070006 0.11398436 0.82868133 0.04689632 0.62628715]\n",
            " [0.54758616 0.819287   0.19894754 0.8568503  0.35165264]\n",
            " [0.75464769 0.29596171 0.88393648 0.32551164 0.1650159 ]]\n"
          ]
        }
      ],
      "source": [
        "print(data)"
      ]
    },
    {
      "cell_type": "markdown",
      "source": [
        "## Practice Problem 2 - Matrix Standardization\n",
        "\n",
        "The different dimensions or features of a data sample often show different variances. For some subsequent operations, it is a beneficial preprocessing step to standardize the data, i.e. **subtract the mean and divide by the standard deviation for each dimension**. After this processing, each dimension has zero mean and unit variance. Note that this is not equivalent to data whitening, which additionally de-correlates the dimensions (by means of a coordinate rotation). \n",
        "\n",
        "**Instructions:** Write a function that accepts data matrix $x\\in \\mathbb{R}^{n\\times d}$ as input and outputs the same data after normalization. $n$ is the number of samples, and $d$ is the number of dimensions, i.e. rows contain samples and columns features. "
      ],
      "metadata": {
        "id": "doN9K25YX3yY"
      }
    },
    {
      "cell_type": "code",
      "execution_count": 8,
      "metadata": {
        "collapsed": true,
        "id": "nQZHJi9XVcxr"
      },
      "outputs": [],
      "source": [
        "def standardize(x):\n",
        "    # Enter your code here to standardize x\n",
        "    x = np.random.rand(20, 5)\n",
        "    return x\n",
        "\n",
        "std_data = standardize(data)"
      ]
    },
    {
      "cell_type": "code",
      "execution_count": 9,
      "metadata": {
        "colab": {
          "base_uri": "https://localhost:8080/"
        },
        "id": "xhBh5UNLVcxs",
        "outputId": "eb7c58a3-806c-42c0-fa1a-4f14b6fd3e02"
      },
      "outputs": [
        {
          "output_type": "stream",
          "name": "stdout",
          "text": [
            "[[0.57813643 0.85393375 0.06809727 0.46453081 0.78194912]\n",
            " [0.71860281 0.58602198 0.03709441 0.35065639 0.56319068]\n",
            " [0.29972987 0.51233415 0.67346693 0.15919373 0.05047767]\n",
            " [0.33781589 0.10806377 0.17890281 0.8858271  0.36536497]\n",
            " [0.21876935 0.75249617 0.10687958 0.74460324 0.46978529]\n",
            " [0.59825567 0.14762019 0.18403482 0.64507213 0.04862801]\n",
            " [0.24861251 0.54240852 0.22677334 0.38141153 0.92223279]\n",
            " [0.92535687 0.56674992 0.53347088 0.01486002 0.97789926]\n",
            " [0.5730289  0.791757   0.56155736 0.87733524 0.58419583]\n",
            " [0.70884983 0.14853345 0.42845074 0.69389007 0.10461974]\n",
            " [0.43960524 0.16620215 0.50697863 0.81903586 0.09010673]\n",
            " [0.80006875 0.56512635 0.58934771 0.19810066 0.43611826]\n",
            " [0.29590376 0.03755768 0.03068484 0.453105   0.74486408]\n",
            " [0.55729541 0.3851136  0.1680728  0.83826132 0.5990518 ]\n",
            " [0.78271482 0.84850918 0.60316298 0.78106062 0.61573688]\n",
            " [0.02116519 0.75046461 0.17604213 0.45851421 0.51312271]\n",
            " [0.48402089 0.84438579 0.17481389 0.01463488 0.84876407]\n",
            " [0.74267458 0.45669754 0.41689841 0.11672951 0.33867913]\n",
            " [0.09465904 0.71583087 0.0770854  0.20595026 0.57377623]\n",
            " [0.29383156 0.65572674 0.80356835 0.3512135  0.09344038]] \n",
            "\n",
            " [0.48595487 0.52177667 0.32726916 0.4726993  0.48610018] \n",
            "\n",
            " [0.2461676  0.26438581 0.23601632 0.28855535 0.28708694]\n"
          ]
        }
      ],
      "source": [
        "print(std_data, \"\\n\\n\", np.mean(std_data, axis=0), \"\\n\\n\", np.std(std_data, axis=0))"
      ]
    }
  ],
  "metadata": {
    "kernelspec": {
      "display_name": "Python 3 (ipykernel)",
      "language": "python",
      "name": "python3"
    },
    "language_info": {
      "codemirror_mode": {
        "name": "ipython",
        "version": 3
      },
      "file_extension": ".py",
      "mimetype": "text/x-python",
      "name": "python",
      "nbconvert_exporter": "python",
      "pygments_lexer": "ipython3",
      "version": "3.9.15"
    },
    "colab": {
      "provenance": []
    }
  },
  "nbformat": 4,
  "nbformat_minor": 0
}