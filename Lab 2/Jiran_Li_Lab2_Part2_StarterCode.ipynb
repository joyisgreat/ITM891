{
  "cells": [
    {
      "cell_type": "code",
      "execution_count": 4,
      "metadata": {
        "collapsed": true,
        "id": "At8P37OYVcxl",
        "colab": {
          "base_uri": "https://localhost:8080/"
        },
        "outputId": "d313438d-4d1f-4879-bbdd-87a7c5ba3c37"
      },
      "outputs": [
        {
          "output_type": "stream",
          "name": "stdout",
          "text": [
            "The autoreload extension is already loaded. To reload it, use:\n",
            "  %reload_ext autoreload\n"
          ]
        }
      ],
      "source": [
        "%matplotlib inline\n",
        "import numpy as np\n",
        "import matplotlib.pyplot as plt\n",
        "%load_ext autoreload\n",
        "%autoreload 2"
      ]
    },
    {
      "cell_type": "markdown",
      "metadata": {
        "id": "lO38UjP1Vcxo"
      },
      "source": [
        "Data Generation\n",
        "==="
      ]
    },
    {
      "cell_type": "code",
      "execution_count": 5,
      "metadata": {
        "collapsed": true,
        "id": "YJTDalYRVcxq"
      },
      "outputs": [],
      "source": [
        "num_samples, num_features = 10, 5"
      ]
    },
    {
      "cell_type": "code",
      "execution_count": 6,
      "metadata": {
        "collapsed": true,
        "id": "tbBE6syXVcxq"
      },
      "outputs": [],
      "source": [
        "np.random.seed(10)\n",
        "data = np.random.rand(num_samples, num_features)"
      ]
    },
    {
      "cell_type": "markdown",
      "metadata": {
        "id": "7BkYxPf_Vcxr"
      },
      "source": [
        "Solution\n",
        "==="
      ]
    },
    {
      "cell_type": "code",
      "execution_count": 7,
      "metadata": {
        "scrolled": false,
        "colab": {
          "base_uri": "https://localhost:8080/"
        },
        "id": "4wsjNFMKVcxr",
        "outputId": "44b6d51c-26b5-42da-b191-3f2817f8296a"
      },
      "outputs": [
        {
          "output_type": "stream",
          "name": "stdout",
          "text": [
            "[[0.77132064 0.02075195 0.63364823 0.74880388 0.49850701]\n",
            " [0.22479665 0.19806286 0.76053071 0.16911084 0.08833981]\n",
            " [0.68535982 0.95339335 0.00394827 0.51219226 0.81262096]\n",
            " [0.61252607 0.72175532 0.29187607 0.91777412 0.71457578]\n",
            " [0.54254437 0.14217005 0.37334076 0.67413362 0.44183317]\n",
            " [0.43401399 0.61776698 0.51313824 0.65039718 0.60103895]\n",
            " [0.8052232  0.52164715 0.90864888 0.31923609 0.09045935]\n",
            " [0.30070006 0.11398436 0.82868133 0.04689632 0.62628715]\n",
            " [0.54758616 0.819287   0.19894754 0.8568503  0.35165264]\n",
            " [0.75464769 0.29596171 0.88393648 0.32551164 0.1650159 ]]\n"
          ]
        }
      ],
      "source": [
        "print(data)"
      ]
    },
    {
      "cell_type": "markdown",
      "source": [
        "## Practice Problem 2 - Matrix Standardization\n",
        "\n",
        "The different dimensions or features of a data sample often show different variances. For some subsequent operations, it is a beneficial preprocessing step to standardize the data, i.e. **subtract the mean and divide by the standard deviation for each dimension**. After this processing, each dimension has zero mean and unit variance. Note that this is not equivalent to data whitening, which additionally de-correlates the dimensions (by means of a coordinate rotation). \n",
        "\n",
        "**Instructions:** Write a function that accepts data matrix $x\\in \\mathbb{R}^{n\\times d}$ as input and outputs the same data after normalization. $n$ is the number of samples, and $d$ is the number of dimensions, i.e. rows contain samples and columns features. "
      ],
      "metadata": {
        "id": "doN9K25YX3yY"
      }
    },
    {
      "cell_type": "code",
      "execution_count": 8,
      "metadata": {
        "collapsed": true,
        "id": "nQZHJi9XVcxr"
      },
      "outputs": [],
      "source": [
        "def standardize(x):\n",
        "    # Enter your code here to standardize x\n",
        "    centered_data = x - np.mean(x, axis = 0)\n",
        "    std_data = centered_data / np.std(centered_data, axis = 0)\n",
        "    return x \n",
        "\n",
        "std_data = standardize(data)"
      ]
    },
    {
      "cell_type": "code",
      "execution_count": 9,
      "metadata": {
        "colab": {
          "base_uri": "https://localhost:8080/"
        },
        "id": "xhBh5UNLVcxs",
        "outputId": "1d9e632c-8a2a-48a6-a5ed-814b19c9960d"
      },
      "outputs": [
        {
          "output_type": "stream",
          "name": "stdout",
          "text": [
            "[[0.77132064 0.02075195 0.63364823 0.74880388 0.49850701]\n",
            " [0.22479665 0.19806286 0.76053071 0.16911084 0.08833981]\n",
            " [0.68535982 0.95339335 0.00394827 0.51219226 0.81262096]\n",
            " [0.61252607 0.72175532 0.29187607 0.91777412 0.71457578]\n",
            " [0.54254437 0.14217005 0.37334076 0.67413362 0.44183317]\n",
            " [0.43401399 0.61776698 0.51313824 0.65039718 0.60103895]\n",
            " [0.8052232  0.52164715 0.90864888 0.31923609 0.09045935]\n",
            " [0.30070006 0.11398436 0.82868133 0.04689632 0.62628715]\n",
            " [0.54758616 0.819287   0.19894754 0.8568503  0.35165264]\n",
            " [0.75464769 0.29596171 0.88393648 0.32551164 0.1650159 ]] \n",
            "\n",
            " [0.56787186 0.44047807 0.53966965 0.52209063 0.43903307] \n",
            "\n",
            " [0.18880201 0.31226926 0.29810476 0.28105224 0.24648668]\n"
          ]
        }
      ],
      "source": [
        "print(std_data, \"\\n\\n\", np.mean(std_data, axis=0), \"\\n\\n\", np.std(std_data, axis=0))"
      ]
    }
  ],
  "metadata": {
    "kernelspec": {
      "display_name": "Python 3 (ipykernel)",
      "language": "python",
      "name": "python3"
    },
    "language_info": {
      "codemirror_mode": {
        "name": "ipython",
        "version": 3
      },
      "file_extension": ".py",
      "mimetype": "text/x-python",
      "name": "python",
      "nbconvert_exporter": "python",
      "pygments_lexer": "ipython3",
      "version": "3.9.15"
    },
    "colab": {
      "provenance": []
    }
  },
  "nbformat": 4,
  "nbformat_minor": 0
}