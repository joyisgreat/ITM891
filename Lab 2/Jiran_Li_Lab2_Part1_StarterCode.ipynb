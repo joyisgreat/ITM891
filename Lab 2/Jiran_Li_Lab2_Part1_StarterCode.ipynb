{
  "cells": [
    {
      "cell_type": "markdown",
      "metadata": {
        "id": "FbtR1da0mZne"
      },
      "source": [
        "Welcome to the jupyter notebook! To run any cell, press `Shift+Enter` or `Ctrl+Enter`.\n",
        "\n",
        "**IMPORTANT** : Please have a look at `Help->User Interface Tour` and `Help->Keyboard Shortcuts` in the toolbar above that will help you get started."
      ]
    },
    {
      "cell_type": "code",
      "execution_count": null,
      "metadata": {
        "id": "IlhCJrG7mZnf"
      },
      "outputs": [],
      "source": [
        "# Useful starting lines\n",
        "%matplotlib inline\n",
        "import numpy as np # numpy the most important library\n",
        "import matplotlib.pyplot as plt # the plot for drawing\n",
        "%load_ext autoreload\n",
        "%autoreload 2"
      ]
    },
    {
      "cell_type": "markdown",
      "metadata": {
        "id": "Qj6vNB0vmZng"
      },
      "source": [
        "# Notebook Basics"
      ]
    },
    {
      "cell_type": "markdown",
      "metadata": {
        "id": "c-WoRevWmZng"
      },
      "source": [
        "A cell contains any type of python inputs (expression, function definitions, etc...). Running a cell is equivalent to input this block in the python interpreter. The notebook will print the output of the last executed line."
      ]
    },
    {
      "cell_type": "code",
      "execution_count": null,
      "metadata": {
        "id": "39UMGC5xmZng",
        "outputId": "d310fa14-484b-4e27-97d1-e7cf559d8b01",
        "colab": {
          "base_uri": "https://localhost:8080/"
        }
      },
      "outputs": [
        {
          "output_type": "execute_result",
          "data": {
            "text/plain": [
              "1"
            ]
          },
          "metadata": {},
          "execution_count": 4
        }
      ],
      "source": [
        "1"
      ]
    },
    {
      "cell_type": "code",
      "execution_count": null,
      "metadata": {
        "id": "ag0AhCPCmZnh"
      },
      "outputs": [],
      "source": [
        "x = [2,3,4]\n",
        "\n",
        "def my_function(l):\n",
        "    l.append(5)"
      ]
    },
    {
      "cell_type": "code",
      "execution_count": null,
      "metadata": {
        "id": "LBUn8IdtmZnh",
        "outputId": "fd714801-90c1-44ff-f7ea-88a77bca5c61",
        "colab": {
          "base_uri": "https://localhost:8080/"
        }
      },
      "outputs": [
        {
          "output_type": "execute_result",
          "data": {
            "text/plain": [
              "[2, 3, 4, 5]"
            ]
          },
          "metadata": {},
          "execution_count": 6
        }
      ],
      "source": [
        "my_function(x)\n",
        "\n",
        "x"
      ]
    },
    {
      "cell_type": "code",
      "execution_count": null,
      "metadata": {
        "id": "1KRqIt1gmZnh",
        "outputId": "9d4638ed-5097-4386-a8e0-cc895b1b9413",
        "colab": {
          "base_uri": "https://localhost:8080/",
          "height": 300
        }
      },
      "outputs": [
        {
          "output_type": "execute_result",
          "data": {
            "text/plain": [
              "Text(0, 0.5, 'Y label')"
            ]
          },
          "metadata": {},
          "execution_count": 7
        },
        {
          "output_type": "display_data",
          "data": {
            "text/plain": [
              "<Figure size 432x288 with 1 Axes>"
            ],
            "image/png": "[encoded data removed]"
          },
          "metadata": {
            "needs_background": "light"
          }
        }
      ],
      "source": [
        "# Matplotlib is used for plotting, plots are directly embedded in the\n",
        "# notebook thanks to the '%matplolib inline' command at the beginning\n",
        "plt.hist(np.random.randn(10000), bins=40)\n",
        "plt.xlabel('X label')\n",
        "plt.ylabel('Y label')"
      ]
    },
    {
      "cell_type": "markdown",
      "metadata": {
        "id": "Ikem0MAmmZni"
      },
      "source": [
        "Numpy Basics\n",
        "============"
      ]
    },
    {
      "cell_type": "markdown",
      "metadata": {
        "id": "3gbNoiu3mZni"
      },
      "source": [
        "**IMPORTANT** : the numpy documentation is quite good. The Notebook system is really good to help you. Use the Auto-Completion with `Tab`, and use `Shift+Tab` to get the complete documentation about the current function (when the cursor is between the parenthesis of the function for instance).\n",
        "\n",
        "For example, you want to multiply two arrays. `np.mul` + `Tab` complete to the only valid function `np.multiply`. Then using `Shift+Tab` you learn `np.multiply` is actually the element-wise multiplication and is equivalent to the `*` operator."
      ]
    },
    {
      "cell_type": "code",
      "execution_count": null,
      "metadata": {
        "id": "weVSdqfamZni",
        "outputId": "4af2ce96-dfe1-400a-90ce-9462aeb2239f",
        "colab": {
          "base_uri": "https://localhost:8080/"
        }
      },
      "outputs": [
        {
          "output_type": "execute_result",
          "data": {
            "text/plain": [
              "<ufunc 'multiply'>"
            ]
          },
          "metadata": {},
          "execution_count": 8
        }
      ],
      "source": [
        "np.multiply"
      ]
    },
    {
      "cell_type": "markdown",
      "metadata": {
        "id": "3IJLKkSdmZni"
      },
      "source": [
        "### Creation of arrays\n",
        "\n",
        "Creating ndarrays (`np.zeros`, `np.ones`) is done by giving the shape as an iterable (List or Tuple). An integer is also accepted for one-dimensional array.\n",
        "\n",
        "`np.eye` creates an identity matrix.\n",
        "\n",
        "You can also create an array by giving iterables to it.\n",
        "\n",
        "(NB : The random functions `np.random.rand` and `np.random.randn` are exceptions though)"
      ]
    },
    {
      "cell_type": "code",
      "execution_count": null,
      "metadata": {
        "id": "erpvYeYGmZnj",
        "outputId": "fe71c100-f8f9-424b-eb95-ffae0346b4a6",
        "colab": {
          "base_uri": "https://localhost:8080/"
        }
      },
      "outputs": [
        {
          "output_type": "stream",
          "name": "stdout",
          "text": [
            "[[0. 0. 0. 0.]\n",
            " [0. 0. 0. 0.]\n",
            " [0. 0. 0. 0.]\n",
            " [0. 0. 0. 0.]]\n",
            "[[1. 1. 1. 1.]\n",
            " [1. 1. 1. 1.]\n",
            " [1. 1. 1. 1.]\n",
            " [1. 1. 1. 1.]]\n"
          ]
        }
      ],
      "source": [
        "a = np.zeros((4,4))\n",
        "b = np.ones([4,4])\n",
        "print(a)\n",
        "print(b)"
      ]
    },
    {
      "cell_type": "code",
      "execution_count": null,
      "metadata": {
        "id": "X6WOhLy1mZnj",
        "outputId": "e8a3beee-f50f-4ac5-edbc-d505cb10917e",
        "colab": {
          "base_uri": "https://localhost:8080/"
        }
      },
      "outputs": [
        {
          "output_type": "execute_result",
          "data": {
            "text/plain": [
              "array([[1., 0., 0., 0., 0., 0., 0., 0., 0., 0.],\n",
              "       [0., 1., 0., 0., 0., 0., 0., 0., 0., 0.],\n",
              "       [0., 0., 1., 0., 0., 0., 0., 0., 0., 0.],\n",
              "       [0., 0., 0., 1., 0., 0., 0., 0., 0., 0.],\n",
              "       [0., 0., 0., 0., 1., 0., 0., 0., 0., 0.],\n",
              "       [0., 0., 0., 0., 0., 1., 0., 0., 0., 0.],\n",
              "       [0., 0., 0., 0., 0., 0., 1., 0., 0., 0.],\n",
              "       [0., 0., 0., 0., 0., 0., 0., 1., 0., 0.],\n",
              "       [0., 0., 0., 0., 0., 0., 0., 0., 1., 0.],\n",
              "       [0., 0., 0., 0., 0., 0., 0., 0., 0., 1.]])"
            ]
          },
          "metadata": {},
          "execution_count": 10
        }
      ],
      "source": [
        "np.eye(10)"
      ]
    },
    {
      "cell_type": "markdown",
      "source": [],
      "metadata": {
        "id": "w6dQ0kFxhWw8"
      }
    },
    {
      "cell_type": "code",
      "execution_count": null,
      "metadata": {
        "id": "gwh4BXFPmZnj",
        "outputId": "118cb37a-631d-4435-cbb1-0a4e9dfa6c8e",
        "colab": {
          "base_uri": "https://localhost:8080/"
        }
      },
      "outputs": [
        {
          "output_type": "stream",
          "name": "stdout",
          "text": [
            "(2, 3)\n",
            "[[30 38]\n",
            " [47 60]]\n",
            "[[30 38]\n",
            " [47 60]]\n"
          ]
        }
      ],
      "source": [
        "#array a times b\n",
        "a = np.array([[1,3,4],[2,5,6]])\n",
        "print(a.shape)\n",
        "b = np.array([[1,2],[3,4],[5,6]])\n",
        "c = a @ b \n",
        "print(c)\n",
        "c = np.dot(a,b)\n",
        "print(c)"
      ]
    },
    {
      "cell_type": "code",
      "execution_count": null,
      "metadata": {
        "id": "MGsVKFGPmZnj",
        "outputId": "157d4c90-c54f-4281-b53a-d9c14d3c1616",
        "colab": {
          "base_uri": "https://localhost:8080/"
        }
      },
      "outputs": [
        {
          "output_type": "execute_result",
          "data": {
            "text/plain": [
              "array([0, 1, 2, 3, 4, 5, 6, 7, 8, 9])"
            ]
          },
          "metadata": {},
          "execution_count": 12
        }
      ],
      "source": [
        "np.arange(10)  # NB : np.array(range(10)) is a slightly more complicated equivalent"
      ]
    },
    {
      "cell_type": "code",
      "execution_count": null,
      "metadata": {
        "id": "Cowz7jilmZnj",
        "outputId": "f46727d2-2ccf-48ea-8372-1d4add5dc48f",
        "colab": {
          "base_uri": "https://localhost:8080/"
        }
      },
      "outputs": [
        {
          "output_type": "stream",
          "name": "stdout",
          "text": [
            "(4, 4)\n"
          ]
        },
        {
          "output_type": "execute_result",
          "data": {
            "text/plain": [
              "array([[-0.27219712, -1.93805763, -1.41429224,  0.4862141 ],\n",
              "       [ 0.05983949,  1.15311243,  0.5311871 ,  1.11972838],\n",
              "       [-0.78199753,  0.81447912,  0.82623156, -0.5866962 ],\n",
              "       [-1.42959811, -0.79819072,  1.5225263 ,  1.35487661]])"
            ]
          },
          "metadata": {},
          "execution_count": 13
        }
      ],
      "source": [
        "x= np.random.randn(4, 4) # normal distributed values\n",
        "print(x.shape)\n",
        "x"
      ]
    },
    {
      "cell_type": "code",
      "execution_count": null,
      "metadata": {
        "id": "TwFXabg_mZnk",
        "outputId": "439e5204-329a-48af-d285-d64719ca5e89",
        "colab": {
          "base_uri": "https://localhost:8080/"
        }
      },
      "outputs": [
        {
          "output_type": "stream",
          "name": "stdout",
          "text": [
            "[[[1. 1.]\n",
            "  [1. 1.]\n",
            "  [1. 1.]\n",
            "  [1. 1.]]\n",
            "\n",
            " [[1. 1.]\n",
            "  [1. 1.]\n",
            "  [1. 1.]\n",
            "  [1. 1.]]\n",
            "\n",
            " [[1. 1.]\n",
            "  [1. 1.]\n",
            "  [1. 1.]\n",
            "  [1. 1.]]\n",
            "\n",
            " [[1. 1.]\n",
            "  [1. 1.]\n",
            "  [1. 1.]\n",
            "  [1. 1.]]]\n"
          ]
        },
        {
          "output_type": "execute_result",
          "data": {
            "text/plain": [
              "(4, 4, 2)"
            ]
          },
          "metadata": {},
          "execution_count": 14
        }
      ],
      "source": [
        "# 3-D tensor\n",
        "tensor_3 = np.ones((4, 4, 2)) #four four times two arrays\n",
        "print(tensor_3)\n",
        "tensor_3.shape"
      ]
    },
    {
      "cell_type": "markdown",
      "metadata": {
        "id": "86gA26ppmZnk"
      },
      "source": [
        "### ndarray basics\n",
        "\n",
        "A ndarray python object is just a reference to the data location and its characteristics.\n",
        "\n",
        "All numpy operations applying on an array can be called np._function_(a) or a._function_() (i.e `np.sum(a)` or `a.sum()`)\n",
        "\n",
        "It has an attribute `shape` that returns a tuple of the different dimensions of the ndarray. It also has an attribute `dtype` that describes the type of data of the object (default type is `float64`)\n",
        "\n",
        "**WARNING** because of the object structure, unless you call `copy()` copying the reference is not copying the data."
      ]
    },
    {
      "cell_type": "code",
      "execution_count": null,
      "metadata": {
        "id": "Lu7hnXe2mZnk",
        "outputId": "e1265641-d4e7-4a18-c29c-a9b56beb8223",
        "colab": {
          "base_uri": "https://localhost:8080/"
        }
      },
      "outputs": [
        {
          "output_type": "execute_result",
          "data": {
            "text/plain": [
              "((4, 4, 2), dtype('float64'))"
            ]
          },
          "metadata": {},
          "execution_count": 15
        }
      ],
      "source": [
        "tensor_3.shape, tensor_3.dtype"
      ]
    },
    {
      "cell_type": "code",
      "execution_count": null,
      "metadata": {
        "id": "NY9xo098mZnl",
        "outputId": "1ea2d7d7-294f-4f6b-84da-1cc87c6767b8",
        "colab": {
          "base_uri": "https://localhost:8080/"
        }
      },
      "outputs": [
        {
          "output_type": "execute_result",
          "data": {
            "text/plain": [
              "(dtype('int64'), dtype('float64'))"
            ]
          },
          "metadata": {},
          "execution_count": 16
        }
      ],
      "source": [
        "a = np.array([[1.0, 2.0], [5.0, 4.0]])\n",
        "b = np.array([[4, 3], [2, 1]])\n",
        "(b.dtype, a.dtype) # each array has a data type (casting rules apply for int -> float)"
      ]
    },
    {
      "cell_type": "code",
      "execution_count": null,
      "metadata": {
        "id": "vS3eaz0hmZnl",
        "outputId": "48d1cc15-9fa8-4bf8-ee12-4091ad51563c",
        "colab": {
          "base_uri": "https://localhost:8080/"
        }
      },
      "outputs": [
        {
          "output_type": "execute_result",
          "data": {
            "text/plain": [
              "array(['Mickey', 'Mouse'], dtype='<U6')"
            ]
          },
          "metadata": {},
          "execution_count": 17
        }
      ],
      "source": [
        "np.array([\"Mickey\", \"Mouse\"]) # can hold more than just numbers"
      ]
    },
    {
      "cell_type": "code",
      "execution_count": null,
      "metadata": {
        "id": "FnlLNnW2mZnl",
        "outputId": "dbf94e36-d987-4e37-f7bd-b97ad7da2525",
        "colab": {
          "base_uri": "https://localhost:8080/"
        }
      },
      "outputs": [
        {
          "output_type": "execute_result",
          "data": {
            "text/plain": [
              "array([[3., 2.],\n",
              "       [5., 4.]])"
            ]
          },
          "metadata": {},
          "execution_count": 18
        }
      ],
      "source": [
        "a = np.array([[1.0, 2.0], [5.0, 4.0]])\n",
        "b = a  # Copying the reference only\n",
        "b[0,0] = 3\n",
        "a"
      ]
    },
    {
      "cell_type": "code",
      "execution_count": null,
      "metadata": {
        "id": "UCXTgswTmZnl",
        "outputId": "275d6ea7-c334-4cb1-8760-6e514dcce2d3",
        "colab": {
          "base_uri": "https://localhost:8080/"
        }
      },
      "outputs": [
        {
          "output_type": "execute_result",
          "data": {
            "text/plain": [
              "array([[1., 2.],\n",
              "       [5., 4.]])"
            ]
          },
          "metadata": {},
          "execution_count": 19
        }
      ],
      "source": [
        "a = np.array([[1.0, 2.0], [5.0, 4.0]])\n",
        "b = a.copy()  # Deep-copy of the data\n",
        "b[0,0] = 3\n",
        "a # Jan 9"
      ]
    },
    {
      "cell_type": "markdown",
      "metadata": {
        "id": "zWq1iY1nmZnl"
      },
      "source": [
        "#### Basic operators are working element-wise (+, -, *, /)\n",
        "\n",
        "When trying to apply operators for arrays with different sizes, they are very specific rules that you might want to understand in the future : http://docs.scipy.org/doc/numpy/user/basics.broadcasting.html"
      ]
    },
    {
      "cell_type": "code",
      "execution_count": null,
      "metadata": {
        "id": "B9zSCFC2mZnm",
        "outputId": "39832ad1-22a3-43bb-9bdb-d546e14bdc0b",
        "colab": {
          "base_uri": "https://localhost:8080/"
        }
      },
      "outputs": [
        {
          "output_type": "execute_result",
          "data": {
            "text/plain": [
              "array([[-0.45088223,  0.62490999,  1.01601533,  0.23989642],\n",
              "       [-0.73914919, -0.4768468 , -0.25577002,  0.85657047]])"
            ]
          },
          "metadata": {},
          "execution_count": 20
        }
      ],
      "source": [
        "np.ones((2, 4)) * np.random.randn(2, 4)"
      ]
    },
    {
      "cell_type": "code",
      "execution_count": null,
      "metadata": {
        "id": "yOk9fiHqmZnm",
        "outputId": "0a0a0832-ac3d-4c16-9171-4c46a3fdcb18",
        "colab": {
          "base_uri": "https://localhost:8080/"
        }
      },
      "outputs": [
        {
          "output_type": "execute_result",
          "data": {
            "text/plain": [
              "array([[ 0., -1., -1.],\n",
              "       [-1.,  0., -1.],\n",
              "       [-1., -1.,  0.]])"
            ]
          },
          "metadata": {},
          "execution_count": 21
        }
      ],
      "source": [
        "np.eye(3) - np.ones((3,3))"
      ]
    },
    {
      "cell_type": "code",
      "execution_count": null,
      "metadata": {
        "id": "jvZV8n11mZnm",
        "outputId": "9aaa5e95-bbe8-4fbf-a1bb-117319eb03ac",
        "colab": {
          "base_uri": "https://localhost:8080/"
        }
      },
      "outputs": [
        {
          "output_type": "stream",
          "name": "stdout",
          "text": [
            "[[1. 2.]\n",
            " [5. 4.]]\n",
            "(2, 2)\n",
            "2\n"
          ]
        }
      ],
      "source": [
        "print(a)\n",
        "print(a.shape)  # Get shape\n",
        "print(a.shape[0])  # Get size of first dimension"
      ]
    },
    {
      "cell_type": "markdown",
      "metadata": {
        "id": "ej0gTL7WmZnm"
      },
      "source": [
        "#### Accessing elements and slicing\n",
        "\n",
        "For people uncomfortable with the slicing of arrays, please have a look at the 'Indexing and Slicing' section of http://www.python-course.eu/numpy.php"
      ]
    },
    {
      "cell_type": "code",
      "execution_count": null,
      "metadata": {
        "id": "3cimpcwHmZnm",
        "outputId": "7db69e5f-2d2b-4f45-8e2d-226d8e616b8a",
        "colab": {
          "base_uri": "https://localhost:8080/"
        }
      },
      "outputs": [
        {
          "output_type": "stream",
          "name": "stdout",
          "text": [
            "[1. 2.]\n",
            "[2. 4.]\n",
            "2.0\n"
          ]
        }
      ],
      "source": [
        "print(a[0])  # Get first line (slice for the first dimension)\n",
        "print(a[:, 1])  # Get second column (slice for the second dimension)\n",
        "print(a[0, 1])  # Get first line second column element"
      ]
    },
    {
      "cell_type": "markdown",
      "metadata": {
        "id": "_v9ksZrBmZnn"
      },
      "source": [
        "#### Changing the shape of arrays\n",
        "\n",
        "`ravel` creates a flattened view of an array (1-D representation) whereas `flatten` creates flattened copy of the array.\n",
        "\n",
        "`reshape` allows in-place modification of the shape of the data. `transpose` shuffles the dimensions.\n",
        "\n",
        "`np.newaxis` allows the creation of empty dimensions."
      ]
    },
    {
      "cell_type": "code",
      "execution_count": null,
      "metadata": {
        "collapsed": true,
        "id": "hv-6Q9DLmZnn"
      },
      "outputs": [],
      "source": [
        "a = np.array([[1.0, 2.0], [5.0, 4.0]])\n",
        "b = np.array([[4, 3], [2, 1]])\n",
        "v = np.array([0.5, 2.0])"
      ]
    },
    {
      "cell_type": "code",
      "execution_count": null,
      "metadata": {
        "id": "MQsExhYNmZnn",
        "outputId": "bf88350b-b535-4de9-bed2-df3b9e4aaa0d",
        "colab": {
          "base_uri": "https://localhost:8080/"
        }
      },
      "outputs": [
        {
          "output_type": "stream",
          "name": "stdout",
          "text": [
            "[[1. 2.]\n",
            " [5. 4.]]\n",
            "[[1. 5.]\n",
            " [2. 4.]]\n",
            "[1. 2. 5. 4.]\n"
          ]
        }
      ],
      "source": [
        "print(a)\n",
        "print(a.T)  # Equivalent : a.tranpose(), np.transpose(a)\n",
        "print(a.ravel())"
      ]
    },
    {
      "cell_type": "code",
      "execution_count": null,
      "metadata": {
        "id": "fvL09rkOmZnn",
        "outputId": "371ae073-aae1-417a-d13d-42552d861cf0",
        "colab": {
          "base_uri": "https://localhost:8080/"
        }
      },
      "outputs": [
        {
          "output_type": "stream",
          "name": "stdout",
          "text": [
            "[[ 0.81084759 -0.56801553  0.20625737 -0.33741257  0.7729616 ]\n",
            " [-1.20860245 -1.23408606  0.38730658 -0.84045465 -0.93566894]\n",
            " [-0.99256645 -0.32198971 -1.76558953  2.07973207 -0.26189777]\n",
            " [ 1.75158703 -0.13797176  0.34290569  0.09272144 -0.77194158]]\n",
            "(4, 5)\n",
            "------------------------------\n",
            "[[[ 0.81084759 -0.56801553  0.20625737 -0.33741257  0.7729616 ]\n",
            "  [-1.20860245 -1.23408606  0.38730658 -0.84045465 -0.93566894]\n",
            "  [-0.99256645 -0.32198971 -1.76558953  2.07973207 -0.26189777]\n",
            "  [ 1.75158703 -0.13797176  0.34290569  0.09272144 -0.77194158]]]\n",
            "(1, 4, 5)\n",
            "------------------------------\n",
            "(5, 4)\n",
            "------------------------------\n",
            "[[ 0.81084759 -0.56801553]\n",
            " [ 0.20625737 -0.33741257]\n",
            " [ 0.7729616  -1.20860245]\n",
            " [-1.23408606  0.38730658]\n",
            " [-0.84045465 -0.93566894]\n",
            " [-0.99256645 -0.32198971]\n",
            " [-1.76558953  2.07973207]\n",
            " [-0.26189777  1.75158703]\n",
            " [-0.13797176  0.34290569]\n",
            " [ 0.09272144 -0.77194158]]\n",
            "(10, 2)\n",
            "[[ 0.81084759 -0.56801553  0.20625737 -0.33741257  0.7729616 ]\n",
            " [-1.20860245 -1.23408606  0.38730658 -0.84045465 -0.93566894]\n",
            " [-0.99256645 -0.32198971 -1.76558953  2.07973207 -0.26189777]\n",
            " [ 1.75158703 -0.13797176  0.34290569  0.09272144 -0.77194158]]\n",
            "[[ 0.81084759 -0.56801553]\n",
            " [ 0.20625737 -0.33741257]\n",
            " [ 0.7729616  -1.20860245]\n",
            " [-1.23408606  0.38730658]\n",
            " [-0.84045465 -0.93566894]\n",
            " [-0.99256645 -0.32198971]\n",
            " [-1.76558953  2.07973207]\n",
            " [-0.26189777  1.75158703]\n",
            " [-0.13797176  0.34290569]\n",
            " [ 0.09272144 -0.77194158]]\n"
          ]
        }
      ],
      "source": [
        "c = np.random.randn(4,5)\n",
        "print(c)\n",
        "print(c.shape)\n",
        "print('------------------------------')\n",
        "print(c[np.newaxis])\n",
        "print(c[np.newaxis].shape)  # Adding a dimension ???\n",
        "print('------------------------------')\n",
        "print(c.T.shape)  \n",
        "print('------------------------------')\n",
        "print(c.reshape([10,2]))\n",
        "print(c.reshape([10,2]).shape)\n",
        "print(c)\n",
        "print(c.reshape([10,2]))"
      ]
    },
    {
      "cell_type": "code",
      "source": [
        "c = np.random.randn(4,5)\n",
        "print(c)\n",
        "\n",
        "c[np.newaxis]"
      ],
      "metadata": {
        "colab": {
          "base_uri": "https://localhost:8080/"
        },
        "id": "k0dH9WLD0BnW",
        "outputId": "5f5c9015-3f44-4fe7-c9ea-88b7145bb4b6"
      },
      "execution_count": null,
      "outputs": [
        {
          "output_type": "stream",
          "name": "stdout",
          "text": [
            "[[-2.39931931 -0.66833934 -0.03759861  0.89698278 -0.55035865]\n",
            " [-0.94073138  1.65445395 -0.3461872   1.44023599 -1.61285457]\n",
            " [ 0.17382604 -1.39230687  0.41295457 -1.5351385   2.26123674]\n",
            " [ 0.74436016  0.05507758 -0.60386946  0.06255419  1.48808108]]\n"
          ]
        },
        {
          "output_type": "execute_result",
          "data": {
            "text/plain": [
              "array([[[-2.39931931, -0.66833934, -0.03759861,  0.89698278,\n",
              "         -0.55035865],\n",
              "        [-0.94073138,  1.65445395, -0.3461872 ,  1.44023599,\n",
              "         -1.61285457],\n",
              "        [ 0.17382604, -1.39230687,  0.41295457, -1.5351385 ,\n",
              "          2.26123674],\n",
              "        [ 0.74436016,  0.05507758, -0.60386946,  0.06255419,\n",
              "          1.48808108]]])"
            ]
          },
          "metadata": {},
          "execution_count": 27
        }
      ]
    },
    {
      "cell_type": "code",
      "execution_count": null,
      "metadata": {
        "id": "rGBeiX6NmZnn",
        "outputId": "d292d178-a66e-4e27-8088-e9d7d1c5445b",
        "colab": {
          "base_uri": "https://localhost:8080/"
        }
      },
      "outputs": [
        {
          "output_type": "stream",
          "name": "stdout",
          "text": [
            "[[1. 2.]\n",
            " [5. 4.]]\n"
          ]
        },
        {
          "output_type": "execute_result",
          "data": {
            "text/plain": [
              "array([[1.],\n",
              "       [2.],\n",
              "       [5.],\n",
              "       [4.]])"
            ]
          },
          "metadata": {},
          "execution_count": 28
        }
      ],
      "source": [
        "print(a)\n",
        "a.reshape((-1, 1)) # a[-1] means 'whatever needs to go there'"
      ]
    },
    {
      "cell_type": "markdown",
      "metadata": {
        "id": "bmCrCjt-mZnn"
      },
      "source": [
        "#### Reduction operations\n",
        "\n",
        "Reduction operations (`np.sum`, `np.max`, `np.min`, `np.std`) work on the flattened ndarray by default. You can specify the reduction axis as an argument"
      ]
    },
    {
      "cell_type": "code",
      "execution_count": null,
      "metadata": {
        "id": "8ZAaVSBOmZno",
        "outputId": "5451fe53-6875-450a-ad66-90c50f68aa40",
        "colab": {
          "base_uri": "https://localhost:8080/"
        }
      },
      "outputs": [
        {
          "output_type": "stream",
          "name": "stdout",
          "text": [
            "[[1. 2.]\n",
            " [5. 4.]]\n",
            "[2. 1.]\n"
          ]
        },
        {
          "output_type": "execute_result",
          "data": {
            "text/plain": [
              "(12.0, array([6., 6.]), array([3., 9.]))"
            ]
          },
          "metadata": {},
          "execution_count": 29
        }
      ],
      "source": [
        "print(a)\n",
        "print(np.std(a, axis=0))\n",
        "np.sum(a), np.sum(a, axis=0), np.sum(a, axis=1) # reduce-operations reduce the whole array if no axis is specified"
      ]
    },
    {
      "cell_type": "markdown",
      "source": [],
      "metadata": {
        "id": "EbkvLtr1ZXSv"
      }
    },
    {
      "cell_type": "markdown",
      "metadata": {
        "collapsed": false,
        "id": "5__G3iDHmZno"
      },
      "source": [
        "#### Linear-algebra operations"
      ]
    },
    {
      "cell_type": "code",
      "execution_count": null,
      "metadata": {
        "id": "BUPOwvSLmZno",
        "outputId": "f678e7b3-0bf0-413d-85bf-922446cedcf7",
        "colab": {
          "base_uri": "https://localhost:8080/"
        }
      },
      "outputs": [
        {
          "output_type": "stream",
          "name": "stdout",
          "text": [
            "[[1. 2.]\n",
            " [5. 4.]]\n",
            "[[4 3]\n",
            " [2 1]]\n"
          ]
        },
        {
          "output_type": "execute_result",
          "data": {
            "text/plain": [
              "array([[ 8.,  5.],\n",
              "       [28., 19.]])"
            ]
          },
          "metadata": {},
          "execution_count": 32
        }
      ],
      "source": [
        "print(a)\n",
        "print(b)\n",
        "\n",
        "np.dot(a, b) # matrix multiplication"
      ]
    },
    {
      "cell_type": "code",
      "execution_count": null,
      "metadata": {
        "id": "jno62Q29mZno",
        "outputId": "37d71e26-fc41-4ad0-a0b4-49c2af6dfebc",
        "colab": {
          "base_uri": "https://localhost:8080/"
        }
      },
      "outputs": [
        {
          "output_type": "execute_result",
          "data": {
            "text/plain": [
              "True"
            ]
          },
          "metadata": {},
          "execution_count": 33
        }
      ],
      "source": [
        "# Other ways of writing matrix multiplication, the '@' operator for matrix multiplication\n",
        "# was introduced in Python 3.5\n",
        "np.allclose(a.dot(b), a @ b)"
      ]
    },
    {
      "cell_type": "code",
      "execution_count": null,
      "metadata": {
        "id": "g9_Cp0rLmZno",
        "outputId": "b17a124a-715b-4073-f832-2bab9c094583",
        "colab": {
          "base_uri": "https://localhost:8080/"
        }
      },
      "outputs": [
        {
          "output_type": "execute_result",
          "data": {
            "text/plain": [
              "(array([-1.,  6.]), array([[-0.70710678, -0.37139068],\n",
              "        [ 0.70710678, -0.92847669]]))"
            ]
          },
          "metadata": {},
          "execution_count": 46
        }
      ],
      "source": [
        "# For other linear algebra operations, use the np.linalg module\n",
        "np.linalg.eig(a)  # Eigen-decomposition"
      ]
    },
    {
      "cell_type": "markdown",
      "source": [],
      "metadata": {
        "id": "oNGSO7wya2XC"
      }
    },
    {
      "cell_type": "code",
      "execution_count": null,
      "metadata": {
        "id": "S-6OmotkmZno",
        "outputId": "17d65136-83bb-498c-b23e-aac7009a2b2a",
        "colab": {
          "base_uri": "https://localhost:8080/"
        }
      },
      "outputs": [
        {
          "output_type": "stream",
          "name": "stdout",
          "text": [
            "[[1. 2.]\n",
            " [5. 4.]]\n",
            "---------------------------------\n",
            "[[-0.66666667  0.33333333]\n",
            " [ 0.83333333 -0.16666667]]\n",
            "---------------------------------\n",
            "True\n",
            "---------------------------------\n",
            "[[ 1.00000000e+00  0.00000000e+00]\n",
            " [-5.55111512e-17  1.00000000e+00]]\n",
            "[[1. 0.]\n",
            " [0. 1.]]\n",
            "---------------------------------\n"
          ]
        },
        {
          "output_type": "execute_result",
          "data": {
            "text/plain": [
              "2"
            ]
          },
          "metadata": {},
          "execution_count": 41
        }
      ],
      "source": [
        "print(a)\n",
        "print('---------------------------------')\n",
        "print(np.linalg.inv(a))  # Inverse\n",
        "print('---------------------------------')\n",
        "print(np.allclose(np.linalg.inv(a) @ a, np.identity(a.shape[1])))  # a^-1 * a = Id\n",
        "print('---------------------------------')\n",
        "print(np.linalg.inv(a) @ a)\n",
        "print(np.identity(a.shape[1]))\n",
        "print('---------------------------------')\n",
        "a.shape[1]"
      ]
    },
    {
      "cell_type": "code",
      "execution_count": null,
      "metadata": {
        "id": "QodLdJ6pmZno",
        "outputId": "8bf3bd56-1ef0-4d3c-dc55-2cb40326b4b5",
        "colab": {
          "base_uri": "https://localhost:8080/"
        }
      },
      "outputs": [
        {
          "output_type": "stream",
          "name": "stdout",
          "text": [
            "[0.33333333 0.08333333]\n",
            "[0.5 2. ]\n"
          ]
        }
      ],
      "source": [
        "print(np.linalg.solve(a, v)) # solves ax = v\n",
        "print(v)"
      ]
    },
    {
      "cell_type": "markdown",
      "metadata": {
        "id": "Sz3WTm0dmZnp"
      },
      "source": [
        "#### Grouping operations\n",
        "\n",
        "Grouping operations (`np.stack`, `np.hstack`, `np.vstack`, `np.concatenate`) take an iterable of ndarrays and not ndarrays as separate arguments : np.concatenate([a,b]) and not np.concatenate(a,b)."
      ]
    },
    {
      "cell_type": "code",
      "execution_count": null,
      "metadata": {
        "id": "gRw9Ld3TmZnp",
        "outputId": "37b11564-fda4-474c-e387-acc12c177b24",
        "colab": {
          "base_uri": "https://localhost:8080/"
        }
      },
      "outputs": [
        {
          "output_type": "stream",
          "name": "stdout",
          "text": [
            "[[[1. 2.]\n",
            "  [5. 4.]]\n",
            "\n",
            " [[4. 3.]\n",
            "  [2. 1.]]]\n",
            "---------------------------------\n",
            "[[1. 2. 4. 3.]\n",
            " [5. 4. 2. 1.]]\n"
          ]
        }
      ],
      "source": [
        "print(np.stack([a,b]))\n",
        "print('---------------------------------')\n",
        "print(np.hstack([a, b]))"
      ]
    },
    {
      "cell_type": "code",
      "execution_count": null,
      "metadata": {
        "scrolled": true,
        "id": "1syo4GnAmZnp",
        "outputId": "7764dc4e-202e-424b-83f1-d7d263b31e38",
        "colab": {
          "base_uri": "https://localhost:8080/"
        }
      },
      "outputs": [
        {
          "output_type": "execute_result",
          "data": {
            "text/plain": [
              "array([[1., 2.],\n",
              "       [5., 4.],\n",
              "       [4., 3.],\n",
              "       [2., 1.]])"
            ]
          },
          "metadata": {},
          "execution_count": 50
        }
      ],
      "source": [
        "np.vstack([a, b])"
      ]
    },
    {
      "cell_type": "code",
      "execution_count": null,
      "metadata": {
        "id": "Lcsa80IPmZnp",
        "outputId": "605ba475-cd5a-4817-d86c-79391596c538",
        "colab": {
          "base_uri": "https://localhost:8080/"
        }
      },
      "outputs": [
        {
          "output_type": "execute_result",
          "data": {
            "text/plain": [
              "array([[1.5, 4. ],\n",
              "       [5.5, 6. ],\n",
              "       [4.5, 5. ],\n",
              "       [2.5, 3. ]])"
            ]
          },
          "metadata": {},
          "execution_count": 46
        }
      ],
      "source": [
        "np.vstack([a, b]) + v # broadcasting"
      ]
    },
    {
      "cell_type": "code",
      "execution_count": null,
      "metadata": {
        "id": "CSfdNnCUmZnp",
        "outputId": "8fd7211e-ac30-41b1-c4b2-a9bb98771250",
        "colab": {
          "base_uri": "https://localhost:8080/",
          "height": 171
        }
      },
      "outputs": [
        {
          "output_type": "error",
          "ename": "ValueError",
          "evalue": "ignored",
          "traceback": [
            "\u001b[0;31m---------------------------------------------------------------------------\u001b[0m",
            "\u001b[0;31mValueError\u001b[0m                                Traceback (most recent call last)",
            "\u001b[0;32m<ipython-input-49-5c0deec6e066>\u001b[0m in \u001b[0;36m<module>\u001b[0;34m\u001b[0m\n\u001b[0;32m----> 1\u001b[0;31m \u001b[0mnp\u001b[0m\u001b[0;34m.\u001b[0m\u001b[0mhstack\u001b[0m\u001b[0;34m(\u001b[0m\u001b[0;34m[\u001b[0m\u001b[0ma\u001b[0m\u001b[0;34m,\u001b[0m \u001b[0mb\u001b[0m\u001b[0;34m]\u001b[0m\u001b[0;34m)\u001b[0m \u001b[0;34m+\u001b[0m \u001b[0mv\u001b[0m \u001b[0;31m# does not work\u001b[0m\u001b[0;34m\u001b[0m\u001b[0;34m\u001b[0m\u001b[0m\n\u001b[0m",
            "\u001b[0;31mValueError\u001b[0m: operands could not be broadcast together with shapes (2,4) (2,) "
          ]
        }
      ],
      "source": [
        "np.hstack([a, b]) + v # does not work"
      ]
    },
    {
      "cell_type": "code",
      "execution_count": null,
      "metadata": {
        "id": "L_7s91ZymZnp",
        "outputId": "21717fde-fafc-46b5-cfba-98cd269142e2",
        "colab": {
          "base_uri": "https://localhost:8080/",
          "height": 171
        }
      },
      "outputs": [
        {
          "output_type": "error",
          "ename": "ValueError",
          "evalue": "ignored",
          "traceback": [
            "\u001b[0;31m---------------------------------------------------------------------------\u001b[0m",
            "\u001b[0;31mValueError\u001b[0m                                Traceback (most recent call last)",
            "\u001b[0;32m<ipython-input-50-ea0dadd42dc1>\u001b[0m in \u001b[0;36m<module>\u001b[0;34m\u001b[0m\n\u001b[0;32m----> 1\u001b[0;31m \u001b[0mnp\u001b[0m\u001b[0;34m.\u001b[0m\u001b[0mhstack\u001b[0m\u001b[0;34m(\u001b[0m\u001b[0;34m[\u001b[0m\u001b[0ma\u001b[0m\u001b[0;34m,\u001b[0m \u001b[0mb\u001b[0m\u001b[0;34m]\u001b[0m\u001b[0;34m)\u001b[0m \u001b[0;34m+\u001b[0m \u001b[0mv\u001b[0m\u001b[0;34m.\u001b[0m\u001b[0mT\u001b[0m \u001b[0;31m# transposing a 1-D array achieves nothing\u001b[0m\u001b[0;34m\u001b[0m\u001b[0;34m\u001b[0m\u001b[0m\n\u001b[0m",
            "\u001b[0;31mValueError\u001b[0m: operands could not be broadcast together with shapes (2,4) (2,) "
          ]
        }
      ],
      "source": [
        "np.hstack([a, b]) + v.T # transposing a 1-D array achieves nothing"
      ]
    },
    {
      "cell_type": "code",
      "execution_count": null,
      "metadata": {
        "scrolled": true,
        "id": "gT6r4keMmZnp",
        "outputId": "378aa739-a983-425b-adab-22856d4796ee",
        "colab": {
          "base_uri": "https://localhost:8080/"
        }
      },
      "outputs": [
        {
          "output_type": "execute_result",
          "data": {
            "text/plain": [
              "array([[1.5, 2.5, 4.5, 3.5],\n",
              "       [7. , 6. , 4. , 3. ]])"
            ]
          },
          "metadata": {},
          "execution_count": 51
        }
      ],
      "source": [
        "np.hstack([a, b]) + v.reshape((-1, 1)) # reshaping to convert v from a (2,) vector to a (2,1) matrix"
      ]
    },
    {
      "cell_type": "code",
      "execution_count": null,
      "metadata": {
        "id": "lXjuZVPEmZnq",
        "outputId": "84bbf778-f148-4349-9472-bfd5e3cc8c1d",
        "colab": {
          "base_uri": "https://localhost:8080/"
        }
      },
      "outputs": [
        {
          "output_type": "execute_result",
          "data": {
            "text/plain": [
              "array([[1.5, 2.5, 4.5, 3.5],\n",
              "       [7. , 6. , 4. , 3. ]])"
            ]
          },
          "metadata": {},
          "execution_count": 40
        }
      ],
      "source": [
        "np.hstack([a, b]) + v[:, np.newaxis] # equivalently, we can add an axis"
      ]
    },
    {
      "cell_type": "markdown",
      "metadata": {
        "id": "dFfCRYjEmZnq"
      },
      "source": [
        "## Working on subset of the elements\n",
        "\n",
        "We have two ways in order to apply operations on subparts of arrays (besides slicing).\n",
        "\n",
        "#### Slicing reminders"
      ]
    },
    {
      "cell_type": "code",
      "execution_count": null,
      "metadata": {
        "id": "8r1PVD21mZnq"
      },
      "outputs": [],
      "source": [
        "r = np.random.randint(0, 9, size=(3, 4))"
      ]
    },
    {
      "cell_type": "code",
      "execution_count": null,
      "metadata": {
        "id": "eu_flpwvmZnq",
        "outputId": "515e208d-68ae-4636-a859-2e02a140c8a7",
        "colab": {
          "base_uri": "https://localhost:8080/"
        }
      },
      "outputs": [
        {
          "output_type": "execute_result",
          "data": {
            "text/plain": [
              "array([[5, 2, 6, 3],\n",
              "       [3, 7, 2, 6],\n",
              "       [7, 4, 8, 8]])"
            ]
          },
          "metadata": {},
          "execution_count": 53
        }
      ],
      "source": [
        "r"
      ]
    },
    {
      "cell_type": "code",
      "execution_count": null,
      "metadata": {
        "id": "6ypvy7cKmZnq",
        "outputId": "19ee3918-0d3f-4b50-fa72-bb04dbec1702",
        "colab": {
          "base_uri": "https://localhost:8080/"
        }
      },
      "outputs": [
        {
          "output_type": "execute_result",
          "data": {
            "text/plain": [
              "(array([7, 6, 0, 3]), array([5, 0, 4, 4]))"
            ]
          },
          "metadata": {},
          "execution_count": 43
        }
      ],
      "source": [
        "r[0], r[1]"
      ]
    },
    {
      "cell_type": "code",
      "execution_count": null,
      "metadata": {
        "id": "9jMNo3NQmZnq",
        "outputId": "29c610b9-7571-45db-e5a5-2267aad1ecfe",
        "colab": {
          "base_uri": "https://localhost:8080/"
        }
      },
      "outputs": [
        {
          "output_type": "execute_result",
          "data": {
            "text/plain": [
              "array([[7, 6, 0, 3],\n",
              "       [5, 0, 4, 4]])"
            ]
          },
          "metadata": {},
          "execution_count": 44
        }
      ],
      "source": [
        "r[0:2]"
      ]
    },
    {
      "cell_type": "code",
      "execution_count": null,
      "metadata": {
        "id": "kDbULOIZmZnq",
        "outputId": "f71a9e40-480e-4c72-d065-d204a2fcbb22",
        "colab": {
          "base_uri": "https://localhost:8080/"
        }
      },
      "outputs": [
        {
          "output_type": "execute_result",
          "data": {
            "text/plain": [
              "4"
            ]
          },
          "metadata": {},
          "execution_count": 45
        }
      ],
      "source": [
        "r[1][2] # regular python"
      ]
    },
    {
      "cell_type": "code",
      "execution_count": null,
      "metadata": {
        "id": "CI6i0dQNmZnq",
        "outputId": "9bd630e1-fe84-4343-bbfe-0ce0371e0f7e",
        "colab": {
          "base_uri": "https://localhost:8080/"
        }
      },
      "outputs": [
        {
          "output_type": "execute_result",
          "data": {
            "text/plain": [
              "4"
            ]
          },
          "metadata": {},
          "execution_count": 46
        }
      ],
      "source": [
        "r[1, 2] # numpy"
      ]
    },
    {
      "cell_type": "code",
      "execution_count": null,
      "metadata": {
        "id": "V8kF5a18mZnr",
        "outputId": "d6ab2f48-7d7e-4817-b189-cdea835d019f",
        "colab": {
          "base_uri": "https://localhost:8080/"
        }
      },
      "outputs": [
        {
          "output_type": "execute_result",
          "data": {
            "text/plain": [
              "array([[6, 0],\n",
              "       [0, 4],\n",
              "       [1, 1]])"
            ]
          },
          "metadata": {},
          "execution_count": 47
        }
      ],
      "source": [
        "r[:, 1:3]"
      ]
    },
    {
      "cell_type": "markdown",
      "metadata": {
        "id": "bCu78trCmZnr"
      },
      "source": [
        "#### Binary masks\n",
        "\n",
        "Using logical operations on arrays give a binary mask. Using a binary mask as indexing acts as a filter and outputs just the very elements where the value is True. This gives a memoryview of the array that can get modified."
      ]
    },
    {
      "cell_type": "code",
      "execution_count": null,
      "metadata": {
        "id": "S8-ahznTmZnr",
        "outputId": "bbf5c2ec-3b6e-4902-e18c-12cf48cdf6e7",
        "colab": {
          "base_uri": "https://localhost:8080/"
        }
      },
      "outputs": [
        {
          "output_type": "execute_result",
          "data": {
            "text/plain": [
              "array([[ True,  True, False, False],\n",
              "       [False, False, False, False],\n",
              "       [False, False, False,  True]])"
            ]
          },
          "metadata": {},
          "execution_count": 48
        }
      ],
      "source": [
        "r > 5  # Binary element-wise result"
      ]
    },
    {
      "cell_type": "code",
      "execution_count": null,
      "metadata": {
        "id": "mu86vaLumZnr",
        "outputId": "3c7591fe-47f9-483a-94ec-cda37cf6b783",
        "colab": {
          "base_uri": "https://localhost:8080/"
        }
      },
      "outputs": [
        {
          "output_type": "stream",
          "name": "stdout",
          "text": [
            "[[5 2 6 3]\n",
            " [3 7 2 6]\n",
            " [7 4 8 8]]\n"
          ]
        },
        {
          "output_type": "execute_result",
          "data": {
            "text/plain": [
              "array([6, 7, 6, 7, 8, 8])"
            ]
          },
          "metadata": {},
          "execution_count": 54
        }
      ],
      "source": [
        "print(r)\n",
        "r[r > 5]  # Use the binary mask as filter"
      ]
    },
    {
      "cell_type": "code",
      "execution_count": null,
      "metadata": {
        "collapsed": true,
        "id": "D6AFLInBmZnr"
      },
      "outputs": [],
      "source": [
        "r[r > 5] = 999  # Modify the corresponding values with a constant"
      ]
    },
    {
      "cell_type": "code",
      "execution_count": null,
      "metadata": {
        "id": "TQCWq6EpmZnr",
        "outputId": "2f702d14-f336-43cc-87af-13624c8ee1ab",
        "colab": {
          "base_uri": "https://localhost:8080/"
        }
      },
      "outputs": [
        {
          "output_type": "execute_result",
          "data": {
            "text/plain": [
              "array([[  5,   2, 999,   3],\n",
              "       [  3, 999,   2, 999],\n",
              "       [999,   4, 999, 999]])"
            ]
          },
          "metadata": {},
          "execution_count": 56
        }
      ],
      "source": [
        "r"
      ]
    },
    {
      "cell_type": "markdown",
      "metadata": {
        "collapsed": true,
        "id": "f3mJbxR_mZnr"
      },
      "source": [
        "#### Working with indices\n",
        "\n",
        "The second way to work on subpart of arrays are through indices. Usually you'd use one array per dimension with matching indices.\n",
        "\n",
        "**WARNING** : indices are usually slower than binary masks because it is harder to be parallelized by the underlying BLAS library."
      ]
    },
    {
      "cell_type": "code",
      "execution_count": null,
      "metadata": {
        "id": "rYnpe-C3mZnr",
        "outputId": "a74ab964-1a81-402b-a40c-ab63a9dc9d2e",
        "colab": {
          "base_uri": "https://localhost:8080/"
        }
      },
      "outputs": [
        {
          "output_type": "execute_result",
          "data": {
            "text/plain": [
              "(array([0, 1, 1, 2, 2, 2]), array([2, 1, 3, 0, 2, 3]))"
            ]
          },
          "metadata": {},
          "execution_count": 57
        }
      ],
      "source": [
        "# Get the indices where the condition is true, gives a tuple whose length\n",
        "# is the number of dimensions of the input array\n",
        "np.where(r == 999)"
      ]
    },
    {
      "cell_type": "code",
      "execution_count": null,
      "metadata": {
        "id": "sMqqTICNmZns",
        "outputId": "77701d09-974e-403e-c3fc-161f42958501",
        "colab": {
          "base_uri": "https://localhost:8080/"
        }
      },
      "outputs": [
        {
          "output_type": "stream",
          "name": "stdout",
          "text": [
            "(array([0, 1, 2, 3, 4]),)\n",
            "---------------------------------------------\n"
          ]
        },
        {
          "output_type": "execute_result",
          "data": {
            "text/plain": [
              "array([0, 1, 2, 3, 4])"
            ]
          },
          "metadata": {},
          "execution_count": 61
        }
      ],
      "source": [
        "print(np.where(np.arange(10) < 5))  # Is a 1-tuple\n",
        "print('---------------------------------------------')\n",
        "np.where(np.arange(10) < 5)[0]  # Accessing the first element gives the indices array"
      ]
    },
    {
      "cell_type": "code",
      "execution_count": null,
      "metadata": {
        "id": "XvW_0IlgmZns",
        "outputId": "040c1527-cf5b-4d61-b34d-ccb1d659d3d8",
        "colab": {
          "base_uri": "https://localhost:8080/"
        }
      },
      "outputs": [
        {
          "output_type": "stream",
          "name": "stdout",
          "text": [
            "[[  5   2 999   3]\n",
            " [  3 999   2 999]\n",
            " [999   4 999 999]]\n",
            "---------------------------------------------\n"
          ]
        },
        {
          "output_type": "execute_result",
          "data": {
            "text/plain": [
              "array([[1005, 1002,  -10, 1003],\n",
              "       [1003,  -10, 1002,  -10],\n",
              "       [ -10, 1004,  -10,  -10]])"
            ]
          },
          "metadata": {},
          "execution_count": 67
        }
      ],
      "source": [
        "print(r)\n",
        "print('---------------------------------------------')\n",
        "np.where(r == 999, -10, r+1000)  \n",
        "# Ternary condition, if True take element from first array, \n",
        "# otherwise from second"
      ]
    },
    {
      "cell_type": "code",
      "execution_count": null,
      "metadata": {
        "id": "VBrvcBLwmZns",
        "outputId": "38fce170-d189-4225-b05f-1502e57d7346",
        "colab": {
          "base_uri": "https://localhost:8080/"
        }
      },
      "outputs": [
        {
          "output_type": "stream",
          "name": "stdout",
          "text": [
            "[[  5   2 999   3]\n",
            " [  3 999   2 999]\n",
            " [999   4 999 999]]\n",
            "---------------------------------------------\n"
          ]
        },
        {
          "output_type": "execute_result",
          "data": {
            "text/plain": [
              "array([  2, 999])"
            ]
          },
          "metadata": {},
          "execution_count": 66
        }
      ],
      "source": [
        "print(r)\n",
        "print('---------------------------------------------')\n",
        "r[(np.array([1,2]), np.array([2,2]))]  # Gets the view corresponding to the indices. NB : iterable of arrays as indexing"
      ]
    },
    {
      "cell_type": "markdown",
      "metadata": {
        "id": "hHN3DZFomZns"
      },
      "source": [
        "# Working with arrays, examples\n",
        "\n",
        "Thanks to all these tools, you should be able to avoid writing almost any for-loops which are extremely costly in Python (even more than in Matlab, because good JIT engines are yet to come). In case you **really** need for-loops for array computation (usually not needed but it happens) have a look at http://numba.pydata.org/ (_For advanced users_)\n",
        "\n",
        "#### Counting the number of positive elements that satisfy a condition"
      ]
    },
    {
      "cell_type": "code",
      "execution_count": null,
      "metadata": {
        "id": "4EYAxvbBmZns"
      },
      "outputs": [],
      "source": [
        "numbers = np.random.randn(1000, 1000)"
      ]
    },
    {
      "cell_type": "code",
      "execution_count": null,
      "metadata": {
        "id": "hmIyTG9ImZns",
        "outputId": "eb4d7f26-cbe7-4834-a13b-52de5dc0fe98",
        "colab": {
          "base_uri": "https://localhost:8080/"
        }
      },
      "outputs": [
        {
          "output_type": "stream",
          "name": "stdout",
          "text": [
            "499817\n",
            "499817\n",
            "499817\n",
            "499817\n",
            "499817\n",
            "499817\n",
            "499817\n",
            "499817\n",
            "509 ms ± 215 ms per loop (mean ± std. dev. of 7 runs, 1 loop each)\n"
          ]
        }
      ],
      "source": [
        "%%timeit  # Naive version\n",
        "my_sum = 0\n",
        "for n in numbers.ravel():\n",
        "    if n>0:\n",
        "        my_sum += 1\n",
        "print(my_sum)"
      ]
    },
    {
      "cell_type": "code",
      "execution_count": null,
      "metadata": {
        "id": "XCCxJN2amZns",
        "outputId": "75c890cb-607f-4c7e-ba06-e35e9c687724",
        "colab": {
          "base_uri": "https://localhost:8080/"
        }
      },
      "outputs": [
        {
          "output_type": "stream",
          "name": "stdout",
          "text": [
            "1.7 ms ± 697 µs per loop (mean ± std. dev. of 7 runs, 100 loops each)\n"
          ]
        }
      ],
      "source": [
        "%timeit np.sum(numbers > 0)\n"
      ]
    },
    {
      "cell_type": "markdown",
      "metadata": {
        "id": "Oy6Qi2MBmZns"
      },
      "source": [
        "#### Compute polynomial for a lot of values 为很多值计算多项式"
      ]
    },
    {
      "cell_type": "code",
      "execution_count": null,
      "metadata": {
        "collapsed": true,
        "id": "7FV4rDqTmZns",
        "colab": {
          "base_uri": "https://localhost:8080/"
        },
        "outputId": "759961c7-001b-4824-a4bb-ed1696756ec3"
      },
      "outputs": [
        {
          "output_type": "stream",
          "name": "stdout",
          "text": [
            "[ 0.04327478  0.93085004  0.83125086  1.29111591 -1.30609803  0.93094078\n",
            "  0.62325517  0.53935735  2.72913011 -1.83052996]\n"
          ]
        }
      ],
      "source": [
        "X = np.random.randn(10000)\n",
        "print(X[0:10])"
      ]
    },
    {
      "cell_type": "code",
      "source": [
        "x=0.93085004\n",
        "print(1 + x + x**2 + x**3 + x**4)"
      ],
      "metadata": {
        "colab": {
          "base_uri": "https://localhost:8080/"
        },
        "id": "jBUfXZ3opBLO",
        "outputId": "b98b7aa2-b91b-40e0-89a7-516c3cc57c53"
      },
      "execution_count": null,
      "outputs": [
        {
          "output_type": "stream",
          "name": "stdout",
          "text": [
            "4.354687156811836\n"
          ]
        }
      ]
    },
    {
      "cell_type": "code",
      "execution_count": null,
      "metadata": {
        "id": "JTG6E1tAmZnt",
        "outputId": "da601e35-f524-4ade-98b2-1c3aaa197be9",
        "colab": {
          "base_uri": "https://localhost:8080/"
        }
      },
      "outputs": [
        {
          "output_type": "stream",
          "name": "stdout",
          "text": [
            "16.9 ms ± 5.67 ms per loop (mean ± std. dev. of 7 runs, 100 loops each)\n"
          ]
        }
      ],
      "source": [
        "%%timeit  # Naive version\n",
        "my_result = np.zeros(len(X)) #kinds of 设定一个空list\n",
        "for i, x in enumerate(X.ravel()):\n",
        "    my_result[i] = 1 + x + x**2 + x**3 + x**4\n",
        "\n"
      ]
    },
    {
      "cell_type": "code",
      "execution_count": null,
      "metadata": {
        "id": "mrgiOn71mZnt",
        "outputId": "3b2a7395-64d7-4dc3-fe69-9d9e606de7c8",
        "colab": {
          "base_uri": "https://localhost:8080/"
        }
      },
      "outputs": [
        {
          "output_type": "stream",
          "name": "stdout",
          "text": [
            "1.59 ms ± 20.3 µs per loop (mean ± std. dev. of 7 runs, 1000 loops each)\n"
          ]
        }
      ],
      "source": [
        "%timeit 1 + X + X**2 + X**3 + X**4"
      ]
    },
    {
      "cell_type": "markdown",
      "metadata": {
        "id": "kgK1RIKDmZnt"
      },
      "source": [
        "## SciPy\n",
        "\n",
        "SciPy is a collection of libraries more specialized than Numpy. It is the equivalent of toolboxes in Matlab.\n",
        "\n",
        "Have a look at their collection: http://docs.scipy.org/doc/scipy/reference/\n",
        "\n",
        "Many traditionnal functions are coded there."
      ]
    },
    {
      "cell_type": "code",
      "execution_count": 90,
      "metadata": {
        "collapsed": true,
        "id": "g7K1Ns94mZnt"
      },
      "outputs": [],
      "source": [
        "X = np.random.randn(1000)"
      ]
    },
    {
      "cell_type": "code",
      "execution_count": 91,
      "metadata": {
        "id": "BOiuns0YmZnt",
        "outputId": "22ff4618-2ae1-4b7a-ed53-7a0794ac9b0e",
        "colab": {
          "base_uri": "https://localhost:8080/",
          "height": 283
        }
      },
      "outputs": [
        {
          "output_type": "execute_result",
          "data": {
            "text/plain": [
              "[<matplotlib.lines.Line2D at 0x7eff31f2c880>]"
            ]
          },
          "metadata": {},
          "execution_count": 91
        },
        {
          "output_type": "display_data",
          "data": {
            "text/plain": [
              "<Figure size 432x288 with 1 Axes>"
            ],
            "image/png": "[encoded data removed]"
          },
          "metadata": {
            "needs_background": "light"
          }
        }
      ],
      "source": [
        "from scipy.fftpack import fft\n",
        "plt.plot(fft(X).real)"
      ]
    },
    {
      "cell_type": "markdown",
      "source": [
        "## Practice Problem 1 - Ranking Items in Array\n",
        "\n",
        "Given an input array a = [100,20,3,4000,5]\n",
        "\n",
        "We want to output array b = [3,2,0,4,1] which represents the rank of each element in array a. \n",
        "\n",
        "Another example:\n",
        "\n",
        "a = [2,5,1,10,6,4,3]\n",
        "\n",
        "b = [1,4,0,6,5,3,2]\n",
        "\n",
        "How can we achieve this? \n",
        "\n",
        "**Instructions:** \n",
        "\n",
        "Add your code to the function order() below to output the rank of each element in array a to a new array. If the output is False, keep trying. Otherwise, if the output is True, this means your code correctly creates an array that is the same as array b and therefore your code is correct. \n",
        "\n",
        "\n",
        "---\n",
        "\n",
        "\n",
        "*Hint: use np.argsort()*\n",
        "\n",
        "np.argsort() documentation and help: \n",
        "\n",
        "*   https://stackoverflow.com/questions/17901218/numpy-argsort-what-is-it-doing#:~:text=As%20the%20documentation%20says%2C%20argsort,that%20should%20be%20second%2C%20etc.\n",
        "*   https://numpy.org/doc/stable/reference/generated/numpy.argsort.html"
      ],
      "metadata": {
        "id": "casCrxilHQfJ"
      }
    },
    {
      "cell_type": "code",
      "source": [
        "import numpy as np\n",
        "\n",
        "# create a function called order that takes in an array as a parameter \n",
        "def order(a):\n",
        "  b = np.empty_like(a)\n",
        "  # add your code here to output sorted order as array b\n",
        "  b = a.argsort().argsort()\n",
        "  return b\n",
        "\n",
        "# create input array a\n",
        "a = np.array([100,20,3,4000,5])\n",
        "# create correct array b (for our purposes of checking)\n",
        "b = np.array([3,2,0,4,1])\n",
        "# check if your order function works (outputs True)\n",
        "np.allclose(b, order(a))"
      ],
      "metadata": {
        "colab": {
          "base_uri": "https://localhost:8080/"
        },
        "id": "NvweIxUiOueC",
        "outputId": "4fd753ab-28eb-45d1-e005-ca3f4e08c3ff"
      },
      "execution_count": 92,
      "outputs": [
        {
          "output_type": "execute_result",
          "data": {
            "text/plain": [
              "True"
            ]
          },
          "metadata": {},
          "execution_count": 92
        }
      ]
    }
  ],
  "metadata": {
    "anaconda-cloud": {},
    "kernelspec": {
      "display_name": "Python 3",
      "name": "python3"
    },
    "language_info": {
      "name": "python"
    },
    "colab": {
      "provenance": [],
      "collapsed_sections": [
        "Qj6vNB0vmZng"
      ]
    },
    "accelerator": "GPU",
    "gpuClass": "standard"
  },
  "nbformat": 4,
  "nbformat_minor": 0
}