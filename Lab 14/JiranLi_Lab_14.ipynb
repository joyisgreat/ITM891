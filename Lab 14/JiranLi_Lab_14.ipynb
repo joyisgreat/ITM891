{
  "nbformat": 4,
  "nbformat_minor": 0,
  "metadata": {
    "colab": {
      "provenance": []
    },
    "kernelspec": {
      "name": "python3",
      "display_name": "Python 3"
    },
    "language_info": {
      "name": "python"
    }
  },
  "cells": [
    {
      "cell_type": "markdown",
      "source": [
        "##Part 1: CIFAR10 Classification\n",
        "\n",
        "Follow along the tutorial for CIFAR10 classification found here: https://pytorch.org/tutorials/beginner/blitz/cifar10_tutorial.html."
      ],
      "metadata": {
        "id": "s3CUAh9XeYCM"
      }
    },
    {
      "cell_type": "code",
      "execution_count": null,
      "metadata": {
        "id": "84AjcT6cGb-x",
        "colab": {
          "base_uri": "https://localhost:8080/"
        },
        "outputId": "b1579361-fd0e-43a7-8208-abf49ef6e471"
      },
      "outputs": [
        {
          "output_type": "stream",
          "name": "stdout",
          "text": [
            "Files already downloaded and verified\n",
            "Files already downloaded and verified\n"
          ]
        }
      ],
      "source": [
        "# Load the CIFAR10 data\n",
        "import torch\n",
        "import torchvision\n",
        "import torchvision.transforms as transforms\n",
        "\n",
        "transform = transforms.Compose(\n",
        "    [transforms.ToTensor(),\n",
        "     transforms.Normalize((0.5, 0.5, 0.5), (0.5, 0.5, 0.5))])\n",
        "\n",
        "batch_size = 4\n",
        "\n",
        "trainset = torchvision.datasets.CIFAR10(root='./data', train=True,\n",
        "                                        download=True, transform=transform)\n",
        "trainloader = torch.utils.data.DataLoader(trainset, batch_size=batch_size,\n",
        "                                          shuffle=True, num_workers=2)\n",
        "\n",
        "testset = torchvision.datasets.CIFAR10(root='./data', train=False,\n",
        "                                       download=True, transform=transform)\n",
        "testloader = torch.utils.data.DataLoader(testset, batch_size=batch_size,\n",
        "                                         shuffle=False, num_workers=2)\n",
        "\n",
        "classes = ('plane', 'car', 'bird', 'cat',\n",
        "           'deer', 'dog', 'frog', 'horse', 'ship', 'truck')"
      ]
    },
    {
      "cell_type": "code",
      "source": [
        "# Visualize the data\n",
        "import matplotlib.pyplot as plt\n",
        "import numpy as np\n",
        "\n",
        "# Functions to show an image\n",
        "def imshow(img):\n",
        "  img = img / 2 + 0.5     # unnormalize\n",
        "  npimg = img.numpy()\n",
        "  plt.imshow(np.transpose(npimg, (1, 2, 0)))\n",
        "  plt.show()\n",
        "\n",
        "# Get some random training images\n",
        "dataiter = iter(trainloader)\n",
        "images, labels = next(dataiter)\n",
        "\n",
        "# Show images\n",
        "imshow(torchvision.utils.make_grid(images))\n",
        "# Print labels\n",
        "print(' '.join(f'{classes[labels[j]]:5s}' for j in range(batch_size)))"
      ],
      "metadata": {
        "id": "7UrlJAlZPrnz",
        "colab": {
          "base_uri": "https://localhost:8080/",
          "height": 210
        },
        "outputId": "16d2f480-628e-45d3-a2fd-9171f29d2ab8"
      },
      "execution_count": null,
      "outputs": [
        {
          "output_type": "display_data",
          "data": {
            "text/plain": [
              "<Figure size 640x480 with 1 Axes>"
            ],
            "image/png": "[encoded data removed]"
          },
          "metadata": {}
        },
        {
          "output_type": "stream",
          "name": "stdout",
          "text": [
            "truck bird  ship  cat  \n"
          ]
        }
      ]
    },
    {
      "cell_type": "code",
      "source": [
        "num_rows = len(next(iter(trainloader)))\n",
        "num_cols = max([len(row) for row in next(iter(trainloader))])\n",
        "print((num_rows, num_cols))  "
      ],
      "metadata": {
        "colab": {
          "base_uri": "https://localhost:8080/"
        },
        "id": "dmIPNCvJUZnF",
        "outputId": "5ae3a994-a545-4047-f998-51533cf16dc8"
      },
      "execution_count": null,
      "outputs": [
        {
          "output_type": "stream",
          "name": "stdout",
          "text": [
            "(2, 4)\n"
          ]
        }
      ]
    },
    {
      "cell_type": "code",
      "source": [
        "# Define the mdoel\n",
        "import torch.nn as nn\n",
        "import torch.nn.functional as F\n",
        "\n",
        "class Net(nn.Module):\n",
        "    def __init__(self):\n",
        "        # Add code here\n",
        "        super().__init__()\n",
        "        self.conv1 = nn.Conv2d(3, 6, 5)\n",
        "        self.pool = nn.MaxPool2d(2, 2)\n",
        "        self.conv2 = nn.Conv2d(6, 16, 5)\n",
        "        self.fc1 = nn.Linear(16 * 5 * 5, 120)\n",
        "        self.fc2 = nn.Linear(120, 84)\n",
        "        self.fc3 = nn.Linear(84, 10)\n",
        "\n",
        "    def forward(self, x):\n",
        "        # Add code here\n",
        "        x = self.pool(F.relu(self.conv1(x)))\n",
        "        x = self.pool(F.relu(self.conv2(x)))\n",
        "        x = torch.flatten(x, 1) # flatten all dimensions except batch\n",
        "        x = F.relu(self.fc1(x))\n",
        "        x = F.relu(self.fc2(x))\n",
        "        x = self.fc3(x)\n",
        "        return x\n",
        "\n",
        "net = Net()"
      ],
      "metadata": {
        "id": "nejehJzGQt1C"
      },
      "execution_count": null,
      "outputs": []
    },
    {
      "cell_type": "code",
      "source": [
        "# Define the loss and the optimizer\n",
        "import torch.optim as optim\n",
        "\n",
        "criterion = nn.CrossEntropyLoss()\n",
        "optimizer = optim.SGD(net.parameters(), lr=0.001, momentum=0.9)\n",
        "\n",
        "num_epochs = 3\n",
        "\n",
        "# Train the network\n",
        "for epoch in range(num_epochs):  # Loop over the dataset multiple times\n",
        "\n",
        "    running_loss = 0.0\n",
        "\n",
        "    for i, data in enumerate(trainloader, 0):\n",
        "        # Get the inputs; data is a list of [inputs, labels]\n",
        "        inputs, labels = data\n",
        "\n",
        "        # Zero the parameter gradients\n",
        "        optimizer.zero_grad()\n",
        "\n",
        "        # Forward + backward + optimize\n",
        "        outputs = net(inputs)\n",
        "        loss = criterion(outputs, labels)\n",
        "        loss.backward()\n",
        "        optimizer.step()\n",
        "\n",
        "        # Print statistics\n",
        "        running_loss += loss.item() \n",
        "        if i % 2000 == 1999:    # Print every 2000 mini-batches\n",
        "            # Add code here\n",
        "            print(f'[{epoch + 1}, {i + 1:5d}] loss: {running_loss / 2000:.3f}')\n",
        "            running_loss = 0.0\n",
        "\n",
        "print('Finished Training')"
      ],
      "metadata": {
        "id": "m_WAigBgQ6EW",
        "colab": {
          "base_uri": "https://localhost:8080/"
        },
        "outputId": "6ac464a3-7577-45c6-ecfa-38f0457423f2"
      },
      "execution_count": null,
      "outputs": [
        {
          "output_type": "stream",
          "name": "stdout",
          "text": [
            "[1,  2000] loss: 2.214\n",
            "[1,  4000] loss: 1.877\n",
            "[1,  6000] loss: 1.675\n",
            "[1,  8000] loss: 1.576\n",
            "[1, 10000] loss: 1.498\n",
            "[1, 12000] loss: 1.454\n",
            "[2,  2000] loss: 1.388\n",
            "[2,  4000] loss: 1.334\n",
            "[2,  6000] loss: 1.316\n",
            "[2,  8000] loss: 1.286\n",
            "[2, 10000] loss: 1.297\n",
            "[2, 12000] loss: 1.263\n",
            "[3,  2000] loss: 1.187\n",
            "[3,  4000] loss: 1.178\n",
            "[3,  6000] loss: 1.168\n",
            "[3,  8000] loss: 1.170\n",
            "[3, 10000] loss: 1.157\n",
            "[3, 12000] loss: 1.128\n",
            "Finished Training\n"
          ]
        }
      ]
    },
    {
      "cell_type": "code",
      "source": [
        "# Test the network\n",
        "correct = 0\n",
        "total = 0\n",
        "# Since we're not training, we don't need to calculate the gradients for our outputs\n",
        "with torch.no_grad():\n",
        "    for data in testloader:\n",
        "        # Add code here...\n",
        "        images, labels = data\n",
        "\n",
        "        # Calculate outputs by running images through the network\n",
        "        outputs = net(images)\n",
        "\n",
        "        # The class with the highest energy is what we choose as prediction\n",
        "        _, predicted = torch.max(outputs.data, 1)\n",
        "        total += labels.size(0)\n",
        "        correct += (predicted == labels).sum().item()\n",
        "\n",
        "print(f'Accuracy of the network on the 10000 test images: {100 * correct // total} %')"
      ],
      "metadata": {
        "id": "fZQq7U4rRKNi",
        "colab": {
          "base_uri": "https://localhost:8080/"
        },
        "outputId": "6d694391-b5fa-46aa-910b-328fd65d819b"
      },
      "execution_count": null,
      "outputs": [
        {
          "output_type": "stream",
          "name": "stdout",
          "text": [
            "Accuracy of the network on the 10000 test images: 60 %\n"
          ]
        }
      ]
    },
    {
      "cell_type": "code",
      "source": [
        "# Define the loss and the optimizer\n",
        "import torch.optim as optim\n",
        "\n",
        "criterion = nn.CrossEntropyLoss()\n",
        "optimizer = optim.SGD(net.parameters(), lr=0.001, momentum=0.9)\n",
        "\n",
        "num_epochs = 10\n",
        "\n",
        "# Train the network\n",
        "for epoch in range(num_epochs):  # Loop over the dataset multiple times\n",
        "\n",
        "  running_loss = 0.0\n",
        "\n",
        "  for i, data in enumerate(trainloader, 0):\n",
        "      # Get the inputs; data is a list of [inputs, labels]\n",
        "      inputs, labels = data\n",
        "\n",
        "      # Zero the parameter gradients\n",
        "      optimizer.zero_grad()\n",
        "\n",
        "      # Forward + backward + optimize\n",
        "      outputs = net(inputs)\n",
        "      loss = criterion(outputs, labels)\n",
        "      loss.backward()\n",
        "      optimizer.step()\n",
        "\n",
        "      # Print statistics\n",
        "      running_loss += loss.item() \n",
        "      if i % 2000 == 1999:    # Print every 2000 mini-batches\n",
        "          # Add code here\n",
        "          print(f'[{epoch + 1}, {i + 1:5d}] loss: {running_loss / 2000:.3f}')\n",
        "          running_loss = 0.0\n",
        "        \n",
        "  # Test the network\n",
        "  correct = 0\n",
        "  total = 0\n",
        "  # Since we're not training, we don't need to calculate the gradients for our outputs\n",
        "  with torch.no_grad():\n",
        "      for data in testloader:\n",
        "          # Add code here...\n",
        "          images, labels = data\n",
        "\n",
        "          # Calculate outputs by running images through the network\n",
        "          outputs = net(images)\n",
        "\n",
        "          # The class with the highest energy is what we choose as prediction\n",
        "          _, predicted = torch.max(outputs.data, 1)\n",
        "          total += labels.size(0)\n",
        "          correct += (predicted == labels).sum().item()\n",
        "\n",
        "  print(f'Epoch:{epoch + 1}, Accuracy of the network on the 10000 test images: {100 * correct // total} %')\n",
        "\n",
        "print('Finished Training')"
      ],
      "metadata": {
        "colab": {
          "base_uri": "https://localhost:8080/"
        },
        "outputId": "b8d51c30-ac25-4182-938f-27ec8ed426c5",
        "id": "s3Kdm8WU7ycF"
      },
      "execution_count": null,
      "outputs": [
        {
          "output_type": "stream",
          "name": "stdout",
          "text": [
            "[1,  2000] loss: 2.124\n",
            "[1,  4000] loss: 1.786\n",
            "[1,  6000] loss: 1.609\n",
            "[1,  8000] loss: 1.550\n",
            "[1, 10000] loss: 1.528\n",
            "[1, 12000] loss: 1.463\n",
            "Epoch:1, Accuracy of the network on the 10000 test images: 47 %\n",
            "[2,  2000] loss: 1.397\n",
            "[2,  4000] loss: 1.384\n",
            "[2,  6000] loss: 1.364\n",
            "[2,  8000] loss: 1.346\n",
            "[2, 10000] loss: 1.320\n",
            "[2, 12000] loss: 1.274\n",
            "Epoch:2, Accuracy of the network on the 10000 test images: 53 %\n",
            "[3,  2000] loss: 1.212\n",
            "[3,  4000] loss: 1.233\n",
            "[3,  6000] loss: 1.198\n",
            "[3,  8000] loss: 1.206\n",
            "[3, 10000] loss: 1.194\n",
            "[3, 12000] loss: 1.198\n",
            "Epoch:3, Accuracy of the network on the 10000 test images: 57 %\n",
            "[4,  2000] loss: 1.104\n",
            "[4,  4000] loss: 1.123\n",
            "[4,  6000] loss: 1.110\n",
            "[4,  8000] loss: 1.130\n",
            "[4, 10000] loss: 1.139\n",
            "[4, 12000] loss: 1.119\n",
            "Epoch:4, Accuracy of the network on the 10000 test images: 59 %\n",
            "[5,  2000] loss: 1.048\n",
            "[5,  4000] loss: 1.043\n",
            "[5,  6000] loss: 1.054\n",
            "[5,  8000] loss: 1.043\n",
            "[5, 10000] loss: 1.047\n",
            "[5, 12000] loss: 1.068\n",
            "Epoch:5, Accuracy of the network on the 10000 test images: 59 %\n",
            "[6,  2000] loss: 0.969\n",
            "[6,  4000] loss: 0.982\n",
            "[6,  6000] loss: 1.008\n",
            "[6,  8000] loss: 0.996\n",
            "[6, 10000] loss: 1.005\n",
            "[6, 12000] loss: 0.986\n",
            "Epoch:6, Accuracy of the network on the 10000 test images: 61 %\n",
            "[7,  2000] loss: 0.908\n",
            "[7,  4000] loss: 0.917\n",
            "[7,  6000] loss: 0.942\n",
            "[7,  8000] loss: 0.965\n",
            "[7, 10000] loss: 0.967\n",
            "[7, 12000] loss: 0.956\n",
            "Epoch:7, Accuracy of the network on the 10000 test images: 62 %\n",
            "[8,  2000] loss: 0.857\n",
            "[8,  4000] loss: 0.892\n",
            "[8,  6000] loss: 0.913\n",
            "[8,  8000] loss: 0.911\n",
            "[8, 10000] loss: 0.934\n",
            "[8, 12000] loss: 0.914\n",
            "Epoch:8, Accuracy of the network on the 10000 test images: 62 %\n",
            "[9,  2000] loss: 0.825\n",
            "[9,  4000] loss: 0.846\n",
            "[9,  6000] loss: 0.888\n",
            "[9,  8000] loss: 0.868\n",
            "[9, 10000] loss: 0.889\n",
            "[9, 12000] loss: 0.896\n",
            "Epoch:9, Accuracy of the network on the 10000 test images: 62 %\n",
            "[10,  2000] loss: 0.789\n",
            "[10,  4000] loss: 0.820\n",
            "[10,  6000] loss: 0.839\n",
            "[10,  8000] loss: 0.868\n",
            "[10, 10000] loss: 0.867\n",
            "[10, 12000] loss: 0.869\n",
            "Epoch:10, Accuracy of the network on the 10000 test images: 61 %\n",
            "Finished Training\n"
          ]
        }
      ]
    },
    {
      "cell_type": "markdown",
      "source": [
        "Train more epochs by editing the code above. Can you get the accuracy better than 60%? Write your answer below in code or text form."
      ],
      "metadata": {
        "id": "fZzjS69egq2G"
      }
    },
    {
      "cell_type": "code",
      "source": [],
      "metadata": {
        "id": "QIiCkywnBZFs"
      },
      "execution_count": null,
      "outputs": []
    },
    {
      "cell_type": "markdown",
      "source": [
        "** Your answer here **  \n",
        "**Yes**  \n",
        "Epoch = 2,  accuracy = 53 %  \n",
        "Epoch = 3,  accuracy = 57 %  \n",
        "Epoch = 4,  accuracy = 59 %   \n",
        "Epoch = 5,  accuracy = 59 %  \n",
        "Epoch = 6,  accuracy = 61 %  \n",
        "Epoch = 7,  accuracy = 62 %  \n",
        "Epoch = 8,  accuracy = 62 %   \n",
        "Epoch = 9,  accuracy = 62 %  \n",
        "Epoch = 10,  accuracy = 61 %"
      ],
      "metadata": {
        "id": "HcYpuMkcg71c"
      }
    },
    {
      "cell_type": "markdown",
      "source": [
        "##Part 2: SVHN Classification \n",
        "Follow the tutorial from above, replicating steps using the SVHN dataset instead of the CIFAR10. "
      ],
      "metadata": {
        "id": "hUB6WhFLe3lp"
      }
    },
    {
      "cell_type": "code",
      "source": [
        "# Load the SVHN data\n",
        "import torch\n",
        "import torchvision\n",
        "import torchvision.transforms as transforms\n",
        "\n",
        "transform = transforms.Compose(\n",
        "    [transforms.ToTensor(),\n",
        "     transforms.Normalize((0.5, 0.5, 0.5), (0.5, 0.5, 0.5))])\n",
        "\n",
        "batch_size = 4\n",
        "\n",
        "trainset = torchvision.datasets.SVHN(root='./data', split='train', download=True, transform=transform)\n",
        "\n",
        "trainloader = torch.utils.data.DataLoader(trainset, batch_size=batch_size, shuffle=True)\n",
        "\n",
        "\n",
        "testset = torchvision.datasets.SVHN(root='./data', split='test', download=True, transform=transform)\n",
        "\n",
        "testloader = torch.utils.data.DataLoader(testset, batch_size=batch_size, shuffle=False)\n",
        "\n",
        "# Do not need the classes variable as there is no need to visualize"
      ],
      "metadata": {
        "id": "POwhJcWBVcXR",
        "colab": {
          "base_uri": "https://localhost:8080/"
        },
        "outputId": "f17a4571-9e55-423c-84d8-23e4264401c8"
      },
      "execution_count": null,
      "outputs": [
        {
          "output_type": "stream",
          "name": "stdout",
          "text": [
            "Using downloaded and verified file: ./data/train_32x32.mat\n",
            "Using downloaded and verified file: ./data/test_32x32.mat\n"
          ]
        }
      ]
    },
    {
      "cell_type": "code",
      "source": [
        "# Define the mdoel\n",
        "import torch.nn as nn\n",
        "import torch.nn.functional as F\n",
        "\n",
        "class Net(nn.Module):\n",
        "    def __init__(self):\n",
        "        # Add code here\n",
        "        super().__init__()\n",
        "        self.conv1 = nn.Conv2d(3, 6, 5)\n",
        "        self.pool = nn.MaxPool2d(2, 2)\n",
        "        self.conv2 = nn.Conv2d(6, 16, 5)\n",
        "        self.fc1 = nn.Linear(16 * 5 * 5, 120)\n",
        "        self.fc2 = nn.Linear(120, 84)\n",
        "        self.fc3 = nn.Linear(84, 10)\n",
        "\n",
        "    def forward(self, x):\n",
        "        # Add code here\n",
        "        x = self.pool(F.relu(self.conv1(x)))\n",
        "        x = self.pool(F.relu(self.conv2(x)))\n",
        "        x = torch.flatten(x, 1) # flatten all dimensions except batch\n",
        "        x = F.relu(self.fc1(x))\n",
        "        x = F.relu(self.fc2(x))\n",
        "        x = self.fc3(x)\n",
        "        return x\n",
        "\n",
        "net = Net()"
      ],
      "metadata": {
        "id": "0XCG7nsOWiRK"
      },
      "execution_count": null,
      "outputs": []
    },
    {
      "cell_type": "code",
      "source": [
        "# Define the loss and the optimizer\n",
        "import torch.optim as optim\n",
        "\n",
        "criterion = nn.CrossEntropyLoss()\n",
        "optimizer = optim.SGD(net.parameters(), lr=0.001, momentum=0.9)"
      ],
      "metadata": {
        "id": "nQKLiVJnW1T4"
      },
      "execution_count": null,
      "outputs": []
    },
    {
      "cell_type": "code",
      "source": [
        "# Train the network\n",
        "for epoch in range(10):  # Loop over the dataset multiple times\n",
        "\n",
        "  running_loss = 0.0\n",
        "\n",
        "  for i, data in enumerate(trainloader, 0):\n",
        "      # Get the inputs; data is a list of [inputs, labels]\n",
        "      inputs, labels = data\n",
        "\n",
        "      # Zero the parameter gradients\n",
        "      optimizer.zero_grad()\n",
        "\n",
        "      # Forward + backward + optimize\n",
        "      outputs = net(inputs)\n",
        "      loss = criterion(outputs, labels)\n",
        "      loss.backward()\n",
        "      optimizer.step()\n",
        "\n",
        "      # Print statistics\n",
        "      running_loss += loss.item() \n",
        "      if i % 2000 == 1999:    # Print every 2000 mini-batches\n",
        "          # Add code here\n",
        "          print(f'[{epoch + 1}, {i + 1:5d}] loss: {running_loss / 2000:.3f}')\n",
        "          running_loss = 0.0\n",
        "\n",
        "  # Test the network\n",
        "  correct = 0\n",
        "  total = 0\n",
        "  # Since we're not training, we don't need to calculate the gradients for our outputs\n",
        "  with torch.no_grad():\n",
        "      for data in testloader:\n",
        "          images, labels = data\n",
        "          # Calculate outputs by running images through the network\n",
        "          outputs = net(images)\n",
        "          # The class with the highest energy is what we choose as prediction\n",
        "          _, predicted = torch.max(outputs.data, 1)\n",
        "          total += labels.size(0) \n",
        "          correct += (predicted == labels).sum().item()\n",
        "\n",
        "  print(f'Accuracy of the network on the 10000 test images: {100 * correct // total} %')\n",
        "\n",
        "\n",
        "print('Finished Training')"
      ],
      "metadata": {
        "id": "m3vwNE90W3Q8",
        "colab": {
          "base_uri": "https://localhost:8080/"
        },
        "outputId": "1e4b0c46-60a5-45be-a782-1eabfbf655ff"
      },
      "execution_count": null,
      "outputs": [
        {
          "output_type": "stream",
          "name": "stdout",
          "text": [
            "[1,  2000] loss: 2.246\n",
            "[1,  4000] loss: 2.236\n",
            "[1,  6000] loss: 2.215\n",
            "[1,  8000] loss: 1.514\n",
            "[1, 10000] loss: 0.898\n",
            "[1, 12000] loss: 0.721\n",
            "[1, 14000] loss: 0.626\n",
            "[1, 16000] loss: 0.585\n",
            "[1, 18000] loss: 0.530\n",
            "Accuracy of the network on the 10000 test images: 82 %\n",
            "[2,  2000] loss: 0.517\n",
            "[2,  4000] loss: 0.491\n",
            "[2,  6000] loss: 0.479\n",
            "[2,  8000] loss: 0.504\n",
            "[2, 10000] loss: 0.459\n",
            "[2, 12000] loss: 0.453\n",
            "[2, 14000] loss: 0.453\n",
            "[2, 16000] loss: 0.455\n",
            "[2, 18000] loss: 0.424\n",
            "Accuracy of the network on the 10000 test images: 84 %\n",
            "[3,  2000] loss: 0.398\n",
            "[3,  4000] loss: 0.376\n",
            "[3,  6000] loss: 0.398\n",
            "[3,  8000] loss: 0.388\n",
            "[3, 10000] loss: 0.386\n",
            "[3, 12000] loss: 0.399\n",
            "[3, 14000] loss: 0.397\n",
            "[3, 16000] loss: 0.385\n",
            "[3, 18000] loss: 0.387\n",
            "Accuracy of the network on the 10000 test images: 87 %\n",
            "[4,  2000] loss: 0.346\n",
            "[4,  4000] loss: 0.337\n",
            "[4,  6000] loss: 0.332\n",
            "[4,  8000] loss: 0.367\n",
            "[4, 10000] loss: 0.346\n",
            "[4, 12000] loss: 0.347\n",
            "[4, 14000] loss: 0.348\n",
            "[4, 16000] loss: 0.343\n",
            "[4, 18000] loss: 0.350\n",
            "Accuracy of the network on the 10000 test images: 85 %\n",
            "[5,  2000] loss: 0.298\n",
            "[5,  4000] loss: 0.308\n",
            "[5,  6000] loss: 0.303\n",
            "[5,  8000] loss: 0.302\n",
            "[5, 10000] loss: 0.307\n",
            "[5, 12000] loss: 0.299\n",
            "[5, 14000] loss: 0.325\n",
            "[5, 16000] loss: 0.309\n",
            "[5, 18000] loss: 0.327\n",
            "Accuracy of the network on the 10000 test images: 86 %\n",
            "[6,  2000] loss: 0.265\n",
            "[6,  4000] loss: 0.281\n",
            "[6,  6000] loss: 0.289\n",
            "[6,  8000] loss: 0.285\n",
            "[6, 10000] loss: 0.287\n",
            "[6, 12000] loss: 0.288\n",
            "[6, 14000] loss: 0.290\n",
            "[6, 16000] loss: 0.292\n",
            "[6, 18000] loss: 0.281\n",
            "Accuracy of the network on the 10000 test images: 87 %\n",
            "[7,  2000] loss: 0.256\n",
            "[7,  4000] loss: 0.253\n",
            "[7,  6000] loss: 0.251\n",
            "[7,  8000] loss: 0.254\n",
            "[7, 10000] loss: 0.270\n",
            "[7, 12000] loss: 0.281\n",
            "[7, 14000] loss: 0.263\n",
            "[7, 16000] loss: 0.300\n",
            "[7, 18000] loss: 0.279\n",
            "Accuracy of the network on the 10000 test images: 87 %\n",
            "[8,  2000] loss: 0.223\n",
            "[8,  4000] loss: 0.236\n",
            "[8,  6000] loss: 0.235\n",
            "[8,  8000] loss: 0.250\n",
            "[8, 10000] loss: 0.242\n",
            "[8, 12000] loss: 0.258\n",
            "[8, 14000] loss: 0.256\n",
            "[8, 16000] loss: 0.258\n",
            "[8, 18000] loss: 0.281\n",
            "Accuracy of the network on the 10000 test images: 88 %\n",
            "[9,  2000] loss: 0.192\n",
            "[9,  4000] loss: 0.217\n",
            "[9,  6000] loss: 0.225\n",
            "[9,  8000] loss: 0.232\n",
            "[9, 10000] loss: 0.219\n",
            "[9, 12000] loss: 0.241\n",
            "[9, 14000] loss: 0.247\n",
            "[9, 16000] loss: 0.253\n",
            "[9, 18000] loss: 0.269\n",
            "Accuracy of the network on the 10000 test images: 88 %\n",
            "[10,  2000] loss: 0.191\n",
            "[10,  4000] loss: 0.202\n",
            "[10,  6000] loss: 0.205\n",
            "[10,  8000] loss: 0.229\n",
            "[10, 10000] loss: 0.241\n",
            "[10, 12000] loss: 0.223\n",
            "[10, 14000] loss: 0.220\n",
            "[10, 16000] loss: 0.236\n",
            "[10, 18000] loss: 0.227\n",
            "Accuracy of the network on the 10000 test images: 88 %\n",
            "Finished Training\n"
          ]
        }
      ]
    },
    {
      "cell_type": "markdown",
      "source": [
        "Can you get a better accuracy than your Homework 3? Write your answer below in code or text form. "
      ],
      "metadata": {
        "id": "uir-J3ZUhCwq"
      }
    },
    {
      "cell_type": "markdown",
      "source": [
        "** Your answer here **  \n",
        "Yes, in homework 3, when using MLPClassifier, I only get the test accuracy of 79.23%. In CNN Model, when epoch setting as 9, I can get 88% accuracy, is much higher."
      ],
      "metadata": {
        "id": "KOOSRVWnhKAP"
      }
    }
  ]
}