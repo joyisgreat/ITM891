{
  "cells": [
    {
      "cell_type": "markdown",
      "source": [
        "##Problem 1\n",
        "\n",
        "####(2 points)\n",
        "---\n",
        "\n"
      ],
      "metadata": {
        "id": "GQek1BoVk-0M"
      },
      "id": "GQek1BoVk-0M"
    },
    {
      "cell_type": "markdown",
      "source": [
        "Let's first generate a toy example. \n",
        "\n",
        "a) Sample x linearly from -10 to 10 with the length 20 using numpy."
      ],
      "metadata": {
        "id": "fDFjjGeYlY3L"
      },
      "id": "fDFjjGeYlY3L"
    },
    {
      "cell_type": "code",
      "source": [
        "import numpy as np\n",
        "import matplotlib.pyplot as plt\n",
        "\n",
        "# Add your code here\n",
        "x = np.linspace(-10,10,20)\n"
      ],
      "metadata": {
        "id": "9WsmjQbXmHqQ"
      },
      "id": "9WsmjQbXmHqQ",
      "execution_count": 30,
      "outputs": []
    },
    {
      "cell_type": "markdown",
      "source": [
        "b) The observation y is sampled as y = 4*x + 5 + noise, where noise is sampled from a standard Gaussian distribution N(0,1). Add these below."
      ],
      "metadata": {
        "id": "mVN1OzJllvAc"
      },
      "id": "mVN1OzJllvAc"
    },
    {
      "cell_type": "code",
      "execution_count": 31,
      "id": "5a3bf715",
      "metadata": {
        "scrolled": true,
        "id": "5a3bf715"
      },
      "outputs": [],
      "source": [
        "# Add your code here\n",
        "y =  4*x + 5 + np.random.normal(0,1,size = 20)"
      ]
    },
    {
      "cell_type": "markdown",
      "source": [
        "c) Plot all the samples (x,y) on a single 2d scatterplot."
      ],
      "metadata": {
        "id": "ICg2FbfBmO9f"
      },
      "id": "ICg2FbfBmO9f"
    },
    {
      "cell_type": "code",
      "source": [
        "# Add your code here\n",
        "plt.scatter(x, y)"
      ],
      "metadata": {
        "id": "RrbnAGWomTEc",
        "colab": {
          "base_uri": "https://localhost:8080/",
          "height": 283
        },
        "outputId": "32920171-283c-4996-c133-1fa72c1a5b73"
      },
      "id": "RrbnAGWomTEc",
      "execution_count": 32,
      "outputs": [
        {
          "output_type": "execute_result",
          "data": {
            "text/plain": [
              "<matplotlib.collections.PathCollection at 0x7f125757cd60>"
            ]
          },
          "metadata": {},
          "execution_count": 32
        },
        {
          "output_type": "display_data",
          "data": {
            "text/plain": [
              "<Figure size 432x288 with 1 Axes>"
            ],
            "image/png": "[encoded data removed]"
          },
          "metadata": {
            "needs_background": "light"
          }
        }
      ]
    },
    {
      "cell_type": "markdown",
      "source": [
        "d) Use the formula learned from the lecture to estimate a and b for y_pred = ax + b, calculating y_pred for x from -10 to 10. For help on this, reference the Lecture 7 notes, specifically the last slide. You will want to make use of the .mean() function. "
      ],
      "metadata": {
        "id": "pPG40OZGmZtl"
      },
      "id": "pPG40OZGmZtl"
    },
    {
      "cell_type": "code",
      "source": [
        "# model = LinearRegression()\n",
        "# model.fit(x.reshape(-1, 1), y)\n",
        "# y_pred = x * model.coef_ + model.intercept_\n",
        "# plt.figure()\n",
        "# plt.scatter(x, y)\n",
        "# plt.plot(x, y_pred)"
      ],
      "metadata": {
        "id": "m37UENbUwAMp"
      },
      "id": "m37UENbUwAMp",
      "execution_count": 36,
      "outputs": []
    },
    {
      "cell_type": "code",
      "source": [
        "# Add your code here\n",
        "a = sum((x-np.mean(x))*(y-np.mean(y)))/sum((x-np.mean(x))**2)\n",
        "\n",
        "b = np.mean(y) - a * np.mean(x)\n",
        "\n",
        "y_pred = a*x + b"
      ],
      "metadata": {
        "id": "S4GuDwaCmhxB"
      },
      "id": "S4GuDwaCmhxB",
      "execution_count": 37,
      "outputs": []
    },
    {
      "cell_type": "markdown",
      "source": [
        "e) Draw the line y_pred = ax + b. Does it align with (x,y) pairs really well? You may need to draw all the samples on the same plot with the line at the same time."
      ],
      "metadata": {
        "id": "d2pF7nelmmWH"
      },
      "id": "d2pF7nelmmWH"
    },
    {
      "cell_type": "code",
      "source": [
        "# Add your code here\n",
        "plt.figure()\n",
        "plt.scatter(x, y)\n",
        "plt.plot(x, y_pred)"
      ],
      "metadata": {
        "colab": {
          "base_uri": "https://localhost:8080/",
          "height": 283
        },
        "id": "XnDikpJfmqz_",
        "outputId": "e1f84d47-6143-4638-921b-1482006dbeb8"
      },
      "id": "XnDikpJfmqz_",
      "execution_count": 13,
      "outputs": [
        {
          "output_type": "execute_result",
          "data": {
            "text/plain": [
              "[<matplotlib.lines.Line2D at 0x7f126bd826d0>]"
            ]
          },
          "metadata": {},
          "execution_count": 13
        },
        {
          "output_type": "display_data",
          "data": {
            "text/plain": [
              "<Figure size 432x288 with 1 Axes>"
            ],
            "image/png": "[encoded data removed]"
          },
          "metadata": {
            "needs_background": "light"
          }
        }
      ]
    },
    {
      "cell_type": "markdown",
      "source": [
        "##Problem 2\n",
        "####(2 points)\n",
        "---\n",
        "\n"
      ],
      "metadata": {
        "id": "MqEKffRZnibL"
      },
      "id": "MqEKffRZnibL"
    },
    {
      "cell_type": "markdown",
      "source": [
        "A function f is said to be convex at an interval I if, for all pairs of\n",
        "points on the f(x) graph, the line segment that connects these two points passes above\n",
        "the f(x) curve.\n",
        "\n",
        "Consider f(x), a function that is twice continuously differentiable on an interval I. The function f is convex if f''(x) >\t0 for all x in I. "
      ],
      "metadata": {
        "id": "VddIZub-ufhb"
      },
      "id": "VddIZub-ufhb"
    },
    {
      "cell_type": "markdown",
      "source": [
        "Let's think about the convex problem.\n",
        "\n",
        "\n",
        "a) Is y = x^3 convex? You can answer this question by plotting y = x^3 and by finding the hessian (second derivative), and if np.sum(hessian < 0) returns a value > 0 then you know the function is NOT convex. Remember to sample x from -1 to 1."
      ],
      "metadata": {
        "id": "DS9xSJhpnlSW"
      },
      "id": "DS9xSJhpnlSW"
    },
    {
      "cell_type": "code",
      "source": [
        "# Plot the function \n",
        "x = np.linspace(-1,1)\n",
        "y = x**3\n",
        "\n",
        "plt.figure()\n",
        "plt.plot(x,y) \n",
        "\n",
        "# Find the gradient and hessian of y\n",
        "# f'(x) = 3*x**2\n",
        "# f''(x) = 6*x\n",
        "# Check if np.sum(f''(x) < 0)\n",
        "gradient_of_y = np.gradient(y)\n",
        "hessian_of_y = np.gradient(gradient_of_y)\n",
        "\n",
        "if np.sum(hessian_of_y[hessian_of_y < 0]) > 0:\n",
        "  print(\"The function is not convex\")\n",
        "else: \n",
        "  print(\"The function is convex\")\n",
        "\n",
        "# Is the function convex? \n",
        "# yes\n"
      ],
      "metadata": {
        "colab": {
          "base_uri": "https://localhost:8080/",
          "height": 283
        },
        "id": "fjzdLCtwoP__",
        "outputId": "25641902-8096-492f-e313-7519ba762ba5"
      },
      "id": "fjzdLCtwoP__",
      "execution_count": null,
      "outputs": [
        {
          "output_type": "stream",
          "name": "stdout",
          "text": [
            "The function is convex\n"
          ]
        },
        {
          "output_type": "display_data",
          "data": {
            "text/plain": [
              "<Figure size 432x288 with 1 Axes>"
            ],
            "image/png": "[encoded data removed]"
          },
          "metadata": {
            "needs_background": "light"
          }
        }
      ]
    },
    {
      "cell_type": "markdown",
      "source": [
        "b) Is y = x^4 convex? You can answer this question by plotting y = x^4 and by finding the hessian (second derivative), and if np.sum(hessian < 0) returns a value > 0 then you know the function is NOT convex. Remember to sample x from -1 to 1."
      ],
      "metadata": {
        "id": "SGqCVbGWoGId"
      },
      "id": "SGqCVbGWoGId"
    },
    {
      "cell_type": "code",
      "source": [
        "# Plot the function \n",
        "x = np.linspace(-1,1)\n",
        "y = x**4\n",
        "\n",
        "plt.figure()\n",
        "plt.plot(x,y) \n",
        "\n",
        "# Find the gradient and hessian of y\n",
        "# f'(x) = 4*x**3\n",
        "# f''(x) = 12*x**2\n",
        "# Check if np.sum(f''(x) < 0)\n",
        "gradient_of_y = np.gradient(y)\n",
        "hessian_of_y = np.gradient(gradient_of_y)\n",
        "\n",
        "if np.sum(hessian_of_y < 0) > 0:\n",
        "  print(\"The function is not convex\")\n",
        "else: \n",
        "  print(\"The function is convex\")\n",
        "\n",
        "# Is the function convex? \n",
        "# yes\n"
      ],
      "metadata": {
        "colab": {
          "base_uri": "https://localhost:8080/",
          "height": 283
        },
        "id": "5bP0E0GAoVcu",
        "outputId": "9625d043-4d1c-4cb4-cb71-9b533e0c43a8"
      },
      "id": "5bP0E0GAoVcu",
      "execution_count": null,
      "outputs": [
        {
          "output_type": "stream",
          "name": "stdout",
          "text": [
            "The function is convex\n"
          ]
        },
        {
          "output_type": "display_data",
          "data": {
            "text/plain": [
              "<Figure size 432x288 with 1 Axes>"
            ],
            "image/png": "[encoded data removed]"
          },
          "metadata": {
            "needs_background": "light"
          }
        }
      ]
    },
    {
      "cell_type": "markdown",
      "source": [
        "c) Is y = x^4 + x^3 convex? You can answer this question by plotting y = x^4 + x^3 and by finding the hessian (second derivative), and if np.sum(hessian < 0) returns a value > 0 then you know the function is NOT convex. You can focus on x from -10 to 10."
      ],
      "metadata": {
        "id": "8-2iyzkNoXYQ"
      },
      "id": "8-2iyzkNoXYQ"
    },
    {
      "cell_type": "code",
      "source": [
        "# Plot the function \n",
        "x = np.linspace(-10,10)\n",
        "y = x**4 + x**3\n",
        "\n",
        "plt.figure()\n",
        "plt.plot(x,y)  \n",
        "\n",
        "# Find the gradient and hessian of y\n",
        "# f'(x) = 4*X**3 + 3*X**2\n",
        "# f''(x) = 12*X**2 + 6*X\n",
        "# Check if np.sum(f''(x) < 0)\n",
        "gradient_of_y = np.gradient(y)\n",
        "hessian_of_y = np.gradient(gradient_of_y)\n",
        "\n",
        "if np.sum(hessian_of_y < 0) > 0:\n",
        "  print(\"The function is not convex\")\n",
        "else: \n",
        "  print(\"The function is convex\")\n",
        "\n",
        "# Is the function convex? \n",
        "# yes"
      ],
      "metadata": {
        "colab": {
          "base_uri": "https://localhost:8080/",
          "height": 283
        },
        "id": "-o15Onohol4W",
        "outputId": "bd194d65-01a3-4ffc-8eb2-de38e8d52195"
      },
      "id": "-o15Onohol4W",
      "execution_count": null,
      "outputs": [
        {
          "output_type": "stream",
          "name": "stdout",
          "text": [
            "The function is convex\n"
          ]
        },
        {
          "output_type": "display_data",
          "data": {
            "text/plain": [
              "<Figure size 432x288 with 1 Axes>"
            ],
            "image/png": "[encoded data removed]"
          },
          "metadata": {
            "needs_background": "light"
          }
        }
      ]
    },
    {
      "cell_type": "markdown",
      "source": [
        "d) Is y = x^4 + x^2 convex? You can answer this question by plotting y = x^4 + x^2 and by finding the hessian (second derivative), and if np.sum(hessian < 0) returns a value > 0 then you know the function is NOT convex. You can focus on x from -10 to 10."
      ],
      "metadata": {
        "id": "3zPgQQMiorzi"
      },
      "id": "3zPgQQMiorzi"
    },
    {
      "cell_type": "code",
      "source": [
        "# Plot the function \n",
        "x = np.linspace(-10,10)\n",
        "y = x**4 + x**2\n",
        "\n",
        "plt.figure()\n",
        "plt.plot(x,y)  \n",
        "\n",
        "# Find the gradient and hessian of y\n",
        "# f'(x) = 4*X**3 + 2*X\n",
        "# f''(x) = 12*X**2 + 2\n",
        "# Check if np.sum(f''(x) < 0)\n",
        "gradient_of_y = np.gradient(y)\n",
        "hessian_of_y = np.gradient(gradient_of_y)\n",
        "\n",
        "if np.sum(hessian_of_y < 0) > 0:\n",
        "  print(\"The function is not convex\")\n",
        "else: \n",
        "  print(\"The function is convex\")\n",
        "\n",
        "# Is the function convex? \n",
        "# yes"
      ],
      "metadata": {
        "colab": {
          "base_uri": "https://localhost:8080/",
          "height": 283
        },
        "id": "yA9aLSNaozM6",
        "outputId": "19f80d85-7399-4665-fc54-f842630a1198"
      },
      "id": "yA9aLSNaozM6",
      "execution_count": null,
      "outputs": [
        {
          "output_type": "stream",
          "name": "stdout",
          "text": [
            "The function is convex\n"
          ]
        },
        {
          "output_type": "display_data",
          "data": {
            "text/plain": [
              "<Figure size 432x288 with 1 Axes>"
            ],
            "image/png": "[encoded data removed]"
          },
          "metadata": {
            "needs_background": "light"
          }
        }
      ]
    },
    {
      "cell_type": "markdown",
      "source": [
        "e) Is y = x^2 + x + 1 convex? You can answer this question by plotting y = x^2 + x + 1 and by finding the hessian (second derivative), and if np.sum(hessian < 0) returns a value > 0 then you know the function is NOT convex. You can focus on x from -10 to 10."
      ],
      "metadata": {
        "id": "8hRLFPX5o1sC"
      },
      "id": "8hRLFPX5o1sC"
    },
    {
      "cell_type": "code",
      "execution_count": null,
      "id": "b87d814d",
      "metadata": {
        "id": "b87d814d",
        "colab": {
          "base_uri": "https://localhost:8080/",
          "height": 283
        },
        "outputId": "69719e0d-be02-493f-df60-3e2933872ce5"
      },
      "outputs": [
        {
          "output_type": "stream",
          "name": "stdout",
          "text": [
            "The function is convex\n"
          ]
        },
        {
          "output_type": "display_data",
          "data": {
            "text/plain": [
              "<Figure size 432x288 with 1 Axes>"
            ],
            "image/png": "[encoded data removed]"
          },
          "metadata": {
            "needs_background": "light"
          }
        }
      ],
      "source": [
        "# Plot the function \n",
        "x = np.linspace(-10,10)\n",
        "y = x**2 + x + 1\n",
        "\n",
        "plt.figure()\n",
        "plt.plot(x,y)  \n",
        "\n",
        "# Find the gradient and hessian of y\n",
        "# f'(x) = 2*X + 1\n",
        "# f''(x) = 2\n",
        "# Check if np.sum(f''(x) < 0)\n",
        "gradient_of_y = np.gradient(y)\n",
        "hessian_of_y = np.gradient(gradient_of_y)\n",
        "\n",
        "if np.sum(hessian_of_y < 0) > 0:\n",
        "  print(\"The function is not convex\")\n",
        "else: \n",
        "  print(\"The function is convex\")\n",
        "\n",
        "# Is the function convex? \n",
        "# yes"
      ]
    },
    {
      "cell_type": "markdown",
      "source": [
        "##Problem 3\n",
        "####(2 points)\n",
        "---\n",
        "\n"
      ],
      "metadata": {
        "id": "yGSopCfQpBL5"
      },
      "id": "yGSopCfQpBL5"
    },
    {
      "cell_type": "markdown",
      "source": [
        "Let's think about the gradient. \n",
        "\n",
        "a) What is the gradient of y = 2x^2 + 3x? Answer this question using math (hint: derivative). "
      ],
      "metadata": {
        "id": "uLXnVchzpD2h"
      },
      "id": "uLXnVchzpD2h"
    },
    {
      "cell_type": "markdown",
      "source": [
        "**4x+3**"
      ],
      "metadata": {
        "id": "rAYHeqhvpOQH"
      },
      "id": "rAYHeqhvpOQH"
    },
    {
      "cell_type": "markdown",
      "source": [
        "b) Plot y = 2x^2 + 3x and plot one line going through (1, 5) with the coefficient equal to the gradient of y = 2x^2 + 3x at x = 1."
      ],
      "metadata": {
        "id": "Nz5UTYFzpYna"
      },
      "id": "Nz5UTYFzpYna"
    },
    {
      "cell_type": "code",
      "source": [
        "import math\n",
        "# Plot the function\n",
        "x = np.linspace(-10,10)\n",
        "y = 2*x**2 + 3*x\n",
        "plt.figure()\n",
        "plt.plot(x,y)\n",
        "\n",
        "x0 = 1\n",
        "y0 = 5\n",
        "\n",
        "# Find the gradient of y and solve for it at x = 1\n",
        "y_grad = 4*1+3\n",
        "\n",
        "# Find y tangent and plot\n",
        "y_tan = y_grad*(x-x0) + y0\n",
        "print(y_tan)\n",
        "plt.plot(x, y_tan)\n",
        "plt.figure()\n"
      ],
      "metadata": {
        "colab": {
          "base_uri": "https://localhost:8080/",
          "height": 456
        },
        "id": "1oxsfIn_pjde",
        "outputId": "c5359568-d4b8-4210-e604-10435489a6fb"
      },
      "id": "1oxsfIn_pjde",
      "execution_count": null,
      "outputs": [
        {
          "output_type": "stream",
          "name": "stdout",
          "text": [
            "[-72.         -69.14285714 -66.28571429 -63.42857143 -60.57142857\n",
            " -57.71428571 -54.85714286 -52.         -49.14285714 -46.28571429\n",
            " -43.42857143 -40.57142857 -37.71428571 -34.85714286 -32.\n",
            " -29.14285714 -26.28571429 -23.42857143 -20.57142857 -17.71428571\n",
            " -14.85714286 -12.          -9.14285714  -6.28571429  -3.42857143\n",
            "  -0.57142857   2.28571429   5.14285714   8.          10.85714286\n",
            "  13.71428571  16.57142857  19.42857143  22.28571429  25.14285714\n",
            "  28.          30.85714286  33.71428571  36.57142857  39.42857143\n",
            "  42.28571429  45.14285714  48.          50.85714286  53.71428571\n",
            "  56.57142857  59.42857143  62.28571429  65.14285714  68.        ]\n"
          ]
        },
        {
          "output_type": "execute_result",
          "data": {
            "text/plain": [
              "<Figure size 432x288 with 0 Axes>"
            ]
          },
          "metadata": {},
          "execution_count": 4
        },
        {
          "output_type": "display_data",
          "data": {
            "text/plain": [
              "<Figure size 432x288 with 1 Axes>"
            ],
            "image/png": "[encoded data removed]"
          },
          "metadata": {
            "needs_background": "light"
          }
        }
      ]
    },
    {
      "cell_type": "markdown",
      "source": [
        "c) Plot y = ln(x) and plot one line going through (1, 0) with the coefficient equal to the gradient of y = ln(x). (Hint: d ln(x)/dx = 1/x.)"
      ],
      "metadata": {
        "id": "r-uwWHrvpl7v"
      },
      "id": "r-uwWHrvpl7v"
    },
    {
      "cell_type": "code",
      "source": [
        "# Plot the function\n",
        "x =np.linspace(0,10)\n",
        "y =np.log(x)\n",
        "plt.figure()\n",
        "plt.plot(x,y)\n",
        "x0 = 1\n",
        "y0 = 0\n",
        "\n",
        "# Find the gradient of y and solve for it at x = 1\n",
        "y_grad = 1/x0\n",
        "\n",
        "# Find y tangent and plot\n",
        "y_tan = y_grad*(x-x0) + y0\n",
        "plt.plot(x, y_tan)\n",
        "plt.figure()"
      ],
      "metadata": {
        "colab": {
          "base_uri": "https://localhost:8080/",
          "height": 358
        },
        "id": "hk7g1a3ypzrP",
        "outputId": "f788aae6-f6fb-42b7-a7d5-2f08a25240b7"
      },
      "id": "hk7g1a3ypzrP",
      "execution_count": null,
      "outputs": [
        {
          "output_type": "stream",
          "name": "stderr",
          "text": [
            "<ipython-input-74-940a8e9f4dff>:3: RuntimeWarning: divide by zero encountered in log\n",
            "  y =np.log(x)\n"
          ]
        },
        {
          "output_type": "execute_result",
          "data": {
            "text/plain": [
              "<Figure size 432x288 with 0 Axes>"
            ]
          },
          "metadata": {},
          "execution_count": 74
        },
        {
          "output_type": "display_data",
          "data": {
            "text/plain": [
              "<Figure size 432x288 with 1 Axes>"
            ],
            "image/png": "[encoded data removed]"
          },
          "metadata": {
            "needs_background": "light"
          }
        },
        {
          "output_type": "display_data",
          "data": {
            "text/plain": [
              "<Figure size 432x288 with 0 Axes>"
            ]
          },
          "metadata": {}
        }
      ]
    },
    {
      "cell_type": "markdown",
      "source": [
        "d) Plot y = e^x and plot one line going through (0, 1) with the coefficient equal to the gradient of y = e^x. (Hint: d e^x/dx = e^x.)"
      ],
      "metadata": {
        "id": "l0chM7PRp12O"
      },
      "id": "l0chM7PRp12O"
    },
    {
      "cell_type": "code",
      "execution_count": null,
      "id": "e5e67e2b",
      "metadata": {
        "id": "e5e67e2b",
        "colab": {
          "base_uri": "https://localhost:8080/",
          "height": 302
        },
        "outputId": "dcdcb8dd-2e41-4021-879d-e76a783b4398"
      },
      "outputs": [
        {
          "output_type": "execute_result",
          "data": {
            "text/plain": [
              "<Figure size 432x288 with 0 Axes>"
            ]
          },
          "metadata": {},
          "execution_count": 75
        },
        {
          "output_type": "display_data",
          "data": {
            "text/plain": [
              "<Figure size 432x288 with 1 Axes>"
            ],
            "image/png": "[encoded data removed]"
          },
          "metadata": {
            "needs_background": "light"
          }
        },
        {
          "output_type": "display_data",
          "data": {
            "text/plain": [
              "<Figure size 432x288 with 0 Axes>"
            ]
          },
          "metadata": {}
        }
      ],
      "source": [
        "# Plot the function\n",
        "x =np.linspace(0,10)\n",
        "y =np.exp(x)\n",
        "plt.figure()\n",
        "plt.plot(x,y)\n",
        "x0 = 0\n",
        "y0 = 1\n",
        "\n",
        "# Find the gradient of y and solve for it at x = 0\n",
        "y_grad = np.exp(x0)\n",
        "\n",
        "# Find y tangent and plot\n",
        "y_tan = y_grad*(x-x0) + y0\n",
        "plt.plot(x, y_tan)\n",
        "plt.figure()"
      ]
    },
    {
      "cell_type": "markdown",
      "source": [
        "##Problem 4\n",
        "####(2 points)\n",
        "---\n",
        "\n"
      ],
      "metadata": {
        "id": "GRTmSgWa104J"
      },
      "id": "GRTmSgWa104J"
    },
    {
      "cell_type": "markdown",
      "source": [
        "Let's think about the real-world MNIST dataset.\n",
        "\n",
        "\n",
        "a) Load the MNIST **test** csv. You can download it from \n",
        "https://www.kaggle.com/datasets/oddrationale/mnist-in-csv?select=mnist_test.csv"
      ],
      "metadata": {
        "id": "7n0fYUwK6VGp"
      },
      "id": "7n0fYUwK6VGp"
    },
    {
      "cell_type": "code",
      "source": [
        "import pandas as pd\n",
        "\n",
        "# Read into Pandas DataFrame\n",
        "data_pd = pd.read_csv('mnist_test.csv')\n",
        "\n",
        "# Make data a numpy array from data_pd\n",
        "data = np.array(data_pd)\n",
        "\n",
        "X = data[:,1:]\n",
        "y = data[:,0]\n",
        "# print(X,y)\n",
        "# data_pd"
      ],
      "metadata": {
        "id": "bZFesTKF6tXR"
      },
      "id": "bZFesTKF6tXR",
      "execution_count": 48,
      "outputs": []
    },
    {
      "cell_type": "markdown",
      "source": [
        "b) Extract the data with the label 0, 1, and 2 to make a 3-class dataset. We only want to focus on these first three classes. Hint: you're going to want to use binary masks. "
      ],
      "metadata": {
        "id": "NRdCAdDF6jUt"
      },
      "id": "NRdCAdDF6jUt"
    },
    {
      "cell_type": "code",
      "source": [
        "# Set these values\n",
        "data_3_class = X[:3,:]/255\n",
        "y = y[:3]\n",
        "print(data_3_class, y)"
      ],
      "metadata": {
        "id": "FzBUyZwS6rCy",
        "colab": {
          "base_uri": "https://localhost:8080/"
        },
        "outputId": "1215efaa-aecb-4bc4-8d3c-d57626dd68d3"
      },
      "id": "FzBUyZwS6rCy",
      "execution_count": 49,
      "outputs": [
        {
          "output_type": "stream",
          "name": "stdout",
          "text": [
            "[[0. 0. 0. ... 0. 0. 0.]\n",
            " [0. 0. 0. ... 0. 0. 0.]\n",
            " [0. 0. 0. ... 0. 0. 0.]] [7 2 1]\n"
          ]
        }
      ]
    },
    {
      "cell_type": "markdown",
      "source": [
        "c) Apply PCA to data_3_class and reduce its dimension to 3. Draw the distribution of 3D data in a 3d plot."
      ],
      "metadata": {
        "id": "3v4hhP4x7L6Y"
      },
      "id": "3v4hhP4x7L6Y"
    },
    {
      "cell_type": "code",
      "source": [
        "fig = plt.figure()\n",
        "from sklearn.decomposition import PCA\n",
        "\n",
        "# Add your code here\n",
        "from sklearn.preprocessing import StandardScaler\n",
        "std= StandardScaler()\n",
        "data_std = std.fit_transform(data_3_class)\n",
        "pca = PCA(n_components=3)\n",
        "data_reduced = pca.fit_transform(data_std)\n",
        "target = y\n",
        "# print(np.mean(data_reduced), target)\n",
        "# Plot the distribution - add your code here\n",
        "%matplotlib inline\n",
        "from mpl_toolkits import mplot3d\n",
        "ax = plt.axes(projection='3d')\n",
        "\n",
        "x_coords = data_reduced[:,0]\n",
        "y_coords = data_reduced[:,1]\n",
        "z_coords = data_reduced[:,2]\n",
        "\n",
        "for n in range(3):\n",
        "  ax.scatter3D(x_coords[n], y_coords[n], z_coords[n], label = target[n], cmap='hsv')\n",
        "plt.legend()\n",
        "\n",
        "plt.show()"
      ],
      "metadata": {
        "colab": {
          "base_uri": "https://localhost:8080/",
          "height": 248
        },
        "id": "Og8XLdGg7f4K",
        "outputId": "dba26bf6-b57d-48ab-9ffe-a53e205fa04c"
      },
      "id": "Og8XLdGg7f4K",
      "execution_count": 50,
      "outputs": [
        {
          "output_type": "display_data",
          "data": {
            "text/plain": [
              "<Figure size 432x288 with 1 Axes>"
            ],
            "image/png": "[encoded data removed]"
          },
          "metadata": {
            "needs_background": "light"
          }
        }
      ]
    },
    {
      "cell_type": "markdown",
      "source": [
        "d) Extract the first two principle components of the class 0 data. Set one as x and set the other as y. "
      ],
      "metadata": {
        "id": "n0Ps9OSY7slq"
      },
      "id": "n0Ps9OSY7slq"
    },
    {
      "cell_type": "code",
      "execution_count": 87,
      "id": "31f1b398",
      "metadata": {
        "id": "31f1b398"
      },
      "outputs": [],
      "source": [
        "# Set these values using data_reduced from above\n",
        "x = data_reduced[:,0]\n",
        "y = data_reduced[:,1]\n",
        "# plt.plot(x,y)\n",
        "# print(x,y)\n",
        "# print(x.shape,y.shape)"
      ]
    },
    {
      "cell_type": "code",
      "source": [
        "# a = sum((x-np.mean(x))*(y-np.mean(y)))/sum((x-np.mean(x))**2)\n",
        "\n",
        "# b = np.mean(y) - a * np.mean(x)\n",
        "# print(a,b)\n",
        "# y_pred = a*x + b\n",
        "\n",
        "# plt.figure()\n",
        "# plt.scatter(x, y)\n",
        "# plt.plot(x, y_pred)"
      ],
      "metadata": {
        "id": "ckaoqS5Et_5M"
      },
      "id": "ckaoqS5Et_5M",
      "execution_count": 74,
      "outputs": []
    },
    {
      "cell_type": "markdown",
      "source": [
        "e) Perform linear regression over y = ax + b and plot it, along with all the class-0 samples (x,y). "
      ],
      "metadata": {
        "id": "ZIadf_CO75DP"
      },
      "id": "ZIadf_CO75DP"
    },
    {
      "cell_type": "code",
      "source": [
        "plt.figure()\n",
        "from sklearn.linear_model import LinearRegression\n",
        "\n",
        "# Add your code here\n",
        "model = LinearRegression()\n",
        "model.fit(x.reshape(-1, 1), y)\n",
        "y_pred = x * model.coef_ + model.intercept_\n",
        "print(model.coef_ , model.intercept_)\n",
        "# Plot\n",
        "plt.figure()\n",
        "plt.scatter(x, y)\n",
        "plt.plot(x, y_pred)"
      ],
      "metadata": {
        "id": "UjWrHOrA8EiS",
        "colab": {
          "base_uri": "https://localhost:8080/",
          "height": 318
        },
        "outputId": "5248b865-107d-4cdb-9748-465de9b30b30"
      },
      "id": "UjWrHOrA8EiS",
      "execution_count": 70,
      "outputs": [
        {
          "output_type": "stream",
          "name": "stdout",
          "text": [
            "[0.] 1.7763568394002505e-15\n"
          ]
        },
        {
          "output_type": "execute_result",
          "data": {
            "text/plain": [
              "[<matplotlib.lines.Line2D at 0x7f125c3d28e0>]"
            ]
          },
          "metadata": {},
          "execution_count": 70
        },
        {
          "output_type": "display_data",
          "data": {
            "text/plain": [
              "<Figure size 432x288 with 0 Axes>"
            ]
          },
          "metadata": {}
        },
        {
          "output_type": "display_data",
          "data": {
            "text/plain": [
              "<Figure size 432x288 with 1 Axes>"
            ],
            "image/png": "[encoded data removed]"
          },
          "metadata": {
            "needs_background": "light"
          }
        }
      ]
    },
    {
      "cell_type": "markdown",
      "source": [
        "##Problem 5\n",
        "####(2 points)\n",
        "---\n",
        "\n"
      ],
      "metadata": {
        "id": "brXFpHBv8T6O"
      },
      "id": "brXFpHBv8T6O"
    },
    {
      "cell_type": "markdown",
      "source": [
        "We are going to work on a real-world regression dataset now. \n",
        "\n",
        "a) Load the sklearn.dataset diabetes dataset. Look at the documentation for how to load this in. "
      ],
      "metadata": {
        "id": "3pp5iqKI8XhK"
      },
      "id": "3pp5iqKI8XhK"
    },
    {
      "cell_type": "code",
      "source": [
        "from sklearn.datasets import load_diabetes\n",
        "\n",
        "# Add your code here\n",
        "data = load_diabetes()\n",
        "\n",
        "# Extract data and target from data as X and y using indexing\n",
        "X = data['data']\n",
        "y = data['target']\n"
      ],
      "metadata": {
        "id": "M6YSLXyl8iIz"
      },
      "id": "M6YSLXyl8iIz",
      "execution_count": 75,
      "outputs": []
    },
    {
      "cell_type": "markdown",
      "source": [
        "b) Use multi dimensional linear regression to regress y = a1x1 + a2x2 + ... + adxd."
      ],
      "metadata": {
        "id": "HIHNGAfo8lAo"
      },
      "id": "HIHNGAfo8lAo"
    },
    {
      "cell_type": "code",
      "source": [
        "# Add your code here to fit and to calculate y_pred\n",
        "from sklearn.linear_model import LinearRegression\n",
        "\n",
        "model = LinearRegression()\n",
        "model.fit(X,y)\n",
        "y_pred = X @ model.coef_ + model.intercept_\n"
      ],
      "metadata": {
        "id": "77oEBwjh8sIo"
      },
      "id": "77oEBwjh8sIo",
      "execution_count": 80,
      "outputs": []
    },
    {
      "cell_type": "code",
      "source": [
        "# model.coef_"
      ],
      "metadata": {
        "id": "AesZhbu5jc0B"
      },
      "id": "AesZhbu5jc0B",
      "execution_count": 81,
      "outputs": []
    },
    {
      "cell_type": "code",
      "source": [
        "# model.intercept_"
      ],
      "metadata": {
        "id": "3SSbl_xVjfFo"
      },
      "id": "3SSbl_xVjfFo",
      "execution_count": 82,
      "outputs": []
    },
    {
      "cell_type": "markdown",
      "source": [
        "c) Plot all (y, y_pred) on the same figure. Do they lie on the line y = x?"
      ],
      "metadata": {
        "id": "D8bzDl_f8t1a"
      },
      "id": "D8bzDl_f8t1a"
    },
    {
      "cell_type": "markdown",
      "source": [
        "**No**"
      ],
      "metadata": {
        "id": "P2-IURlP8_sF"
      },
      "id": "P2-IURlP8_sF"
    },
    {
      "cell_type": "code",
      "source": [
        "# Plot here\n",
        "plt.scatter(y,y_pred)"
      ],
      "metadata": {
        "id": "umP1jVOC80X3",
        "colab": {
          "base_uri": "https://localhost:8080/",
          "height": 284
        },
        "outputId": "4b7362f0-85d7-4267-97e8-b222ff38da1f"
      },
      "id": "umP1jVOC80X3",
      "execution_count": 84,
      "outputs": [
        {
          "output_type": "execute_result",
          "data": {
            "text/plain": [
              "<matplotlib.collections.PathCollection at 0x7f12688f3a30>"
            ]
          },
          "metadata": {},
          "execution_count": 84
        },
        {
          "output_type": "display_data",
          "data": {
            "text/plain": [
              "<Figure size 432x288 with 1 Axes>"
            ],
            "image/png": "[encoded data removed]"
          },
          "metadata": {
            "needs_background": "light"
          }
        }
      ]
    },
    {
      "cell_type": "markdown",
      "source": [
        "d) Consider the loss = (y-y_pred)**2. What is the loss of your regression model?"
      ],
      "metadata": {
        "id": "o5FOIqRF88qU"
      },
      "id": "o5FOIqRF88qU"
    },
    {
      "cell_type": "code",
      "execution_count": 86,
      "id": "f9be1a96",
      "metadata": {
        "id": "f9be1a96",
        "colab": {
          "base_uri": "https://localhost:8080/"
        },
        "outputId": "233c06d7-a7e6-4679-e48a-d1ef12717873"
      },
      "outputs": [
        {
          "output_type": "stream",
          "name": "stdout",
          "text": [
            "6.469887780018249\n"
          ]
        }
      ],
      "source": [
        "# Add your code to calculate loss\n",
        "loss = np.mean((y-y_pred)**2)*(1/len(y))\n",
        "print(loss)"
      ]
    }
  ],
  "metadata": {
    "kernelspec": {
      "display_name": "Python 3 (ipykernel)",
      "language": "python",
      "name": "python3"
    },
    "language_info": {
      "codemirror_mode": {
        "name": "ipython",
        "version": 3
      },
      "file_extension": ".py",
      "mimetype": "text/x-python",
      "name": "python",
      "nbconvert_exporter": "python",
      "pygments_lexer": "ipython3",
      "version": "3.9.13"
    },
    "colab": {
      "provenance": []
    }
  },
  "nbformat": 4,
  "nbformat_minor": 5
}