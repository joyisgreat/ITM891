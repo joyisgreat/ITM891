{
  "nbformat": 4,
  "nbformat_minor": 0,
  "metadata": {
    "colab": {
      "provenance": []
    },
    "kernelspec": {
      "name": "python3",
      "display_name": "Python 3"
    },
    "language_info": {
      "name": "python"
    }
  },
  "cells": [
    {
      "cell_type": "markdown",
      "source": [
        "Numpy Basics\n",
        "1. Given array a = [30, 45, 22, 75, 84] and array b = [67, 40, 90, 13, 56]:\n",
        "a. For every element e in a and b, calculate and print whether a[e] > b[e].\n",
        "b. Use a binary mask to change all values where a[e] > 30 to be set to 50.\n"
      ],
      "metadata": {
        "id": "sIDi_5In10kB"
      }
    },
    {
      "cell_type": "code",
      "execution_count": 9,
      "metadata": {
        "colab": {
          "base_uri": "https://localhost:8080/"
        },
        "id": "v9NnxZ281sEx",
        "outputId": "9f92cf18-b8a2-4a2a-c24e-22a1859351df"
      },
      "outputs": [
        {
          "output_type": "stream",
          "name": "stdout",
          "text": [
            "False\n",
            "True\n",
            "False\n",
            "True\n",
            "True\n",
            "[30 50 22 50 50]\n"
          ]
        }
      ],
      "source": [
        "import numpy as np\n",
        "\n",
        "a = np.array([30, 45, 22, 75, 84])\n",
        "b = np.array([67, 40, 90, 13, 56])\n",
        "for e in range(5):\n",
        "  print(a[e] > b[e])\n",
        "\n",
        "a[a > 30] = 50\n",
        "print(a)"
      ]
    },
    {
      "cell_type": "markdown",
      "source": [
        "2. Given array x = [[5, 2, 6, 1], [3, 4, 7, 2], [8, 1, 2, 9], [3, 4, 2, 6]], calculate the sum of the\n",
        "highlighted and bolded elements using indexing.\n"
      ],
      "metadata": {
        "id": "qOfcPnAq2Yj_"
      }
    },
    {
      "cell_type": "code",
      "source": [
        "x = np.array([[5, 2, 6, 1], [3, 4, 7, 2], [8, 1, 2, 9], [3, 4, 2, 6]])\n",
        "\n",
        "print(x[0, 2] + x[3, 1])"
      ],
      "metadata": {
        "colab": {
          "base_uri": "https://localhost:8080/"
        },
        "id": "hoR3rq2G2cSn",
        "outputId": "0e507f03-bf03-4da0-b5d5-a18dae2bf14f"
      },
      "execution_count": 10,
      "outputs": [
        {
          "output_type": "stream",
          "name": "stdout",
          "text": [
            "10\n"
          ]
        }
      ]
    },
    {
      "cell_type": "markdown",
      "source": [
        "3. Given array c = [[1, 0], [8, 1]] and array d = [[4, 1], [2, 2]], calculate the dot product of c\n",
        "and d.\n"
      ],
      "metadata": {
        "id": "nyOloE132dHM"
      }
    },
    {
      "cell_type": "code",
      "source": [
        "c = np.array([[1, 0], [8, 1]])\n",
        "d = np.array([[4, 1], [2, 2]])\n",
        "\n",
        "print(np.dot(c,d))"
      ],
      "metadata": {
        "colab": {
          "base_uri": "https://localhost:8080/"
        },
        "id": "08wFXSAF2cMm",
        "outputId": "77438519-e412-4640-d7e8-cafbeafba2c9"
      },
      "execution_count": 11,
      "outputs": [
        {
          "output_type": "stream",
          "name": "stdout",
          "text": [
            "[[ 4  1]\n",
            " [34 10]]\n"
          ]
        }
      ]
    },
    {
      "cell_type": "markdown",
      "source": [
        "4. Given array a = [[1, 4], [2, 9], [5, 6]], find the shape and transpose of a.\n"
      ],
      "metadata": {
        "id": "jsdYyzcz2ftn"
      }
    },
    {
      "cell_type": "code",
      "source": [
        "a = np.array([[1, 4], [2, 9], [5, 6]])\n",
        "print(a.shape)"
      ],
      "metadata": {
        "colab": {
          "base_uri": "https://localhost:8080/"
        },
        "id": "kKxA9P8R75kS",
        "outputId": "9d56de98-f669-4fa2-9ba6-36baae17ded9"
      },
      "execution_count": 12,
      "outputs": [
        {
          "output_type": "stream",
          "name": "stdout",
          "text": [
            "(3, 2)\n"
          ]
        }
      ]
    },
    {
      "cell_type": "markdown",
      "source": [
        "5. Given array x = [[1, 2], [3, 4]] and array y = [[5, 6], [7, 8], [9, 0]], stack the arrays in\n",
        "sequence vertically.\n",
        "\n"
      ],
      "metadata": {
        "id": "tN14JDvb2iqp"
      }
    },
    {
      "cell_type": "code",
      "source": [
        "x = np.array([[1, 2], [3, 4]])\n",
        "y = np.array([[5, 6], [7, 8], [9, 0]])\n",
        "\n",
        "np.vstack([x,y])"
      ],
      "metadata": {
        "colab": {
          "base_uri": "https://localhost:8080/"
        },
        "id": "XKXxHMG18KmZ",
        "outputId": "d0236337-9e29-462e-af8a-411a81735869"
      },
      "execution_count": 13,
      "outputs": [
        {
          "output_type": "execute_result",
          "data": {
            "text/plain": [
              "array([[1, 2],\n",
              "       [3, 4],\n",
              "       [5, 6],\n",
              "       [7, 8],\n",
              "       [9, 0]])"
            ]
          },
          "metadata": {},
          "execution_count": 13
        }
      ]
    },
    {
      "cell_type": "markdown",
      "source": [
        "Area and Probability with Numpy\n",
        "\n",
        "Hint: for all of the following problems, look into different ways you can use np.random.\n",
        "6. Calculate the area of x^2 + y^2 ≤ 1 by uniformly sampling x in [-1,1] and y in [-1,1]"
      ],
      "metadata": {
        "id": "kF8vB0ly8ukU"
      }
    },
    {
      "cell_type": "code",
      "source": [
        "import numpy as np\n",
        "\n",
        "trial = 10000\n",
        "x = np.random.uniform(-1, 1, size = trial)\n",
        "y = np.random.uniform(-1, 1, size = trial)\n",
        "z = x**2 + y**2\n",
        "\n",
        "print(np.sum(z <= 1)/trial)"
      ],
      "metadata": {
        "colab": {
          "base_uri": "https://localhost:8080/"
        },
        "id": "OyjqeoPc8v-R",
        "outputId": "b7c1b2d4-1e56-43d7-96f4-0c1a17bac24f"
      },
      "execution_count": 14,
      "outputs": [
        {
          "output_type": "stream",
          "name": "stdout",
          "text": [
            "0.7863\n"
          ]
        }
      ]
    },
    {
      "cell_type": "markdown",
      "source": [],
      "metadata": {
        "id": "tHgV26B4lAry"
      }
    },
    {
      "cell_type": "markdown",
      "source": [
        "7. Calculate the probability that x^2 + y^2 ≤ 1 if x and y are two standard Gaussian\n",
        "distribution variables."
      ],
      "metadata": {
        "id": "qFLlRZqZANbx"
      }
    },
    {
      "cell_type": "code",
      "source": [
        "import numpy as np\n",
        "\n",
        "trial = 100000\n",
        "x = np.random.randn(trial)\n",
        "y = np.random.randn(trial)\n",
        "z = x**2 + y**2\n",
        "\n",
        "print(np.sum(z <= 1)/trial)"
      ],
      "metadata": {
        "colab": {
          "base_uri": "https://localhost:8080/"
        },
        "id": "FTEzdgwVAUVp",
        "outputId": "34da2cf0-8f88-473a-995b-b5e8b3845a1c"
      },
      "execution_count": 15,
      "outputs": [
        {
          "output_type": "stream",
          "name": "stdout",
          "text": [
            "0.3959\n"
          ]
        }
      ]
    },
    {
      "cell_type": "code",
      "source": [
        "def Gaussian_distribution(trail):\n",
        "  x = np.random.randn(trial)\n",
        "  y = np.random.randn(trial)\n",
        "  z = x**2 + y**2\n",
        "  prob = np.sum(z <= 1)/trial\n",
        "  return prob\n",
        "\n",
        "for i in [100, 1000, 10000, 10000]:\n",
        "  print(f'After trying {i} times, the area of x**2 + y**2 <=1 is estimated to be {Gaussian_distribution(i)}')"
      ],
      "metadata": {
        "colab": {
          "base_uri": "https://localhost:8080/"
        },
        "id": "vYLmFfGmj9bA",
        "outputId": "9c791da5-0662-48bb-b1f9-1224aab6d97b"
      },
      "execution_count": 16,
      "outputs": [
        {
          "output_type": "stream",
          "name": "stdout",
          "text": [
            "After trying 100 times, the area of x**2 + y**2 <=1 is estimated to be 0.39325\n",
            "After trying 1000 times, the area of x**2 + y**2 <=1 is estimated to be 0.39232\n",
            "After trying 10000 times, the area of x**2 + y**2 <=1 is estimated to be 0.39329\n",
            "After trying 10000 times, the area of x**2 + y**2 <=1 is estimated to be 0.39137\n"
          ]
        }
      ]
    },
    {
      "cell_type": "markdown",
      "source": [
        "8. Calculate the probability that the sum of three dice is larger than 10 if you randomly roll the three dice."
      ],
      "metadata": {
        "id": "_xDeBjkCSpG6"
      }
    },
    {
      "cell_type": "code",
      "source": [
        "import numpy as np\n",
        "\n",
        "def prob(trail):\n",
        "  sample_data = np.random.randint(1,7,size = trail*3)\n",
        "  experitiments = sample_data.reshape(trail, 3)\n",
        "  results = experitiments.sum(-1)\n",
        "  larger_than_ten = np.sum(results < 10)\n",
        "  pb = larger_than_ten / trail\n",
        "  return pb\n",
        "\n",
        "for i in [100, 1000, 10000, 100000]:\n",
        "  print(f'After trying {i} times, the probability that sum of three dice larger than 10 is {prob(i)} ')"
      ],
      "metadata": {
        "id": "QZSUuNR6TnUp",
        "colab": {
          "base_uri": "https://localhost:8080/"
        },
        "outputId": "bafe2421-150c-44fc-b3ef-d4cd72a57729"
      },
      "execution_count": 17,
      "outputs": [
        {
          "output_type": "stream",
          "name": "stdout",
          "text": [
            "After trying 100 times, the probability that sum of three dice larger than 10 is 0.37 \n",
            "After trying 1000 times, the probability that sum of three dice larger than 10 is 0.384 \n",
            "After trying 10000 times, the probability that sum of three dice larger than 10 is 0.3813 \n",
            "After trying 100000 times, the probability that sum of three dice larger than 10 is 0.37653 \n"
          ]
        }
      ]
    }
  ]
}