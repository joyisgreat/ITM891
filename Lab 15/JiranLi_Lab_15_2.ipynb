{
  "nbformat": 4,
  "nbformat_minor": 0,
  "metadata": {
    "colab": {
      "provenance": [],
      "gpuType": "T4"
    },
    "kernelspec": {
      "name": "python3",
      "display_name": "Python 3"
    },
    "language_info": {
      "name": "python"
    },
    "accelerator": "GPU",
    "gpuClass": "standard"
  },
  "cells": [
    {
      "cell_type": "markdown",
      "source": [
        "##Problem 2 - Flowers102 Classification\n",
        "Note: for the last step, plot the testing accuracy curve across the epochs. To do this, remember to store all the accuracy numbers in a Python list during the training."
      ],
      "metadata": {
        "id": "n-4llKF3fNLt"
      }
    },
    {
      "cell_type": "code",
      "source": [
        "# Flowers102 classification\n",
        "import torch\n",
        "import torchvision\n",
        "from torchvision import transforms\n",
        "\n",
        "# Define the batch size\n",
        "batch_size = 10\n",
        "\n",
        "# Define the transform to normalize the data\n",
        "# Resize to 224x224 (height x width)\n",
        "transform = torchvision.transforms.Compose([\n",
        "    transforms.Resize((224, 224)), # Resize to 224x224 (height x width)\n",
        "    transforms.ToTensor(),\n",
        "    transforms.Normalize(mean=[0.485, 0.456, 0.406],\n",
        "                          std=[0.229, 0.224, 0.225])\n",
        "])\n",
        "\n",
        "# Load the training set\n",
        "trainset = torchvision.datasets.Flowers102(root='./data', split='train',\n",
        "                                        download=True, transform=transform)\n",
        "\n",
        "# Load the test set\n",
        "testset = torchvision.datasets.Flowers102(root='./data', split='val',\n",
        "                                       download=True, transform=transform)\n",
        "\n",
        "# Create data loaders to load the data in batches\n",
        "trainloader = torch.utils.data.DataLoader(trainset, batch_size=batch_size,\n",
        "                                          shuffle=True, num_workers=2)\n",
        "\n",
        "testloader = torch.utils.data.DataLoader(testset, batch_size=batch_size,\n",
        "                                         shuffle=False, num_workers=2)\n",
        "\n"
      ],
      "metadata": {
        "id": "nZm-Y4G7fNba"
      },
      "execution_count": null,
      "outputs": []
    },
    {
      "cell_type": "code",
      "source": [
        "dataiter = iter(testloader)\n",
        "dataiter"
      ],
      "metadata": {
        "colab": {
          "base_uri": "https://localhost:8080/"
        },
        "id": "eqBtygOtriuJ",
        "outputId": "fe890f24-939c-45fd-9dce-2f5baee59b4d"
      },
      "execution_count": null,
      "outputs": [
        {
          "output_type": "execute_result",
          "data": {
            "text/plain": [
              "<torch.utils.data.dataloader._MultiProcessingDataLoaderIter at 0x7ff27ed03670>"
            ]
          },
          "metadata": {},
          "execution_count": 51
        }
      ]
    },
    {
      "cell_type": "code",
      "source": [
        "images, labels = next(dataiter)"
      ],
      "metadata": {
        "id": "lPIraRoSrzIJ"
      },
      "execution_count": null,
      "outputs": []
    },
    {
      "cell_type": "code",
      "source": [
        "labels"
      ],
      "metadata": {
        "colab": {
          "base_uri": "https://localhost:8080/"
        },
        "id": "6ysox49Pr4DH",
        "outputId": "5219d8f4-f6b7-439f-8bb9-7d9022aa5c6a"
      },
      "execution_count": null,
      "outputs": [
        {
          "output_type": "execute_result",
          "data": {
            "text/plain": [
              "tensor([0, 0, 0, 0, 0, 0, 0, 0, 0, 0])"
            ]
          },
          "metadata": {},
          "execution_count": 53
        }
      ]
    },
    {
      "cell_type": "code",
      "source": [
        "# Define the model\n",
        "from torchvision.models import resnet18, ResNet18_Weights\n",
        "\n",
        "# Using pretrained weights:\n",
        "net = resnet18(weights=ResNet18_Weights.IMAGENET1K_V1).cuda()"
      ],
      "metadata": {
        "id": "sZbV8zEYfmJY"
      },
      "execution_count": null,
      "outputs": []
    },
    {
      "cell_type": "code",
      "source": [
        "# Define the loss and the optimizer\n",
        "import torch.optim as optim\n",
        "from torch.optim.lr_scheduler import CosineAnnealingLR\n",
        "import torch.nn as nn\n",
        "\n",
        "epochs = 10\n",
        "criterion = nn.CrossEntropyLoss()\n",
        "optimizer = optim.SGD(net.parameters(), lr=0.001, momentum=0.9)\n",
        "scheduler = CosineAnnealingLR(optimizer, epochs, eta_min=0, last_epoch=- 1, verbose=False)"
      ],
      "metadata": {
        "id": "ERM3FAUDfw7v"
      },
      "execution_count": null,
      "outputs": []
    },
    {
      "cell_type": "code",
      "source": [
        "# Train the network\n",
        "acc_list = []\n",
        "loss_list = []\n",
        "for epoch in range(epochs):  # Loop over the dataset multiple times\n",
        "    net.train()\n",
        "    running_loss = 0.0\n",
        "    for i, data in enumerate(trainloader, 0):\n",
        "        # Get the inputs; data is a list of [inputs, labels]\n",
        "        inputs, labels = data\n",
        "        inputs = inputs.cuda()\n",
        "        labels = labels.cuda()\n",
        "\n",
        "        # Zero the parameter gradients\n",
        "        optimizer.zero_grad()\n",
        "\n",
        "        # Forward + backward + optimize\n",
        "        outputs = net(inputs)\n",
        "        loss = criterion(outputs, labels)\n",
        "        loss.backward()\n",
        "        optimizer.step()\n",
        "\n",
        "        # Print statistics\n",
        "        running_loss += loss.item()\n",
        "        if i % 10 == 0:    # print every 2000 mini-batches\n",
        "            print(f'[{epoch + 1}, {i + 1:5d}] loss: {running_loss / 2000:.3f}')\n",
        "            running_loss = 0.0\n",
        "    loss_list.append(running_loss)\n",
        "    scheduler.step()\n",
        "            \n",
        "    # Test the network\n",
        "    net.eval()\n",
        "    correct = 0\n",
        "    total = 0\n",
        "    # Since we're not training, we don't need to calculate the gradients for our outputs\n",
        "    with torch.no_grad():\n",
        "        for data in testloader:\n",
        "            images, labels = data\n",
        "            images = images.cuda()\n",
        "            labels = labels.cuda()\n",
        "\n",
        "            # Calculate outputs by running images through the network\n",
        "            outputs = net(images)\n",
        "\n",
        "            # The class with the highest energy is what we choose as prediction\n",
        "            _, predicted = torch.max(outputs.data, 1)\n",
        "\n",
        "            total += labels.size(0)\n",
        "            correct += (predicted == labels).sum().item()\n",
        "\n",
        "        acc_list.append(100 * correct // total)\n",
        "\n",
        "    print(f'Accuracy : {100 * correct // total} %')\n",
        "print('Finished Training')\n",
        "\n",
        "# Save the model\n",
        "PATH = './cnn_mnist.pth'\n",
        "torch.save(net.state_dict(), PATH)\n",
        "\n",
        "# save the loss and accuracy using pickle\n",
        "import pickle\n",
        "with open('loss_list.pkl', 'wb') as f:\n",
        "    pickle.dump(loss_list, f)\n",
        "with open('acc_list.pkl', 'wb') as f:\n",
        "    pickle.dump(acc_list, f)"
      ],
      "metadata": {
        "id": "K2srG8BOfzr6",
        "colab": {
          "base_uri": "https://localhost:8080/"
        },
        "outputId": "b0318552-fd72-4ef9-ab59-3c602f219ad1"
      },
      "execution_count": null,
      "outputs": [
        {
          "output_type": "stream",
          "name": "stdout",
          "text": [
            "[1,     1] loss: 0.005\n",
            "[1,    11] loss: 0.046\n",
            "[1,    21] loss: 0.043\n",
            "[1,    31] loss: 0.035\n",
            "[1,    41] loss: 0.031\n",
            "[1,    51] loss: 0.028\n",
            "[1,    61] loss: 0.028\n",
            "[1,    71] loss: 0.023\n",
            "[1,    81] loss: 0.024\n",
            "[1,    91] loss: 0.021\n",
            "[1,   101] loss: 0.018\n",
            "Accuracy : 33 %\n",
            "[2,     1] loss: 0.001\n",
            "[2,    11] loss: 0.008\n",
            "[2,    21] loss: 0.008\n",
            "[2,    31] loss: 0.010\n",
            "[2,    41] loss: 0.007\n",
            "[2,    51] loss: 0.007\n",
            "[2,    61] loss: 0.007\n",
            "[2,    71] loss: 0.007\n",
            "[2,    81] loss: 0.005\n",
            "[2,    91] loss: 0.006\n",
            "[2,   101] loss: 0.005\n",
            "Accuracy : 60 %\n",
            "[3,     1] loss: 0.000\n",
            "[3,    11] loss: 0.002\n",
            "[3,    21] loss: 0.002\n",
            "[3,    31] loss: 0.002\n",
            "[3,    41] loss: 0.002\n",
            "[3,    51] loss: 0.002\n",
            "[3,    61] loss: 0.002\n",
            "[3,    71] loss: 0.002\n",
            "[3,    81] loss: 0.001\n",
            "[3,    91] loss: 0.002\n",
            "[3,   101] loss: 0.001\n",
            "Accuracy : 65 %\n",
            "[4,     1] loss: 0.000\n",
            "[4,    11] loss: 0.001\n",
            "[4,    21] loss: 0.001\n",
            "[4,    31] loss: 0.000\n",
            "[4,    41] loss: 0.001\n",
            "[4,    51] loss: 0.001\n",
            "[4,    61] loss: 0.001\n",
            "[4,    71] loss: 0.001\n",
            "[4,    81] loss: 0.001\n",
            "[4,    91] loss: 0.001\n",
            "[4,   101] loss: 0.001\n",
            "Accuracy : 67 %\n",
            "[5,     1] loss: 0.000\n",
            "[5,    11] loss: 0.000\n",
            "[5,    21] loss: 0.000\n",
            "[5,    31] loss: 0.000\n",
            "[5,    41] loss: 0.000\n",
            "[5,    51] loss: 0.001\n",
            "[5,    61] loss: 0.000\n",
            "[5,    71] loss: 0.000\n",
            "[5,    81] loss: 0.000\n",
            "[5,    91] loss: 0.000\n",
            "[5,   101] loss: 0.000\n",
            "Accuracy : 70 %\n",
            "[6,     1] loss: 0.000\n",
            "[6,    11] loss: 0.000\n",
            "[6,    21] loss: 0.000\n",
            "[6,    31] loss: 0.000\n",
            "[6,    41] loss: 0.000\n",
            "[6,    51] loss: 0.000\n",
            "[6,    61] loss: 0.000\n",
            "[6,    71] loss: 0.000\n",
            "[6,    81] loss: 0.000\n",
            "[6,    91] loss: 0.000\n",
            "[6,   101] loss: 0.000\n",
            "Accuracy : 70 %\n",
            "[7,     1] loss: 0.000\n",
            "[7,    11] loss: 0.000\n",
            "[7,    21] loss: 0.000\n",
            "[7,    31] loss: 0.000\n",
            "[7,    41] loss: 0.000\n",
            "[7,    51] loss: 0.000\n",
            "[7,    61] loss: 0.000\n",
            "[7,    71] loss: 0.000\n",
            "[7,    81] loss: 0.000\n",
            "[7,    91] loss: 0.000\n",
            "[7,   101] loss: 0.000\n",
            "Accuracy : 70 %\n",
            "[8,     1] loss: 0.000\n",
            "[8,    11] loss: 0.000\n",
            "[8,    21] loss: 0.000\n",
            "[8,    31] loss: 0.000\n",
            "[8,    41] loss: 0.000\n",
            "[8,    51] loss: 0.000\n",
            "[8,    61] loss: 0.000\n",
            "[8,    71] loss: 0.000\n",
            "[8,    81] loss: 0.000\n",
            "[8,    91] loss: 0.000\n",
            "[8,   101] loss: 0.000\n",
            "Accuracy : 71 %\n",
            "[9,     1] loss: 0.000\n",
            "[9,    11] loss: 0.000\n",
            "[9,    21] loss: 0.000\n",
            "[9,    31] loss: 0.000\n",
            "[9,    41] loss: 0.000\n",
            "[9,    51] loss: 0.000\n",
            "[9,    61] loss: 0.000\n",
            "[9,    71] loss: 0.001\n",
            "[9,    81] loss: 0.001\n",
            "[9,    91] loss: 0.000\n",
            "[9,   101] loss: 0.000\n",
            "Accuracy : 71 %\n",
            "[10,     1] loss: 0.000\n",
            "[10,    11] loss: 0.000\n",
            "[10,    21] loss: 0.000\n",
            "[10,    31] loss: 0.000\n",
            "[10,    41] loss: 0.000\n",
            "[10,    51] loss: 0.000\n",
            "[10,    61] loss: 0.000\n",
            "[10,    71] loss: 0.000\n",
            "[10,    81] loss: 0.000\n",
            "[10,    91] loss: 0.000\n",
            "[10,   101] loss: 0.000\n",
            "Accuracy : 70 %\n",
            "Finished Training\n"
          ]
        }
      ]
    },
    {
      "cell_type": "code",
      "source": [
        "# Plot the testing accuracy curve across the epochs\n",
        "# Remember to store all the accuracy numbers in a Python list during the training."
      ],
      "metadata": {
        "id": "c94NDzzrf1sK"
      },
      "execution_count": null,
      "outputs": []
    },
    {
      "cell_type": "code",
      "source": [
        "# load the loss and accuracy from pickle\n",
        "import pickle\n",
        "with open('loss_list.pkl', 'rb') as f:\n",
        "    loss_list = pickle.load(f)\n",
        "with open('acc_list.pkl', 'rb') as f:\n",
        "    acc_list = pickle.load(f)\n",
        "\n",
        "# plot the loss and accuracy\n",
        "import matplotlib.pyplot as plt\n",
        "plt.figure()\n",
        "plt.plot(loss_list)\n",
        "plt.title('Loss')\n",
        "plt.xlabel('Epoch')\n",
        "plt.ylabel('Loss')\n",
        "plt.savefig('loss.png')\n",
        "\n",
        "plt.figure()\n",
        "plt.plot(acc_list)\n",
        "plt.title('Accuracy')\n",
        "plt.xlabel('Epoch')\n",
        "plt.ylabel('Accuracy')\n",
        "plt.savefig('accuracy.png')"
      ],
      "metadata": {
        "id": "kFgqbpqji46r",
        "colab": {
          "base_uri": "https://localhost:8080/",
          "height": 927
        },
        "outputId": "e845ffb7-5ef2-4802-ec58-62799323d2a4"
      },
      "execution_count": null,
      "outputs": [
        {
          "output_type": "display_data",
          "data": {
            "text/plain": [
              "<Figure size 640x480 with 1 Axes>"
            ],
            "image/png": "[encoded data removed]"
          },
          "metadata": {}
        },
        {
          "output_type": "display_data",
          "data": {
            "text/plain": [
              "<Figure size 640x480 with 1 Axes>"
            ],
            "image/png": "[encoded data removed]"
          },
          "metadata": {}
        }
      ]
    }
  ]
}