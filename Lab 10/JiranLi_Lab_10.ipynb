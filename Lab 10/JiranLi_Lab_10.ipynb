{
  "nbformat": 4,
  "nbformat_minor": 0,
  "metadata": {
    "colab": {
      "provenance": []
    },
    "kernelspec": {
      "name": "python3",
      "display_name": "Python 3"
    },
    "language_info": {
      "name": "python"
    },
    "accelerator": "TPU",
    "gpuClass": "standard"
  },
  "cells": [
    {
      "cell_type": "markdown",
      "source": [
        "### Problem 1: Generating Some Data As A Toy Example\n",
        "\n"
      ],
      "metadata": {
        "id": "qtt-crrf_Kth"
      }
    },
    {
      "cell_type": "markdown",
      "source": [
        "Generate three clusters of data as A, B, and C. \n",
        "\n",
        "* A = 10 (x,y) samples from the gaussian distribution, with mean=(0,0), cov=I, i.\n",
        "e., N(mean,std)\n",
        "\n",
        "* B = 10 (x,y) samples from the gaussian distribution, with mean=(4,4), cov=I, i.e., N(mean,std)\n",
        "\n",
        "* C = 10 (x,y) samples from the gaussian distribution, with mean=(-4,4), cov=I, i.e., N(mean,std)\n",
        "\n",
        "*Hint: use the multivariate_normal function, and set the mean, covariance, and size for each cluster.*"
      ],
      "metadata": {
        "id": "8-JtNg1qVEKW"
      }
    },
    {
      "cell_type": "code",
      "source": [
        "import numpy as np\n",
        "# Add code here to generate the three clusters\n",
        "A = np.random.multivariate_normal(mean=[0,0],cov=np.eye(2),size=10)\n",
        "B = np.random.multivariate_normal(mean=[4,4],cov=np.eye(2),size=10)\n",
        "C = np.random.multivariate_normal(mean=[-4,4],cov=np.eye(2),size=10)"
      ],
      "metadata": {
        "id": "OS8Q_A0PB10T"
      },
      "execution_count": null,
      "outputs": []
    },
    {
      "cell_type": "code",
      "source": [
        "A, A.shape"
      ],
      "metadata": {
        "colab": {
          "base_uri": "https://localhost:8080/"
        },
        "id": "UvVc5xfBzflZ",
        "outputId": "2aeaac2c-960a-4922-b0c7-0948b710b2c0"
      },
      "execution_count": null,
      "outputs": [
        {
          "output_type": "execute_result",
          "data": {
            "text/plain": [
              "(array([[ 0.4542712 ,  0.8164693 ],\n",
              "        [ 1.01003777, -0.43922498],\n",
              "        [-0.45757273,  0.37217153],\n",
              "        [ 0.99591456,  1.55040653],\n",
              "        [-0.31486885, -2.42496089],\n",
              "        [-0.92450504, -1.04012058],\n",
              "        [ 1.40484836,  0.83636291],\n",
              "        [-0.01831467, -1.30559553],\n",
              "        [ 0.44910736, -0.32347643],\n",
              "        [ 0.24141477, -0.20617815]]), (10, 2))"
            ]
          },
          "metadata": {},
          "execution_count": 85
        }
      ]
    },
    {
      "cell_type": "markdown",
      "source": [
        "Visualize the true distribution of the samples by plotting them in a scatter plot. Plot the x and y coordinates for each sample in A, B, and C. Try to use a for loop to do this. "
      ],
      "metadata": {
        "id": "dXL-G-GxXsIP"
      }
    },
    {
      "cell_type": "code",
      "source": [
        "import matplotlib.pyplot as plt\n",
        "color_list = ['r','g','b']\n",
        "sample_lists = [A,B,C]\n",
        "# Add your code here\n",
        "for index, datas in enumerate(sample_lists):\n",
        "  plt.scatter(datas[:,0],datas[:,1],c=color_list[index])"
      ],
      "metadata": {
        "id": "TGD8RXxdbegZ",
        "colab": {
          "base_uri": "https://localhost:8080/",
          "height": 265
        },
        "outputId": "e9bb0936-2e52-4a3f-9ab7-7170546324db"
      },
      "execution_count": null,
      "outputs": [
        {
          "output_type": "display_data",
          "data": {
            "text/plain": [
              "<Figure size 432x288 with 1 Axes>"
            ],
            "image/png": "[encoded data removed]"
          },
          "metadata": {
            "needs_background": "light"
          }
        }
      ]
    },
    {
      "cell_type": "markdown",
      "source": [
        "### Problem 2: How can we cluster these points if we do not know the labels?"
      ],
      "metadata": {
        "id": "qDHKZuT9G0pD"
      }
    },
    {
      "cell_type": "markdown",
      "source": [
        "First, mix and shuffle the data, which includes A, B, and C. There's a function in the numpy library that will do this. \n",
        "\n",
        "Then, visualize the data through a scatter plot. "
      ],
      "metadata": {
        "id": "o4hDPTxean17"
      }
    },
    {
      "cell_type": "code",
      "source": [
        "# Add your code here to mix and shuffle the data. Make sure data contains A, B, and C.\n",
        "data = np.concatenate([A,B,C])\n",
        "print(data.shape)\n",
        "# Add your code to visualize the samples through a scatter plot\n",
        "plt.scatter(data[:,0],data[:,1])"
      ],
      "metadata": {
        "colab": {
          "base_uri": "https://localhost:8080/",
          "height": 300
        },
        "id": "AvKhOTAXG4BT",
        "outputId": "c9988de2-2ad9-4c91-e32b-8d6d49d5cf51"
      },
      "execution_count": null,
      "outputs": [
        {
          "output_type": "stream",
          "name": "stdout",
          "text": [
            "(30, 2)\n"
          ]
        },
        {
          "output_type": "execute_result",
          "data": {
            "text/plain": [
              "<matplotlib.collections.PathCollection at 0x7fa42eab7f70>"
            ]
          },
          "metadata": {},
          "execution_count": 87
        },
        {
          "output_type": "display_data",
          "data": {
            "text/plain": [
              "<Figure size 432x288 with 1 Axes>"
            ],
            "image/png": "[encoded data removed]"
          },
          "metadata": {
            "needs_background": "light"
          }
        }
      ]
    },
    {
      "cell_type": "markdown",
      "source": [
        "Now, implement the K-Means algorithm yourself. \n"
      ],
      "metadata": {
        "id": "qZyhgzicgbAf"
      }
    },
    {
      "cell_type": "code",
      "source": [
        "# How many clusters should you have? Set the value of K based on the number of clusters you created in Problem 1.\n",
        "K = 3\n",
        "# Select three random points as initial centers (pick any three coordinates)\n",
        "c1 = np.array([1,1]) \n",
        "c2 = np.array([2,2]) \n",
        "c3 = np.array([1,3]) \n",
        "centers = np.vstack([c1,c2,c3])\n",
        "\n",
        "# Now visualize the center and the samples. You can add a 'marker' parameter in the numpy scatterplot function to visualize where the center is. \n",
        "plt.scatter(data[:,0],data[:,1])\n",
        "plt.scatter(centers[:,0],centers[:,1],marker = '+')\n",
        "\n",
        "# print(data,centers)"
      ],
      "metadata": {
        "colab": {
          "base_uri": "https://localhost:8080/",
          "height": 282
        },
        "id": "x-dob_kcHC8L",
        "outputId": "5ae753c1-a3ed-45c8-d513-4649e504a07f"
      },
      "execution_count": null,
      "outputs": [
        {
          "output_type": "execute_result",
          "data": {
            "text/plain": [
              "<matplotlib.collections.PathCollection at 0x7fa42e998e80>"
            ]
          },
          "metadata": {},
          "execution_count": 88
        },
        {
          "output_type": "display_data",
          "data": {
            "text/plain": [
              "<Figure size 432x288 with 1 Axes>"
            ],
            "image/png": "[encoded data removed]"
          },
          "metadata": {
            "needs_background": "light"
          }
        }
      ]
    },
    {
      "cell_type": "code",
      "source": [
        "# Create a new empty array of zeros to store the distances in \n",
        "dist = np.zeros([len(data),len(centers)])\n",
        "print(dist.shape)"
      ],
      "metadata": {
        "id": "oGMkzaMzHEKO",
        "colab": {
          "base_uri": "https://localhost:8080/"
        },
        "outputId": "aa2b338a-6694-443b-e038-ab1b29063479"
      },
      "execution_count": null,
      "outputs": [
        {
          "output_type": "stream",
          "name": "stdout",
          "text": [
            "(30, 3)\n"
          ]
        }
      ]
    },
    {
      "cell_type": "code",
      "source": [
        "# Iterate through the clusters and fill the distance array \n",
        "# Calculate the distance between the sample to each class center. You can do this using the norm function.\n",
        "for d_id,d in enumerate(data):\n",
        "  for c_id, c in enumerate(centers):\n",
        "    dist[d_id,c_id] = np.sum((d - c)**2)\n",
        "dist"
      ],
      "metadata": {
        "id": "pI-J0UX8KsH_",
        "colab": {
          "base_uri": "https://localhost:8080/"
        },
        "outputId": "906aee7e-e38e-4963-8fbf-9ba88bfc4f00"
      },
      "execution_count": null,
      "outputs": [
        {
          "output_type": "execute_result",
          "data": {
            "text/plain": [
              "array([[ 0.33150344,  3.79002243,  5.06562623],\n",
              "       [ 2.0714693 ,  6.92984371, 11.82836921],\n",
              "       [ 2.51868687,  8.68948928,  9.03000076],\n",
              "       [ 0.30296404,  1.21032186,  2.10133792],\n",
              "       [13.45923723, 24.93889672, 31.1590808 ],\n",
              "       [ 7.86581161, 17.79506284, 20.02629393],\n",
              "       [ 0.19067929,  1.70825674,  4.84522763],\n",
              "       [ 6.35273551, 15.00055591, 19.57511763],\n",
              "       [ 2.05507256,  7.8038107 , 11.34897827],\n",
              "       [ 2.03031728,  7.95984403, 10.85502987],\n",
              "       [23.44212654, 12.37814113, 18.48536618],\n",
              "       [23.68446022, 12.18341838, 11.50059317],\n",
              "       [17.01659482,  7.49374782,  7.66160274],\n",
              "       [17.43077744,  7.8165197 ,  7.68221966],\n",
              "       [ 6.83436272,  1.50643725,  4.49457186],\n",
              "       [ 9.79548466,  3.39209274,  8.17541475],\n",
              "       [34.85895996, 20.24992103, 20.5145521 ],\n",
              "       [19.21180817,  9.73145258, 16.4107582 ],\n",
              "       [ 9.86413193,  2.98083367,  4.97261681],\n",
              "       [26.0846134 , 13.74454662, 17.48793186],\n",
              "       [46.67294095, 56.79890017, 41.26743376],\n",
              "       [26.04511954, 31.57676568, 19.58075083],\n",
              "       [17.52580664, 24.2686115 , 15.41908362],\n",
              "       [55.80118033, 58.51172357, 39.39527096],\n",
              "       [31.44245607, 34.71803139, 20.90940855],\n",
              "       [52.96170717, 57.29312568, 38.84176521],\n",
              "       [21.03341876, 24.64783218, 13.77689517],\n",
              "       [58.01373223, 63.44095566, 44.17210526],\n",
              "       [39.26620675, 41.57078531, 25.84969939],\n",
              "       [19.88398293, 29.880962  , 22.12800402]])"
            ]
          },
          "metadata": {},
          "execution_count": 90
        }
      ]
    },
    {
      "cell_type": "code",
      "source": [
        "# Assign the class of each sample to the closest center. You can use the numpy function argmin, \n",
        "# which returns the indices of the minimum values along an axis.\n",
        "labels = np.argmin(dist,axis=1)\n",
        "print(labels)"
      ],
      "metadata": {
        "colab": {
          "base_uri": "https://localhost:8080/"
        },
        "id": "JA6ayEAeKAhQ",
        "outputId": "dfb86ef9-471f-4952-e130-f10ee3e5c9dd"
      },
      "execution_count": null,
      "outputs": [
        {
          "output_type": "stream",
          "name": "stdout",
          "text": [
            "[0 0 0 0 0 0 0 0 0 0 1 2 1 2 1 1 1 1 1 1 2 2 2 2 2 2 2 2 2 0]\n"
          ]
        }
      ]
    },
    {
      "cell_type": "code",
      "source": [
        "# color_list = ['r','g','b']\n",
        "# sample_lists = [A,B,C]\n",
        "# Visualize the initial cluster results for the three clusters: \n",
        "plt.figure()\n",
        "for i in range(K):\n",
        "  plt.scatter(data[labels==i][:,0],data[labels==i][:,1],c= color_list[i])"
      ],
      "metadata": {
        "colab": {
          "base_uri": "https://localhost:8080/",
          "height": 265
        },
        "id": "EMf8ZNe_bJHe",
        "outputId": "236c4353-f2ab-43f1-aa68-2ff95a7b6fcc"
      },
      "execution_count": null,
      "outputs": [
        {
          "output_type": "display_data",
          "data": {
            "text/plain": [
              "<Figure size 432x288 with 1 Axes>"
            ],
            "image/png": "[encoded data removed]"
          },
          "metadata": {
            "needs_background": "light"
          }
        }
      ]
    },
    {
      "cell_type": "code",
      "source": [
        "# Find new centers and assign new labels to the samples, then visualize again\n",
        "# create an empty array with 2 columns\n",
        "centers = np.empty((0,2))\n",
        "for i in range(K):\n",
        "  c = np.mean(data[labels==i], axis=0)\n",
        "  centers = np.vstack((centers,c))\n",
        "centers"
      ],
      "metadata": {
        "colab": {
          "base_uri": "https://localhost:8080/"
        },
        "id": "aPo78Bu6Wafr",
        "outputId": "18a9699d-969a-44d9-8137-c1208a4ebea0"
      },
      "execution_count": null,
      "outputs": [
        {
          "output_type": "execute_result",
          "data": {
            "text/plain": [
              "array([[-0.0542865 , -0.06592287],\n",
              "       [ 4.19864222,  3.52828962],\n",
              "       [-2.57682515,  4.53369501]])"
            ]
          },
          "metadata": {},
          "execution_count": 93
        }
      ]
    },
    {
      "cell_type": "code",
      "source": [
        "# Calculate the new distance the way you did before\n",
        "dist = np.zeros([len(data),len(centers)])\n",
        "for d_id,d in enumerate(data):\n",
        "  for c_id, c in enumerate(centers):\n",
        "    dist[d_id,c_id] = np.sum((d - c)**2)\n",
        "\n",
        "# Assign new labels like you did before using argmin\n",
        "labels = np.argmin(dist,axis=1)\n",
        "\n",
        "# Visualize the data again \n",
        "for i in range(K):\n",
        "    plt.scatter(data[labels==i][:,0],data[labels==i][:,1],c= color_list[i])\n",
        "\n",
        "# Plot the centers as a scatter plot\n",
        "plt.scatter(centers[:,0],centers[:,1],marker = '+')"
      ],
      "metadata": {
        "colab": {
          "base_uri": "https://localhost:8080/",
          "height": 282
        },
        "id": "D04-xAn4KiXD",
        "outputId": "039ac186-adc5-41ab-bd60-4177b06a04ab"
      },
      "execution_count": null,
      "outputs": [
        {
          "output_type": "execute_result",
          "data": {
            "text/plain": [
              "<matplotlib.collections.PathCollection at 0x7fa42e8c4a90>"
            ]
          },
          "metadata": {},
          "execution_count": 94
        },
        {
          "output_type": "display_data",
          "data": {
            "text/plain": [
              "<Figure size 432x288 with 1 Axes>"
            ],
            "image/png": "[encoded data removed]"
          },
          "metadata": {
            "needs_background": "light"
          }
        }
      ]
    },
    {
      "cell_type": "code",
      "source": [
        "# Iterate finding new centers and assigning new labels 5 times. Hint: you have all the code for one time above. \n",
        "for iter in range(5):\n",
        "  # Find new centers\n",
        "  centers = np.empty((0,2))\n",
        "  for i in range(K):\n",
        "    c = np.mean(data[labels==i], axis=0)\n",
        "    centers = np.vstack((centers,c))\n",
        "\n",
        "  # Calculate the new distance\n",
        "  dist = np.zeros([len(data),len(centers)])\n",
        "  for d_id,d in enumerate(data):\n",
        "    for c_id, c in enumerate(centers):\n",
        "      dist[d_id,c_id] = np.sum((d - c)**2)\n",
        "\n",
        "  # Assign new labels\n",
        "  labels = np.argmin(dist,axis=1)\n",
        "\n",
        "  # Visualize in 5 figures respectively to see the convergence\n",
        "  plt.figure()\n",
        "  for i in range(K):\n",
        "    plt.scatter(data[labels==i][:,0],data[labels==i][:,1],c= color_list[i])\n",
        "\n",
        "  # Plot the centers as a scatter plot\n",
        "  plt.scatter(centers[:,0],centers[:,1],marker = '+')"
      ],
      "metadata": {
        "colab": {
          "base_uri": "https://localhost:8080/",
          "height": 1000
        },
        "id": "qjgL94dDMFOK",
        "outputId": "b2ddd10d-fc51-471a-ae29-22a9b837a341"
      },
      "execution_count": null,
      "outputs": [
        {
          "output_type": "display_data",
          "data": {
            "text/plain": [
              "<Figure size 432x288 with 1 Axes>"
            ],
            "image/png": "[encoded data removed]"
          },
          "metadata": {
            "needs_background": "light"
          }
        },
        {
          "output_type": "display_data",
          "data": {
            "text/plain": [
              "<Figure size 432x288 with 1 Axes>"
            ],
            "image/png": "[encoded data removed]"
          },
          "metadata": {
            "needs_background": "light"
          }
        },
        {
          "output_type": "display_data",
          "data": {
            "text/plain": [
              "<Figure size 432x288 with 1 Axes>"
            ],
            "image/png": "[encoded data removed]"
          },
          "metadata": {
            "needs_background": "light"
          }
        },
        {
          "output_type": "display_data",
          "data": {
            "text/plain": [
              "<Figure size 432x288 with 1 Axes>"
            ],
            "image/png": "[encoded data removed]"
          },
          "metadata": {
            "needs_background": "light"
          }
        },
        {
          "output_type": "display_data",
          "data": {
            "text/plain": [
              "<Figure size 432x288 with 1 Axes>"
            ],
            "image/png": "[encoded data removed]"
          },
          "metadata": {
            "needs_background": "light"
          }
        }
      ]
    }
  ]
}